{
  "nbformat": 4,
  "nbformat_minor": 0,
  "metadata": {
    "colab": {
      "name": "emre çalışma dosyası.ipü,ynb",
      "provenance": [],
      "authorship_tag": "ABX9TyNORcnRQJetx3gyTfyhzJjT",
      "include_colab_link": true
    },
    "kernelspec": {
      "display_name": "Python 3",
      "name": "python3"
    },
    "language_info": {
      "name": "python"
    }
  },
  "cells": [
    {
      "cell_type": "markdown",
      "metadata": {
        "id": "view-in-github",
        "colab_type": "text"
      },
      "source": [
        "<a href=\"https://colab.research.google.com/github/fuzzlex/fuzzlex/blob/main/emre_%C3%A7al%C4%B1%C5%9Fma_dosyas%C4%B1_ip%C3%BC%2Cynb.ipynb\" target=\"_parent\"><img src=\"https://colab.research.google.com/assets/colab-badge.svg\" alt=\"Open In Colab\"/></a>"
      ]
    },
    {
      "cell_type": "code",
      "metadata": {
        "colab": {
          "base_uri": "https://localhost:8080/"
        },
        "id": "Mr86lTeOERHY",
        "outputId": "1307899b-e0da-463d-ddd8-8eab7b30ec00"
      },
      "source": [
        "k = [\"(\"]"
      ],
      "execution_count": null,
      "outputs": [
        {
          "output_type": "stream",
          "text": [
            "what is uopr age? 65125612\n",
            "-65125587\n",
            "HELLO WORLD\n"
          ],
          "name": "stdout"
        }
      ]
    },
    {
      "cell_type": "code",
      "metadata": {
        "colab": {
          "base_uri": "https://localhost:8080/"
        },
        "id": "uDH4jWQLKmj5",
        "outputId": "b1bad4db-aad5-4f7a-90a4-0d413b4e944d"
      },
      "source": [
        "print(3.14)"
      ],
      "execution_count": null,
      "outputs": [
        {
          "output_type": "stream",
          "text": [
            "3.14\n"
          ],
          "name": "stdout"
        }
      ]
    },
    {
      "cell_type": "code",
      "metadata": {
        "colab": {
          "base_uri": "https://localhost:8080/"
        },
        "id": "AfA7ztpbma7u",
        "outputId": "bd9b02d5-c9ea-4622-b7a5-20f911f51049"
      },
      "source": [
        "isim=input(\"isminiz nedir\")\n",
        "dogum=input(\"dogum yılınız kac\")\n",
        "es=input(\"esinizin ismi nedir\")\n",
        "yas=2021-int(dogum)\n",
        "print(isim.upper(),yas,\"YAŞINDASIN VE  \",es.upper(),\"SENİ ÇOK SEVİYOR\")\n"
      ],
      "execution_count": null,
      "outputs": [
        {
          "output_type": "stream",
          "text": [
            "isminiz nedirEMRE\n",
            "dogum yılınız kac1990\n",
            "esinizin ismi nedirbüşra\n",
            "EMRE 31 YAŞINDASIN VE   BÜŞRA SENİ ÇOK SEVİYOR\n"
          ],
          "name": "stdout"
        }
      ]
    },
    {
      "cell_type": "code",
      "metadata": {
        "colab": {
          "base_uri": "https://localhost:8080/"
        },
        "id": "RvpfsYQ6o8GE",
        "outputId": "4a4f2fa0-2689-47ce-eaf5-75ba6937d993"
      },
      "source": [
        "x=\"dsmnfmsdnfds\"\n",
        "y=\"jkndsnfcnsakldmsa\"\n",
        "x=z\n",
        "x=\"nba\"\n",
        "print(x)\n",
        "print(y)\n",
        "print(z)"
      ],
      "execution_count": null,
      "outputs": [
        {
          "output_type": "stream",
          "text": [
            "nba\n",
            "jkndsnfcnsakldmsa\n",
            "jkndsnfcnsakldmsa\n"
          ],
          "name": "stdout"
        }
      ]
    },
    {
      "cell_type": "code",
      "metadata": {
        "colab": {
          "base_uri": "https://localhost:8080/"
        },
        "id": "ugQ3H2_Asgpr",
        "outputId": "a11f6bc4-76b4-46be-c042-7ddbf7027d49"
      },
      "source": [
        "x=\"dsmnfmsdnfds\"\n",
        "y=\"jkndsnfcnsakldmsa\"\n",
        "z=x\n",
        "x=\"nba\"\n",
        "print(x)\n",
        "print(y)\n",
        "print(z)\n"
      ],
      "execution_count": null,
      "outputs": [
        {
          "output_type": "stream",
          "text": [
            "nba\n",
            "jkndsnfcnsakldmsa\n",
            "dsmnfmsdnfds\n"
          ],
          "name": "stdout"
        }
      ]
    },
    {
      "cell_type": "code",
      "metadata": {
        "colab": {
          "base_uri": "https://localhost:8080/"
        },
        "id": "6J48s9lx1Ntr",
        "outputId": "a1d56ed7-ce4c-45a5-99c4-c12eea4f0776"
      },
      "source": [
        "pi=3\n",
        "donus=float(pi)\n",
        "print(donus)\n",
        "print(type(donus))"
      ],
      "execution_count": null,
      "outputs": [
        {
          "output_type": "stream",
          "text": [
            "3.0\n",
            "<class 'float'>\n"
          ],
          "name": "stdout"
        }
      ]
    },
    {
      "cell_type": "code",
      "metadata": {
        "colab": {
          "base_uri": "https://localhost:8080/",
          "height": 35
        },
        "id": "RxDvY1Pp9neD",
        "outputId": "71cb7a11-07ee-4ad4-a756-f5b8037b1ea5"
      },
      "source": [
        "\"clarus\" + \"way\""
      ],
      "execution_count": null,
      "outputs": [
        {
          "output_type": "execute_result",
          "data": {
            "application/vnd.google.colaboratory.intrinsic+json": {
              "type": "string"
            },
            "text/plain": [
              "'clarusway'"
            ]
          },
          "metadata": {
            "tags": []
          },
          "execution_count": 18
        }
      ]
    },
    {
      "cell_type": "code",
      "metadata": {
        "colab": {
          "base_uri": "https://localhost:8080/"
        },
        "id": "WO6XyAHj-5jp",
        "outputId": "21e92d9e-404a-4ee1-e43d-ab6706d18687"
      },
      "source": [
        "print(int(\"5\" + \"1\"))\n",
        "print(str(\"5\" + \"1\"))\n",
        "print(\"5\" + \"1\")"
      ],
      "execution_count": null,
      "outputs": [
        {
          "output_type": "stream",
          "text": [
            "51\n",
            "51\n",
            "51\n"
          ],
          "name": "stdout"
        }
      ]
    },
    {
      "cell_type": "code",
      "metadata": {
        "colab": {
          "base_uri": "https://localhost:8080/"
        },
        "id": "YUsDkhIVCiKE",
        "outputId": "cfda8008-65fd-4ff3-833f-a5ae1177b88a"
      },
      "source": [
        "r,pi=5,3.14\n",
        "area=pi*r**2\n",
        "print(float(area))\n"
      ],
      "execution_count": null,
      "outputs": [
        {
          "output_type": "stream",
          "text": [
            "78.5\n"
          ],
          "name": "stdout"
        }
      ]
    },
    {
      "cell_type": "code",
      "metadata": {
        "colab": {
          "base_uri": "https://localhost:8080/"
        },
        "id": "tTo4gS3gHIX0",
        "outputId": "ab1fa54e-0437-4a9d-f694-ce3bfb3b8b37"
      },
      "source": [
        "x = input(\"bir sayı gir\")\n",
        "y = input(\"bir sayı gir\")\n",
        "print(x+y)\n"
      ],
      "execution_count": null,
      "outputs": [
        {
          "output_type": "stream",
          "text": [
            "bir sayı gire\n",
            "bir sayı gird\n",
            "ed\n"
          ],
          "name": "stdout"
        }
      ]
    },
    {
      "cell_type": "code",
      "metadata": {
        "colab": {
          "base_uri": "https://localhost:8080/"
        },
        "id": "yuS4zh2ujaYg",
        "outputId": "9c9fc5da-210a-458b-941f-c7baed84804d"
      },
      "source": [
        "21 % 7"
      ],
      "execution_count": null,
      "outputs": [
        {
          "output_type": "execute_result",
          "data": {
            "text/plain": [
              "0"
            ]
          },
          "metadata": {
            "tags": []
          },
          "execution_count": 4
        }
      ]
    },
    {
      "cell_type": "code",
      "metadata": {
        "colab": {
          "base_uri": "https://localhost:8080/"
        },
        "id": "RwXMw_4KjeTi",
        "outputId": "a68f9f3c-529d-4ab0-a708-219ce8ad7e71"
      },
      "source": [
        "0 or 5"
      ],
      "execution_count": null,
      "outputs": [
        {
          "output_type": "execute_result",
          "data": {
            "text/plain": [
              "5"
            ]
          },
          "metadata": {
            "tags": []
          },
          "execution_count": 5
        }
      ]
    },
    {
      "cell_type": "code",
      "metadata": {
        "colab": {
          "base_uri": "https://localhost:8080/"
        },
        "id": "vzF_zeh4jnwb",
        "outputId": "d232581a-6e92-4562-bba5-2d781738aae5"
      },
      "source": [
        "22 // 4"
      ],
      "execution_count": null,
      "outputs": [
        {
          "output_type": "execute_result",
          "data": {
            "text/plain": [
              "5"
            ]
          },
          "metadata": {
            "tags": []
          },
          "execution_count": 6
        }
      ]
    },
    {
      "cell_type": "code",
      "metadata": {
        "id": "2ZXRD1yJkH4v"
      },
      "source": [
        "\n"
      ],
      "execution_count": null,
      "outputs": []
    },
    {
      "cell_type": "code",
      "metadata": {
        "colab": {
          "base_uri": "https://localhost:8080/"
        },
        "id": "p_rl0w-vlAFn",
        "outputId": "1fe539ea-b882-4fc3-a5a2-eb7d771369fe"
      },
      "source": [
        "kadayıf =True\n",
        "\n",
        "#iç\n",
        "fındık = True\n",
        "fıstık = True\n",
        "ceviz = True\n",
        "\n",
        "#şerbet\n",
        "su = True\n",
        "şeker = True\n",
        "\n",
        "yumurta = True\n",
        "\n",
        "#içecek\n",
        "çay = True\n",
        "limonata = True\n",
        "meşrubat = True\n",
        "yedim = kadayıf and (fındık or fıstık or ceviz) and (su and şeker) and yumurta and (çay or limonata or meşrubat)\n",
        "print(yedim)"
      ],
      "execution_count": null,
      "outputs": [
        {
          "output_type": "stream",
          "text": [
            "True\n"
          ],
          "name": "stdout"
        }
      ]
    },
    {
      "cell_type": "code",
      "metadata": {
        "id": "Oa5YEnWh3esO"
      },
      "source": [
        ""
      ],
      "execution_count": null,
      "outputs": []
    },
    {
      "cell_type": "code",
      "metadata": {
        "colab": {
          "base_uri": "https://localhost:8080/"
        },
        "id": "XQeXTOIAol7U",
        "outputId": "942409b6-7d45-4427-9229-8d75342a6f06"
      },
      "source": [
        "print(\"\\\"\")"
      ],
      "execution_count": null,
      "outputs": [
        {
          "output_type": "stream",
          "text": [
            "\"\n"
          ],
          "name": "stdout"
        }
      ]
    },
    {
      "cell_type": "code",
      "metadata": {
        "colab": {
          "base_uri": "https://localhost:8080/",
          "height": 35
        },
        "id": "kBLGoOPtqkQi",
        "outputId": "91913d97-299b-4fdf-99f4-00d29626e456"
      },
      "source": [
        "parça = \"clarusway\"[2:5]\n",
        "parça"
      ],
      "execution_count": null,
      "outputs": [
        {
          "output_type": "execute_result",
          "data": {
            "application/vnd.google.colaboratory.intrinsic+json": {
              "type": "string"
            },
            "text/plain": [
              "'aru'"
            ]
          },
          "metadata": {
            "tags": []
          },
          "execution_count": 24
        }
      ]
    },
    {
      "cell_type": "code",
      "metadata": {
        "colab": {
          "base_uri": "https://localhost:8080/",
          "height": 35
        },
        "id": "s_65xopvtIcP",
        "outputId": "7fbee469-879d-4e22-e20d-132e23b567c0"
      },
      "source": [
        "parça = \"clarusway\"[2:5:1]\n",
        "parça"
      ],
      "execution_count": null,
      "outputs": [
        {
          "output_type": "execute_result",
          "data": {
            "application/vnd.google.colaboratory.intrinsic+json": {
              "type": "string"
            },
            "text/plain": [
              "'aru'"
            ]
          },
          "metadata": {
            "tags": []
          },
          "execution_count": 25
        }
      ]
    },
    {
      "cell_type": "code",
      "metadata": {
        "colab": {
          "base_uri": "https://localhost:8080/",
          "height": 35
        },
        "id": "4ml4yGCf3gk0",
        "outputId": "f9ad65b1-0889-4fb6-df9a-9626069ee006"
      },
      "source": [
        "ben = \"emrekaya\"\n",
        "ben[-5:-2:-1]\n"
      ],
      "execution_count": null,
      "outputs": [
        {
          "output_type": "execute_result",
          "data": {
            "application/vnd.google.colaboratory.intrinsic+json": {
              "type": "string"
            },
            "text/plain": [
              "''"
            ]
          },
          "metadata": {
            "tags": []
          },
          "execution_count": 29
        }
      ]
    },
    {
      "cell_type": "code",
      "metadata": {
        "colab": {
          "base_uri": "https://localhost:8080/"
        },
        "id": "CByb0sNV3y2F",
        "outputId": "215814de-35f6-473c-8428-796799e9d571"
      },
      "source": [
        "ben = \"  abc  \"\n",
        "len(ben)"
      ],
      "execution_count": null,
      "outputs": [
        {
          "output_type": "execute_result",
          "data": {
            "text/plain": [
              "7"
            ]
          },
          "metadata": {
            "tags": []
          },
          "execution_count": 30
        }
      ]
    },
    {
      "cell_type": "code",
      "metadata": {
        "colab": {
          "base_uri": "https://localhost:8080/",
          "height": 35
        },
        "id": "7yFSJFxP5B9P",
        "outputId": "c61bc2dc-cc87-4765-f2c0-b75df7aa0f5b"
      },
      "source": [
        "\"upper-\" * 3"
      ],
      "execution_count": null,
      "outputs": [
        {
          "output_type": "execute_result",
          "data": {
            "application/vnd.google.colaboratory.intrinsic+json": {
              "type": "string"
            },
            "text/plain": [
              "'upper-upper-upper-'"
            ]
          },
          "metadata": {
            "tags": []
          },
          "execution_count": 32
        }
      ]
    },
    {
      "cell_type": "code",
      "metadata": {
        "colab": {
          "base_uri": "https://localhost:8080/"
        },
        "id": "O2k20IPB5KYM",
        "outputId": "b1afc043-1333-4d0b-f083-e4e7e566574a"
      },
      "source": [
        "print(* \"upper\")\n",
        "print(* \"upper\".split())"
      ],
      "execution_count": null,
      "outputs": [
        {
          "output_type": "stream",
          "text": [
            "u p p e r\n",
            "upper\n"
          ],
          "name": "stdout"
        }
      ]
    },
    {
      "cell_type": "code",
      "metadata": {
        "colab": {
          "base_uri": "https://localhost:8080/"
        },
        "id": "EhZMv38rCZkw",
        "outputId": "979f3150-b442-4a4a-c7b5-94283770a855"
      },
      "source": [
        "a = \"I am angry\"\n",
        "k = print(* a)\n",
        "list(a)"
      ],
      "execution_count": null,
      "outputs": [
        {
          "output_type": "stream",
          "text": [
            "I   a m   a n g r y\n"
          ],
          "name": "stdout"
        },
        {
          "output_type": "execute_result",
          "data": {
            "text/plain": [
              "['I', ' ', 'a', 'm', ' ', 'a', 'n', 'g', 'r', 'y']"
            ]
          },
          "metadata": {
            "tags": []
          },
          "execution_count": 13
        }
      ]
    },
    {
      "cell_type": "code",
      "metadata": {
        "colab": {
          "base_uri": "https://localhost:8080/",
          "height": 35
        },
        "id": "YfZzmQxpDcpg",
        "outputId": "d0953752-a9ff-4a6e-b0c9-dcda0e216145"
      },
      "source": [
        "s1 = \"clarus\"\n",
        "s1 += \"way\"\n",
        "s1 *=2\n",
        "s1"
      ],
      "execution_count": null,
      "outputs": [
        {
          "output_type": "execute_result",
          "data": {
            "application/vnd.google.colaboratory.intrinsic+json": {
              "type": "string"
            },
            "text/plain": [
              "'claruswayclarusway'"
            ]
          },
          "metadata": {
            "tags": []
          },
          "execution_count": 36
        }
      ]
    },
    {
      "cell_type": "code",
      "metadata": {
        "colab": {
          "base_uri": "https://localhost:8080/",
          "height": 35
        },
        "id": "r2wmzq0cEnU4",
        "outputId": "d110b731-22c1-42e6-9dd9-d49c8aa8f65f"
      },
      "source": [
        "\"emre kaya {} geliyordakfjsdkop oaıj asıjd {} a.\".format(\"kaya\", \"mıdır?\")"
      ],
      "execution_count": null,
      "outputs": [
        {
          "output_type": "execute_result",
          "data": {
            "application/vnd.google.colaboratory.intrinsic+json": {
              "type": "string"
            },
            "text/plain": [
              "'emre kaya kaya geliyordakfjsdkop oaıj asıjd mıdır? a.'"
            ]
          },
          "metadata": {
            "tags": []
          },
          "execution_count": 37
        }
      ]
    },
    {
      "cell_type": "code",
      "metadata": {
        "colab": {
          "base_uri": "https://localhost:8080/",
          "height": 35
        },
        "id": "5brTqjFmGGty",
        "outputId": "dbff8b03-1279-4eb8-98a1-31b308f06c67"
      },
      "source": [
        "a = \"bir gün  {} yolda giderken {}\"\n",
        "a.format(\"ali\" , \"veli\")"
      ],
      "execution_count": null,
      "outputs": [
        {
          "output_type": "execute_result",
          "data": {
            "application/vnd.google.colaboratory.intrinsic+json": {
              "type": "string"
            },
            "text/plain": [
              "'bir gün  ali yolda giderken veli'"
            ]
          },
          "metadata": {
            "tags": []
          },
          "execution_count": 38
        }
      ]
    },
    {
      "cell_type": "code",
      "metadata": {
        "id": "TNc4R4ZTITZ9",
        "colab": {
          "base_uri": "https://localhost:8080/",
          "height": 129
        },
        "outputId": "8825a357-628b-4192-e97d-d7b43ed350df"
      },
      "source": [
        "word = 'clarusway'\n",
        "n = 3\n",
        "front = f\"\"\n",
        "back =\n",
        "print(front + back)"
      ],
      "execution_count": null,
      "outputs": [
        {
          "output_type": "error",
          "ename": "SyntaxError",
          "evalue": "ignored",
          "traceback": [
            "\u001b[0;36m  File \u001b[0;32m\"<ipython-input-14-678a17de0a62>\"\u001b[0;36m, line \u001b[0;32m4\u001b[0m\n\u001b[0;31m    back =\u001b[0m\n\u001b[0m          ^\u001b[0m\n\u001b[0;31mSyntaxError\u001b[0m\u001b[0;31m:\u001b[0m invalid syntax\n"
          ]
        }
      ]
    },
    {
      "cell_type": "code",
      "metadata": {
        "colab": {
          "base_uri": "https://localhost:8080/"
        },
        "id": "GiECJdD_hwMn",
        "outputId": "0d1291bf-11c7-490c-c40e-9783e8645e04"
      },
      "source": [
        "text = \"S0d0me and G0m0re\"\n",
        "text = text.replace(\"0\", \"o\",2)\n",
        "print(text)"
      ],
      "execution_count": null,
      "outputs": [
        {
          "output_type": "stream",
          "text": [
            "Sodome and G0m0re\n"
          ],
          "name": "stdout"
        }
      ]
    },
    {
      "cell_type": "code",
      "metadata": {
        "colab": {
          "base_uri": "https://localhost:8080/"
        },
        "id": "tP85UYULFxVm",
        "outputId": "7b16b7c1-6b94-4fbc-eebe-37ab5b8e6d36"
      },
      "source": [
        "print(2 and 3)"
      ],
      "execution_count": null,
      "outputs": [
        {
          "output_type": "stream",
          "text": [
            "3\n"
          ],
          "name": "stdout"
        }
      ]
    },
    {
      "cell_type": "code",
      "metadata": {
        "colab": {
          "base_uri": "https://localhost:8080/"
        },
        "id": "Im3Ol6wGGgMY",
        "outputId": "bc89e00a-35ec-4523-87a8-25280951414c"
      },
      "source": [
        "print(0 and [])"
      ],
      "execution_count": null,
      "outputs": [
        {
          "output_type": "stream",
          "text": [
            "0\n"
          ],
          "name": "stdout"
        }
      ]
    },
    {
      "cell_type": "code",
      "metadata": {
        "colab": {
          "base_uri": "https://localhost:8080/"
        },
        "id": "HEnnkXMEGo0h",
        "outputId": "27056791-04af-4be2-e233-5f4e310b08b6"
      },
      "source": [
        "print(2 or 3)"
      ],
      "execution_count": null,
      "outputs": [
        {
          "output_type": "stream",
          "text": [
            "2\n"
          ],
          "name": "stdout"
        }
      ]
    },
    {
      "cell_type": "code",
      "metadata": {
        "colab": {
          "base_uri": "https://localhost:8080/"
        },
        "id": "TmeRtKnkGv2A",
        "outputId": "75758d2b-3f1a-42e6-9c6c-0bd2fdca2039"
      },
      "source": [
        "print(0 or [])"
      ],
      "execution_count": null,
      "outputs": [
        {
          "output_type": "stream",
          "text": [
            "[]\n"
          ],
          "name": "stdout"
        }
      ]
    },
    {
      "cell_type": "code",
      "metadata": {
        "colab": {
          "base_uri": "https://localhost:8080/"
        },
        "id": "Dy9XvNwHH-2U",
        "outputId": "f3a8bfc8-e037-4f45-833d-3473ecfcfb34"
      },
      "source": [
        "a = \"Emre\"\n",
        "a += \"Kaya\"\n",
        "print(a)"
      ],
      "execution_count": null,
      "outputs": [
        {
          "output_type": "stream",
          "text": [
            "EmreKaya\n"
          ],
          "name": "stdout"
        }
      ]
    },
    {
      "cell_type": "code",
      "metadata": {
        "colab": {
          "base_uri": "https://localhost:8080/"
        },
        "id": "hemQvh54J5BB",
        "outputId": "21428a82-04a2-4f4f-f394-017adf5e2e2b"
      },
      "source": [
        "phrase = 'I have %d %s and %.2f brothers' % (4, \"children\", 5)  \n",
        "print (phrase)"
      ],
      "execution_count": null,
      "outputs": [
        {
          "output_type": "stream",
          "text": [
            "I have 4 children and 5.00 brothers\n"
          ],
          "name": "stdout"
        }
      ]
    },
    {
      "cell_type": "code",
      "metadata": {
        "colab": {
          "base_uri": "https://localhost:8080/"
        },
        "id": "oizQ0PApKfeI",
        "outputId": "c29cee86-db75-4ae3-9711-6b78ccc3b0c6"
      },
      "source": [
        "ab = str(input(\"Kim ile birlikte ? \"))\n",
        "a = \"emre %s bir gün yolda gidiyordu\" % (ab)\n",
        "print(a)"
      ],
      "execution_count": null,
      "outputs": [
        {
          "output_type": "stream",
          "text": [
            "Kim ile birlikte ? erkan ile \n",
            "emre erkan ile  bir gün yolda gidiyordu\n"
          ],
          "name": "stdout"
        }
      ]
    },
    {
      "cell_type": "code",
      "metadata": {
        "colab": {
          "base_uri": "https://localhost:8080/",
          "height": 35
        },
        "id": "34Yu85g3MrB_",
        "outputId": "a85848a0-5860-4e83-8e05-339091275430"
      },
      "source": [
        "a = \"büşra %.7d büşra büşra \" %(334567)\n",
        "a"
      ],
      "execution_count": null,
      "outputs": [
        {
          "output_type": "execute_result",
          "data": {
            "application/vnd.google.colaboratory.intrinsic+json": {
              "type": "string"
            },
            "text/plain": [
              "'büşra 0334567 büşra büşra '"
            ]
          },
          "metadata": {
            "tags": []
          },
          "execution_count": 63
        }
      ]
    },
    {
      "cell_type": "code",
      "metadata": {
        "colab": {
          "base_uri": "https://localhost:8080/"
        },
        "id": "LqDt9XTPN6QR",
        "outputId": "c50371bf-daff-4bb0-b8c7-958eac411653"
      },
      "source": [
        "a = \"büşra is love me\"\n",
        "print(\"%.7s\" % a)\n",
        "print(\"büşra %(a)s is love me\" % {'a':\"beni\"})"
      ],
      "execution_count": null,
      "outputs": [
        {
          "output_type": "stream",
          "text": [
            "büşra i\n",
            "büşra beni is love me\n"
          ],
          "name": "stdout"
        }
      ]
    },
    {
      "cell_type": "code",
      "metadata": {
        "id": "5NHXuldJR_6M"
      },
      "source": [
        ""
      ],
      "execution_count": null,
      "outputs": []
    },
    {
      "cell_type": "code",
      "metadata": {
        "colab": {
          "base_uri": "https://localhost:8080/"
        },
        "id": "8wFy1AzPOsSV",
        "outputId": "17003871-357a-4e86-934c-ed35b4306e3d"
      },
      "source": [
        "a = 5\n",
        "b=\"ali\"\n",
        "print(\"emre %d büşra kayayı %s seviyor\" % (34,\"emre\"))\n",
        "print('%d pounds of %s left' % (a,b))\n",
        "print(\"%(c)d pounds of %(d)s left\" % {\"c\":6, \"d\": \"veli\"})\n",
        "print(\"ali {a}{b} veli 49 50 \".format(a = \"veli\" ,b= 4567))\n",
        "print(\"emre {} kaya {} bir {} zamanllar {}\".format(\"büşra\", 5, \"ali asaf\", 4))\n",
        "print(\"emre {2} kaya {1} bir {3} zamanllar {0}\".format(\"büşra\", 5, \"ali asaf\", 4))\n",
        "print(f\"emre kaya kolay {a} para {b}\".title())"
      ],
      "execution_count": null,
      "outputs": [
        {
          "output_type": "stream",
          "text": [
            "emre 34 büşra kayayı emre seviyor\n",
            "5 pounds of ali left\n",
            "6 pounds of veli left\n",
            "ali veli4567 veli 49 50 \n",
            "emre büşra kaya 5 bir ali asaf zamanllar 4\n",
            "emre ali asaf kaya 5 bir 4 zamanllar büşra\n",
            "Emre Kaya Kolay 5 Para Ali\n"
          ],
          "name": "stdout"
        }
      ]
    },
    {
      "cell_type": "code",
      "metadata": {
        "colab": {
          "base_uri": "https://localhost:8080/"
        },
        "id": "6uqE8pl-PNQA",
        "outputId": "bbf68b26-04cc-4f2e-c41b-cc9a4fd8b295"
      },
      "source": [
        "print('%(amount)d pounds of %(fruit)s left' % {'amount': 33, 'fruit':'bananas'})"
      ],
      "execution_count": null,
      "outputs": [
        {
          "output_type": "stream",
          "text": [
            "33 pounds of bananas left\n"
          ],
          "name": "stdout"
        }
      ]
    },
    {
      "cell_type": "code",
      "metadata": {
        "colab": {
          "base_uri": "https://localhost:8080/"
        },
        "id": "RUlWV7DfM1lp",
        "outputId": "2483b64c-9c0c-4c01-ee8d-9f245a2ced37"
      },
      "source": [
        "print(\"ali %(a)d is my %(b)d friend\"  % {\"a\": 43, \"b\": 55})"
      ],
      "execution_count": null,
      "outputs": [
        {
          "output_type": "stream",
          "text": [
            "ali 43 is my 55 friend\n"
          ],
          "name": "stdout"
        }
      ]
    },
    {
      "cell_type": "code",
      "metadata": {
        "id": "tYTPQ_YFWEkr"
      },
      "source": [
        ""
      ],
      "execution_count": null,
      "outputs": []
    },
    {
      "cell_type": "code",
      "metadata": {
        "colab": {
          "base_uri": "https://localhost:8080/"
        },
        "id": "Y_gDQ1efdk9s",
        "outputId": "8e22903c-a3e3-48c1-8167-703512bb9f3d"
      },
      "source": [
        "my_name = 'EMRE'\n",
        "output = f\"My name is {my_name.capitalize()}\"\n",
        "\n",
        "print(output)"
      ],
      "execution_count": null,
      "outputs": [
        {
          "output_type": "stream",
          "text": [
            "My name is Emre\n"
          ],
          "name": "stdout"
        }
      ]
    },
    {
      "cell_type": "code",
      "metadata": {
        "colab": {
          "base_uri": "https://localhost:8080/"
        },
        "id": "ReUQelljud6L",
        "outputId": "16aa5da1-ccec-49b1-cad2-d66ff3ea2064"
      },
      "source": [
        "a = \"my nsame is Emre an wahat is your name\"\n",
        "print(a.startswith(\"n\", 3,5))\n",
        "print(a.endswith(\"y\", 0, 2))"
      ],
      "execution_count": null,
      "outputs": [
        {
          "output_type": "stream",
          "text": [
            "True\n",
            "True\n"
          ],
          "name": "stdout"
        }
      ]
    },
    {
      "cell_type": "code",
      "metadata": {
        "colab": {
          "base_uri": "https://localhost:8080/"
        },
        "id": "iYMXNVS7xb4Q",
        "outputId": "8ebea158-6edd-49cd-f2eb-83465a333d9f"
      },
      "source": [
        "phrase = \"myemailaddress@clarusway.com\"\n",
        "\n",
        "print(len(phrase))\n",
        "print(phrase.startswith(\"@\", 14))\n",
        "print(phrase.endswith(\".\", 15, 24))"
      ],
      "execution_count": null,
      "outputs": [
        {
          "output_type": "stream",
          "text": [
            "28\n",
            "True\n",
            "False\n"
          ],
          "name": "stdout"
        }
      ]
    },
    {
      "cell_type": "code",
      "metadata": {
        "colab": {
          "base_uri": "https://localhost:8080/",
          "height": 120
        },
        "id": "nl4f5YoryPRV",
        "outputId": "4504cce9-0761-4d8f-bb4c-79dd48fdcd1c"
      },
      "source": [
        "a = \"Büşra Emre'yi çok seviyor\"\n",
        "b = a.capitalize()\n",
        "c = a.upper()\n",
        "d = a.swapcase()\n",
        "k= a.title()\n",
        "e = a.replace(\"a\", \"k\")\n",
        "print(a)\n",
        "print(b)\n",
        "print(c)\n",
        "print(d)\n",
        "print(e)\n",
        "k\n",
        "\n"
      ],
      "execution_count": null,
      "outputs": [
        {
          "output_type": "stream",
          "text": [
            "Büşra Emre'yi çok seviyor\n",
            "Büşra emre'yi çok seviyor\n",
            "BÜŞRA EMRE'YI ÇOK SEVIYOR\n",
            "bÜŞRA eMRE'YI ÇOK SEVIYOR\n",
            "Büşrk Emre'yi çok seviyor\n"
          ],
          "name": "stdout"
        },
        {
          "output_type": "execute_result",
          "data": {
            "application/vnd.google.colaboratory.intrinsic+json": {
              "type": "string"
            },
            "text/plain": [
              "\"Büşra Emre'Yi Çok Seviyor\""
            ]
          },
          "metadata": {
            "tags": []
          },
          "execution_count": 52
        }
      ]
    },
    {
      "cell_type": "code",
      "metadata": {
        "colab": {
          "base_uri": "https://localhost:8080/"
        },
        "id": "kazZw8SvNuYE",
        "outputId": "89d566e1-935e-4463-bf13-5f4630e3fe82"
      },
      "source": [
        " a=\"emrekaya\"\n",
        " print(a[1])\n",
        " "
      ],
      "execution_count": null,
      "outputs": [
        {
          "output_type": "stream",
          "text": [
            "m\n"
          ],
          "name": "stdout"
        }
      ]
    },
    {
      "cell_type": "code",
      "metadata": {
        "colab": {
          "base_uri": "https://localhost:8080/"
        },
        "id": "woVMyxKru9WS",
        "outputId": "3e158967-5e8e-4bcf-8316-cd0fda066943"
      },
      "source": [
        "print('www', 'clarusway', \"com\", sep='.', end=' ')\n",
        "print('will', end=' ')\n",
        "print('open', end=' ')\n",
        "print('your', end=' ')\n",
        "print('path', end='.')\n",
        "print(\"clarusway\" + str(2020))"
      ],
      "execution_count": null,
      "outputs": [
        {
          "output_type": "stream",
          "text": [
            "www.clarusway.com will open your path.clarusway2020\n"
          ],
          "name": "stdout"
        }
      ]
    },
    {
      "cell_type": "code",
      "metadata": {
        "colab": {
          "base_uri": "https://localhost:8080/",
          "height": 146
        },
        "id": "0PZkeqgmO9fY",
        "outputId": "01150e1a-1058-4386-a8ac-9bcb5429921c"
      },
      "source": [
        "a = \"Pampas Grass-Natural Dried Pampas Grass Table Size Decor, Boho Decor 17 pcs Stems and 17\" (43 CM) Length for Home Arrangements, Office, Wedding and Events Decor\"\n",
        "len(a)\n",
        "a\n"
      ],
      "execution_count": null,
      "outputs": [
        {
          "output_type": "error",
          "ename": "SyntaxError",
          "evalue": "ignored",
          "traceback": [
            "\u001b[0;36m  File \u001b[0;32m\"<ipython-input-4-dacb01e74b26>\"\u001b[0;36m, line \u001b[0;32m1\u001b[0m\n\u001b[0;31m    a = \"Pampas Grass-Natural Dried Pampas Grass Table Size Decor, Boho Decor 17 pcs Stems and 17\" (43 CM) Length for Home Arrangements, Office, Wedding and Events Decor\"\u001b[0m\n\u001b[0m                                                                                                        ^\u001b[0m\n\u001b[0;31mSyntaxError\u001b[0m\u001b[0;31m:\u001b[0m invalid syntax\n"
          ]
        }
      ]
    },
    {
      "cell_type": "code",
      "metadata": {
        "colab": {
          "base_uri": "https://localhost:8080/"
        },
        "id": "3w8rC9-PuDti",
        "outputId": "6a5fe135-475e-4772-e540-63d6a98fb9f8"
      },
      "source": [
        "a = \"Pampas Grass-Natural Dried Pampas Grass Table Size Decor, Boho Decor 17 pcs Stems and 17 (43 CM) Length for Home Arrangements, Office, Wedding and Events Decor\"\n",
        "len(a)"
      ],
      "execution_count": null,
      "outputs": [
        {
          "output_type": "execute_result",
          "data": {
            "text/plain": [
              "159"
            ]
          },
          "metadata": {
            "tags": []
          },
          "execution_count": 6
        }
      ]
    },
    {
      "cell_type": "code",
      "metadata": {
        "colab": {
          "base_uri": "https://localhost:8080/"
        },
        "id": "5u97IsO-V3Aj",
        "outputId": "c81cc0ce-2848-4aeb-f5fb-db6c5ea0d301"
      },
      "source": [
        "age = input(\"Are you a cigarette addict older than 75 years old? \") .capitalize()\n",
        "chronic = input(\"Do you have a severe chronic disease? \" ).capitalize()\n",
        "immune = input(\"Is your immune system too weak? \").capitalize()\n",
        "age1 = (age == \"Yes\")\n",
        "chronic1 = (chronic == \"Yes\")\n",
        "immune1 = (immune == \"Yes\")\n",
        "risk = age1 or chronic1 or immune1\n",
        "risk1 =(risk == True)\n",
        "a =\"You are a dealth risk\"\n",
        "b = \"You dont have any risk\"\n",
        "riskon = risk1 and a or b\n",
        "print(riskon)\n"
      ],
      "execution_count": null,
      "outputs": [
        {
          "output_type": "stream",
          "text": [
            "Are you a cigarette addict older than 75 years old? no\n",
            "Do you have a severe chronic disease? no\n",
            "Is your immune system too weak? no\n",
            "You dont have any rik\n"
          ],
          "name": "stdout"
        }
      ]
    },
    {
      "cell_type": "code",
      "metadata": {
        "colab": {
          "base_uri": "https://localhost:8080/"
        },
        "id": "iOeFq6widC73",
        "outputId": "1a267cfb-57da-4ea7-aa6e-9d6eba9915a7"
      },
      "source": [
        "5 or 6"
      ],
      "execution_count": null,
      "outputs": [
        {
          "output_type": "execute_result",
          "data": {
            "text/plain": [
              "5"
            ]
          },
          "metadata": {
            "tags": []
          },
          "execution_count": 21
        }
      ]
    },
    {
      "cell_type": "code",
      "metadata": {
        "colab": {
          "base_uri": "https://localhost:8080/"
        },
        "id": "w6iIqs2icbJJ",
        "outputId": "4dbe928c-c472-4fcf-bab0-01d8f9792e29"
      },
      "source": [
        "warning = 'You must quit smoking!'\n",
        "\n",
        "print(list(warning))"
      ],
      "execution_count": null,
      "outputs": [
        {
          "output_type": "stream",
          "text": [
            "['Y', 'o', 'u', ' ', 'm', 'u', 's', 't', ' ', 'q', 'u', 'i', 't', ' ', 's', 'm', 'o', 'k', 'i', 'n', 'g', '!']\n"
          ],
          "name": "stdout"
        }
      ]
    },
    {
      "cell_type": "code",
      "metadata": {
        "colab": {
          "base_uri": "https://localhost:8080/",
          "height": 35
        },
        "id": "Zrs1sY9IrPBM",
        "outputId": "03f858ce-4baf-4e34-8a30-18744b14baa2"
      },
      "source": [
        "a = \"emre kaya is very {:<100} very clearly\".format(\"a\")\n",
        "a"
      ],
      "execution_count": null,
      "outputs": [
        {
          "output_type": "execute_result",
          "data": {
            "application/vnd.google.colaboratory.intrinsic+json": {
              "type": "string"
            },
            "text/plain": [
              "'emre kaya is very a                                                                                                    very clearly'"
            ]
          },
          "metadata": {
            "tags": []
          },
          "execution_count": 25
        }
      ]
    },
    {
      "cell_type": "code",
      "metadata": {
        "colab": {
          "base_uri": "https://localhost:8080/"
        },
        "id": "0P9Lo1JSr1vg",
        "outputId": "cca75c7c-f72d-435e-8731-1fd8bd049a40"
      },
      "source": [
        "a = {\"ghjmkölghjklghj\"}\n",
        "len(a)"
      ],
      "execution_count": null,
      "outputs": [
        {
          "output_type": "execute_result",
          "data": {
            "text/plain": [
              "1"
            ]
          },
          "metadata": {
            "tags": []
          },
          "execution_count": 14
        }
      ]
    },
    {
      "cell_type": "code",
      "metadata": {
        "colab": {
          "base_uri": "https://localhost:8080/"
        },
        "id": "TwNBIy4j52vH",
        "outputId": "242f89df-d012-4b02-be09-aae94388b572"
      },
      "source": [
        "list(a)"
      ],
      "execution_count": null,
      "outputs": [
        {
          "output_type": "execute_result",
          "data": {
            "text/plain": [
              "['ghjmkölghjklghj']"
            ]
          },
          "metadata": {
            "tags": []
          },
          "execution_count": 15
        }
      ]
    },
    {
      "cell_type": "code",
      "metadata": {
        "colab": {
          "base_uri": "https://localhost:8080/"
        },
        "id": "jYK-SMdM7wVv",
        "outputId": "5f55ea9a-aa0d-4453-a2b6-dd12c827fb92"
      },
      "source": [
        "a = {\"2020\"}\n",
        "list(a)\n"
      ],
      "execution_count": null,
      "outputs": [
        {
          "output_type": "execute_result",
          "data": {
            "text/plain": [
              "['2020']"
            ]
          },
          "metadata": {
            "tags": []
          },
          "execution_count": 21
        }
      ]
    },
    {
      "cell_type": "code",
      "metadata": {
        "colab": {
          "background_save": true,
          "base_uri": "https://localhost:8080/"
        },
        "id": "YyLmv0taFzyG",
        "outputId": "3f97b297-8fb2-4dca-ba8d-d3c4adc43037"
      },
      "source": [
        "print(len([ ]))"
      ],
      "execution_count": null,
      "outputs": [
        {
          "output_type": "error",
          "ename": "NameError",
          "evalue": "ignored",
          "traceback": [
            "\u001b[0;31m---------------------------------------------------------------------------\u001b[0m",
            "\u001b[0;31mNameError\u001b[0m                                 Traceback (most recent call last)",
            "\u001b[0;32m<ipython-input-24-e574c7504cea>\u001b[0m in \u001b[0;36m<module>\u001b[0;34m()\u001b[0m\n\u001b[0;32m----> 1\u001b[0;31m \u001b[0mprint\u001b[0m\u001b[0;34m(\u001b[0m\u001b[0mlen\u001b[0m\u001b[0;34m(\u001b[0m\u001b[0;34m[\u001b[0m\u001b[0mklmk\u001b[0m \u001b[0;34m]\u001b[0m\u001b[0;34m)\u001b[0m\u001b[0;34m)\u001b[0m\u001b[0;34m\u001b[0m\u001b[0;34m\u001b[0m\u001b[0m\n\u001b[0m",
            "\u001b[0;31mNameError\u001b[0m: name 'klmk' is not defined"
          ]
        }
      ]
    },
    {
      "cell_type": "code",
      "metadata": {
        "colab": {
          "base_uri": "https://localhost:8080/"
        },
        "id": "Mj2DKiplp5iF",
        "outputId": "e6dd25fe-a838-4d59-ee5f-cc815fe013ec"
      },
      "source": [
        "print(123, end=\"  \")\n",
        "print(456)"
      ],
      "execution_count": null,
      "outputs": [
        {
          "output_type": "stream",
          "text": [
            "123  456\n"
          ],
          "name": "stdout"
        }
      ]
    },
    {
      "cell_type": "code",
      "metadata": {
        "colab": {
          "base_uri": "https://localhost:8080/"
        },
        "id": "5tvT4oQLp5bo",
        "outputId": "09e2a383-8525-4437-a0d9-6ce52d7ab3bc"
      },
      "source": [
        "print(format(\"Welcome\", \"10s\"), end = \"\\n\") \n",
        "print(format(111, \"4d\"), end = '#')\n",
        "print(format(924.656, \"1.4f\"))\n"
      ],
      "execution_count": null,
      "outputs": [
        {
          "output_type": "stream",
          "text": [
            "Welcome   \n",
            " 111#924.6560\n"
          ],
          "name": "stdout"
        }
      ]
    },
    {
      "cell_type": "code",
      "metadata": {
        "colab": {
          "base_uri": "https://localhost:8080/"
        },
        "id": "KOsmJyBnso7a",
        "outputId": "68556caa-10e9-42da-dbbd-38549bf63001"
      },
      "source": [
        "print(\"xyyzyyzxzxyy\".count(\"yy\", 0))\n",
        "print(\"emrea\".count(\"e\", 1))"
      ],
      "execution_count": null,
      "outputs": [
        {
          "output_type": "stream",
          "text": [
            "3\n",
            "1\n"
          ],
          "name": "stdout"
        }
      ]
    },
    {
      "cell_type": "code",
      "metadata": {
        "id": "2rcRwAfWp5Tb"
      },
      "source": [
        ""
      ],
      "execution_count": null,
      "outputs": []
    },
    {
      "cell_type": "code",
      "metadata": {
        "colab": {
          "base_uri": "https://localhost:8080/"
        },
        "id": "JoVpBNxrKg93",
        "outputId": "153a99ad-2aa1-44a8-e625-6c193e32d8e1"
      },
      "source": [
        "a = {1 : \"one\", \"two\" :2, False : [1, 2, 3]}\n",
        "a"
      ],
      "execution_count": null,
      "outputs": [
        {
          "output_type": "execute_result",
          "data": {
            "text/plain": [
              "{1: 'one', False: [1, 2, 3], 'two': 2}"
            ]
          },
          "metadata": {
            "tags": []
          },
          "execution_count": 1
        }
      ]
    },
    {
      "cell_type": "code",
      "metadata": {
        "colab": {
          "base_uri": "https://localhost:8080/",
          "height": 129
        },
        "id": "piD9NcyfMGBE",
        "outputId": "d352b9ba-3a87-4e95-f67a-67fca6c56fd1"
      },
      "source": [
        "b = {\"ali\" : {\"veli\" : 22, \"zeki\" : 2}\\\n",
        "     \"emre\" : {\"ahme\" : 2, \"jfdc\" : 32}}\n",
        "b"
      ],
      "execution_count": null,
      "outputs": [
        {
          "output_type": "error",
          "ename": "SyntaxError",
          "evalue": "ignored",
          "traceback": [
            "\u001b[0;36m  File \u001b[0;32m\"<ipython-input-4-5939d7a30ff6>\"\u001b[0;36m, line \u001b[0;32m1\u001b[0m\n\u001b[0;31m    b = {\"ali\" : {\"veli\" : 22, \"zeki\" : 2}     \"emre\" : {\"ahme\" : 2, \"jfdc\" : 32}}\u001b[0m\n\u001b[0m                                                    ^\u001b[0m\n\u001b[0;31mSyntaxError\u001b[0m\u001b[0;31m:\u001b[0m invalid syntax\n"
          ]
        }
      ]
    },
    {
      "cell_type": "code",
      "metadata": {
        "colab": {
          "base_uri": "https://localhost:8080/"
        },
        "id": "ILbFSoXwODMw",
        "outputId": "2e370416-7651-4123-b0ef-d93ae29ff5d2"
      },
      "source": [
        "family ={\"name1\" : \"emre\",\n",
        "         \"name2\" : \"emrullah\",\n",
        "         \"name3\" : \"eren\"}\n",
        "family\n"
      ],
      "execution_count": null,
      "outputs": [
        {
          "output_type": "execute_result",
          "data": {
            "text/plain": [
              "{'name1': 'emre', 'name2': 'emrullah', 'name3': 'eren'}"
            ]
          },
          "metadata": {
            "tags": []
          },
          "execution_count": 5
        }
      ]
    },
    {
      "cell_type": "code",
      "metadata": {
        "colab": {
          "base_uri": "https://localhost:8080/"
        },
        "id": "RBK7ogT7OhbU",
        "outputId": "75195c72-6f4d-493d-878e-87d7de01b70a"
      },
      "source": [
        "family[\"name4\"] = \"betül\"\n",
        "family"
      ],
      "execution_count": null,
      "outputs": [
        {
          "output_type": "execute_result",
          "data": {
            "text/plain": [
              "{'name1': 'emre', 'name2': 'emrullah', 'name3': 'eren', 'name4': 'betül'}"
            ]
          },
          "metadata": {
            "tags": []
          },
          "execution_count": 6
        }
      ]
    },
    {
      "cell_type": "code",
      "metadata": {
        "colab": {
          "base_uri": "https://localhost:8080/",
          "height": 129
        },
        "id": "7aZR7lKcUfWc",
        "outputId": "7228643b-b7f4-42ed-b982-a8d16648c1bb"
      },
      "source": [
        "f89+"
      ],
      "execution_count": null,
      "outputs": [
        {
          "output_type": "error",
          "ename": "SyntaxError",
          "evalue": "ignored",
          "traceback": [
            "\u001b[0;36m  File \u001b[0;32m\"<ipython-input-7-c0fcbdc9cd9b>\"\u001b[0;36m, line \u001b[0;32m1\u001b[0m\n\u001b[0;31m    f89+\u001b[0m\n\u001b[0m        ^\u001b[0m\n\u001b[0;31mSyntaxError\u001b[0m\u001b[0;31m:\u001b[0m invalid syntax\n"
          ]
        }
      ]
    },
    {
      "cell_type": "code",
      "metadata": {
        "colab": {
          "base_uri": "https://localhost:8080/"
        },
        "id": "-sNd9I82Ukw6",
        "outputId": "6869bc0b-cbca-4ad6-b526-50a49be4f446"
      },
      "source": [
        "family = dict(name1 = \"emre\", name2 = \"emrullah\", name3 = \"eren\", name4 = \"betül\")\n",
        "family"
      ],
      "execution_count": null,
      "outputs": [
        {
          "output_type": "execute_result",
          "data": {
            "text/plain": [
              "{'name1': 'emre', 'name2': 'emrullah', 'name3': 'eren', 'name4': 'betül'}"
            ]
          },
          "metadata": {
            "tags": []
          },
          "execution_count": 8
        }
      ]
    },
    {
      "cell_type": "code",
      "metadata": {
        "colab": {
          "base_uri": "https://localhost:8080/"
        },
        "id": "s1E21HgxVK7a",
        "outputId": "8ab472f4-1229-4e29-8dcc-a91491c57ac9"
      },
      "source": [
        "len(family)\n"
      ],
      "execution_count": null,
      "outputs": [
        {
          "output_type": "execute_result",
          "data": {
            "text/plain": [
              "4"
            ]
          },
          "metadata": {
            "tags": []
          },
          "execution_count": 9
        }
      ]
    },
    {
      "cell_type": "code",
      "metadata": {
        "colab": {
          "base_uri": "https://localhost:8080/"
        },
        "id": "Qr6M8s5bWxpe",
        "outputId": "1b0f2097-524a-4c64-f891-ce17bb7b5050"
      },
      "source": [
        "sayılar = {\"tek\" :[], \n",
        "           \"çift\" : [] \n",
        "}\n",
        "sayılar"
      ],
      "execution_count": null,
      "outputs": [
        {
          "output_type": "execute_result",
          "data": {
            "text/plain": [
              "{'tek': [], 'çift': []}"
            ]
          },
          "metadata": {
            "tags": []
          },
          "execution_count": 10
        }
      ]
    },
    {
      "cell_type": "code",
      "metadata": {
        "colab": {
          "base_uri": "https://localhost:8080/"
        },
        "id": "4s1jjTNBXmR8",
        "outputId": "85f108ce-e003-453d-f1ec-a12258c60924"
      },
      "source": [
        "sayılar[\"tek\"].append(1)\n",
        "sayılar[\"çift\"].append(2)\n",
        "sayılar"
      ],
      "execution_count": null,
      "outputs": [
        {
          "output_type": "execute_result",
          "data": {
            "text/plain": [
              "{'tek': [1], 'çift': [2]}"
            ]
          },
          "metadata": {
            "tags": []
          },
          "execution_count": 11
        }
      ]
    },
    {
      "cell_type": "code",
      "metadata": {
        "colab": {
          "base_uri": "https://localhost:8080/"
        },
        "id": "kaARICzaYKEf",
        "outputId": "7f6bf02f-b516-4ccd-e97e-fa01d4a65b42"
      },
      "source": [
        "a = {}.fromkeys([\"elma\", \"armut\"], 0)\n",
        "a"
      ],
      "execution_count": null,
      "outputs": [
        {
          "output_type": "execute_result",
          "data": {
            "text/plain": [
              "{'armut': 0, 'elma': 0}"
            ]
          },
          "metadata": {
            "tags": []
          },
          "execution_count": 31
        }
      ]
    },
    {
      "cell_type": "code",
      "metadata": {
        "colab": {
          "base_uri": "https://localhost:8080/"
        },
        "id": "XovsC6ixYXht",
        "outputId": "06401022-48fc-473a-93c3-6229a4495237"
      },
      "source": [
        "a[\"elma\"] = a[\"elma\"] + 1\n",
        "a"
      ],
      "execution_count": null,
      "outputs": [
        {
          "output_type": "execute_result",
          "data": {
            "text/plain": [
              "{'armut': 0, 'elma': 1}"
            ]
          },
          "metadata": {
            "tags": []
          },
          "execution_count": 13
        }
      ]
    },
    {
      "cell_type": "code",
      "metadata": {
        "colab": {
          "base_uri": "https://localhost:8080/"
        },
        "id": "Outs4jhfYupX",
        "outputId": "03af25dd-7f4c-4ab7-f927-02886d4f610f"
      },
      "source": [
        "a[\"elma\"] += 1\n",
        "a"
      ],
      "execution_count": null,
      "outputs": [
        {
          "output_type": "execute_result",
          "data": {
            "text/plain": [
              "{'armut': 0, 'elma': 2}"
            ]
          },
          "metadata": {
            "tags": []
          },
          "execution_count": 14
        }
      ]
    },
    {
      "cell_type": "code",
      "metadata": {
        "colab": {
          "base_uri": "https://localhost:8080/"
        },
        "id": "0M268pLzZpLw",
        "outputId": "16d42060-df2e-4563-9cf2-8a6fb68b312d"
      },
      "source": [
        "a[\"kiwi\"] = 5\n",
        "a"
      ],
      "execution_count": null,
      "outputs": [
        {
          "output_type": "execute_result",
          "data": {
            "text/plain": [
              "{'armut': 0, 'elma': 2, 'kiwi': 5}"
            ]
          },
          "metadata": {
            "tags": []
          },
          "execution_count": 15
        }
      ]
    },
    {
      "cell_type": "code",
      "metadata": {
        "colab": {
          "base_uri": "https://localhost:8080/"
        },
        "id": "vyTdqBRva2Fh",
        "outputId": "8946275c-cdb4-4d6f-f4d2-250f977a7000"
      },
      "source": [
        "ev ={}.fromkeys([\"ali\", \"veli\", \"zeki\",\"mehmet\"])\n",
        "ev"
      ],
      "execution_count": null,
      "outputs": [
        {
          "output_type": "execute_result",
          "data": {
            "text/plain": [
              "{'ali': None, 'mehmet': None, 'veli': None, 'zeki': None}"
            ]
          },
          "metadata": {
            "tags": []
          },
          "execution_count": 11
        }
      ]
    },
    {
      "cell_type": "code",
      "metadata": {
        "colab": {
          "base_uri": "https://localhost:8080/",
          "height": 231
        },
        "id": "PXxpaBlhbeEC",
        "outputId": "fd66812a-23d3-4dd3-f4ef-6c21c6c1766e"
      },
      "source": [
        "a = {\"al\" : \"dım\", \n",
        "     \"ver\" : \"dim\", \n",
        "     \"gel\" : \"di\", }\n",
        "print(a.items)\n",
        "print(a.keys)\n",
        "print(a.values)\n"
      ],
      "execution_count": null,
      "outputs": [
        {
          "output_type": "error",
          "ename": "TypeError",
          "evalue": "ignored",
          "traceback": [
            "\u001b[0;31m---------------------------------------------------------------------------\u001b[0m",
            "\u001b[0;31mTypeError\u001b[0m                                 Traceback (most recent call last)",
            "\u001b[0;32m<ipython-input-35-31e07ffc478e>\u001b[0m in \u001b[0;36m<module>\u001b[0;34m()\u001b[0m\n\u001b[1;32m      2\u001b[0m      \u001b[0;34m\"ver\"\u001b[0m \u001b[0;34m:\u001b[0m \u001b[0;34m\"dim\"\u001b[0m\u001b[0;34m,\u001b[0m\u001b[0;34m\u001b[0m\u001b[0;34m\u001b[0m\u001b[0m\n\u001b[1;32m      3\u001b[0m      \"gel\" : \"di\", }\n\u001b[0;32m----> 4\u001b[0;31m \u001b[0mprint\u001b[0m\u001b[0;34m(\u001b[0m\u001b[0;34m**\u001b[0m \u001b[0ma\u001b[0m\u001b[0;34m.\u001b[0m\u001b[0mitems\u001b[0m\u001b[0;34m)\u001b[0m\u001b[0;34m\u001b[0m\u001b[0;34m\u001b[0m\u001b[0m\n\u001b[0m\u001b[1;32m      5\u001b[0m \u001b[0mprint\u001b[0m\u001b[0;34m(\u001b[0m\u001b[0ma\u001b[0m\u001b[0;34m.\u001b[0m\u001b[0mkeys\u001b[0m\u001b[0;34m)\u001b[0m\u001b[0;34m\u001b[0m\u001b[0;34m\u001b[0m\u001b[0m\n\u001b[1;32m      6\u001b[0m \u001b[0mprint\u001b[0m\u001b[0;34m(\u001b[0m\u001b[0ma\u001b[0m\u001b[0;34m.\u001b[0m\u001b[0mvalues\u001b[0m\u001b[0;34m)\u001b[0m\u001b[0;34m\u001b[0m\u001b[0;34m\u001b[0m\u001b[0m\n",
            "\u001b[0;31mTypeError\u001b[0m: print() argument after ** must be a mapping, not builtin_function_or_method"
          ]
        }
      ]
    },
    {
      "cell_type": "code",
      "metadata": {
        "colab": {
          "base_uri": "https://localhost:8080/"
        },
        "id": "rUa21Zgyg4H6",
        "outputId": "987b54e8-467f-4f10-ed82-96180b1be558"
      },
      "source": [
        "a.update({\"name5\" : 5})\n",
        "a"
      ],
      "execution_count": null,
      "outputs": [
        {
          "output_type": "execute_result",
          "data": {
            "text/plain": [
              "{'al': 'dım', 'gel': 'di', 'name5': 5, 'ver': 'dim'}"
            ]
          },
          "metadata": {
            "tags": []
          },
          "execution_count": 19
        }
      ]
    },
    {
      "cell_type": "code",
      "metadata": {
        "colab": {
          "base_uri": "https://localhost:8080/"
        },
        "id": "uZjS1JyOhfIh",
        "outputId": "087030ba-73c7-447d-e13a-b01afc676709"
      },
      "source": [
        "del a[\"name5\"]\n",
        "a"
      ],
      "execution_count": null,
      "outputs": [
        {
          "output_type": "execute_result",
          "data": {
            "text/plain": [
              "{'al': 'dım', 'gel': 'di', 'ver': 'dim'}"
            ]
          },
          "metadata": {
            "tags": []
          },
          "execution_count": 20
        }
      ]
    },
    {
      "cell_type": "code",
      "metadata": {
        "id": "r3E4sfuzkby_"
      },
      "source": [
        "school_records={\n",
        "\t'personal_info':\n",
        "\t\t{'kid':{'tom':{'class':'intermediate', 'age':10},\n",
        "\t\t\t'sue':{'class':'elemantary', 'age':8}\n",
        "\t\t\t},\n",
        "\t\t'teen':{'joseph':{'class':'college', 'age':19},\n",
        "\t\t\t'marry':{'class':'high school', 'age':16}\n",
        "\t\t\t},\n",
        "\t\t},\n",
        "\t'grades_info':\n",
        "\t\t{'kid':{'tom':{'math':88, 'speech':69},\n",
        "\t\t\t'sue':{'math':90, 'speech':81}\n",
        "\t\t\t},\n",
        "\t\t'teen':{'joseph':{'coding':80, 'math':89},\n",
        "\t\t\t'marry':{'coding':70, 'math':96}\n",
        "\t\t\t},\n",
        "\t\t}\n",
        "}"
      ],
      "execution_count": null,
      "outputs": []
    },
    {
      "cell_type": "code",
      "metadata": {
        "colab": {
          "base_uri": "https://localhost:8080/"
        },
        "id": "Z4nFDITPkmkp",
        "outputId": "6cabf378-6794-4023-eb91-6b81ec9a5781"
      },
      "source": [
        "len(school_records)"
      ],
      "execution_count": null,
      "outputs": [
        {
          "output_type": "execute_result",
          "data": {
            "text/plain": [
              "2"
            ]
          },
          "metadata": {
            "tags": []
          },
          "execution_count": 22
        }
      ]
    },
    {
      "cell_type": "code",
      "metadata": {
        "colab": {
          "base_uri": "https://localhost:8080/"
        },
        "id": "JZR4yJxslgCo",
        "outputId": "b853eed1-009f-4885-b92d-c12fe77c0120"
      },
      "source": [
        "school_records['personal_info']\n"
      ],
      "execution_count": null,
      "outputs": [
        {
          "output_type": "execute_result",
          "data": {
            "text/plain": [
              "{'kid': {'sue': {'age': 8, 'class': 'elemantary'},\n",
              "  'tom': {'age': 10, 'class': 'intermediate'}},\n",
              " 'teen': {'joseph': {'age': 19, 'class': 'college'},\n",
              "  'marry': {'age': 16, 'class': 'high school'}}}"
            ]
          },
          "metadata": {
            "tags": []
          },
          "execution_count": 23
        }
      ]
    },
    {
      "cell_type": "code",
      "metadata": {
        "colab": {
          "base_uri": "https://localhost:8080/"
        },
        "id": "QNyey6Qnllw1",
        "outputId": "05805492-b776-4271-8d8f-14954a3a395c"
      },
      "source": [
        "school_records['personal_info'].keys()"
      ],
      "execution_count": null,
      "outputs": [
        {
          "output_type": "execute_result",
          "data": {
            "text/plain": [
              "dict_keys(['kid', 'teen'])"
            ]
          },
          "metadata": {
            "tags": []
          },
          "execution_count": 24
        }
      ]
    },
    {
      "cell_type": "code",
      "metadata": {
        "colab": {
          "base_uri": "https://localhost:8080/"
        },
        "id": "zfZPtpiDluRo",
        "outputId": "c9dc09c9-be05-4072-e126-a658e77d6de5"
      },
      "source": [
        "school_records['personal_info'][\"teen\"]"
      ],
      "execution_count": null,
      "outputs": [
        {
          "output_type": "execute_result",
          "data": {
            "text/plain": [
              "{'joseph': {'age': 19, 'class': 'college'},\n",
              " 'marry': {'age': 16, 'class': 'high school'}}"
            ]
          },
          "metadata": {
            "tags": []
          },
          "execution_count": 25
        }
      ]
    },
    {
      "cell_type": "code",
      "metadata": {
        "colab": {
          "base_uri": "https://localhost:8080/"
        },
        "id": "Ezn9PFbNmDwu",
        "outputId": "a8cd6bd1-326e-4c28-fb9e-3c6e88fb773b"
      },
      "source": [
        "school_records['personal_info'][\"teen\"][\"marry\"]\n"
      ],
      "execution_count": null,
      "outputs": [
        {
          "output_type": "execute_result",
          "data": {
            "text/plain": [
              "{'age': 16, 'class': 'high school'}"
            ]
          },
          "metadata": {
            "tags": []
          },
          "execution_count": 26
        }
      ]
    },
    {
      "cell_type": "code",
      "metadata": {
        "colab": {
          "base_uri": "https://localhost:8080/"
        },
        "id": "_PhKrhQwmQSZ",
        "outputId": "66fb0c28-e170-49fc-b021-c0735aeace2e"
      },
      "source": [
        "school_records['grades_info'][\"teen\"][\"joseph\"][\"math\"]"
      ],
      "execution_count": null,
      "outputs": [
        {
          "output_type": "execute_result",
          "data": {
            "text/plain": [
              "89"
            ]
          },
          "metadata": {
            "tags": []
          },
          "execution_count": 27
        }
      ]
    },
    {
      "cell_type": "code",
      "metadata": {
        "colab": {
          "base_uri": "https://localhost:8080/"
        },
        "id": "Vya-1HaHnGJM",
        "outputId": "b44a4978-1a75-4c30-d774-6f42ac69c67a"
      },
      "source": [
        "samanlık = [\"yumurta\", \"saman\", \"inek\", \"iğne\", \"tavuk\", \"yaba\", \"eşarp\", \"iğne\"]\n",
        "print(f\"iğne {samanlık.index('iğne')}  numaralı indextedir\")"
      ],
      "execution_count": null,
      "outputs": [
        {
          "output_type": "stream",
          "text": [
            "iğne 3  numaralı indextedir\n"
          ],
          "name": "stdout"
        }
      ]
    },
    {
      "cell_type": "code",
      "metadata": {
        "colab": {
          "base_uri": "https://localhost:8080/"
        },
        "id": "_BSV5mdztFSZ",
        "outputId": "f2e6d6e5-754e-40db-a449-ac07736831e3"
      },
      "source": [
        "samanlık.index(\"tavuk\")"
      ],
      "execution_count": null,
      "outputs": [
        {
          "output_type": "execute_result",
          "data": {
            "text/plain": [
              "4"
            ]
          },
          "metadata": {
            "tags": []
          },
          "execution_count": 32
        }
      ]
    },
    {
      "cell_type": "code",
      "metadata": {
        "colab": {
          "base_uri": "https://localhost:8080/"
        },
        "id": "jJk5eH9ipf9Y",
        "outputId": "19563318-cc0b-49a1-bb2b-55162071ceac"
      },
      "source": [
        "text = input('Enter a text > ')\n",
        "liste = ['(', '{', '[', ')', '}', ']']\n",
        "dictt = {'(':')', '{':'}', '[':']', ')':'(', '}':'{', ']':'['}\n",
        "leng = len(text)\n",
        "result = True\n",
        "for i in text:\n",
        "    if i in liste:\n",
        "        sayi_1 = text.count(i)\n",
        "        x = text.find(i)\n",
        "        if i == '(' or i == ')':\n",
        "            tersi = dictt[i]\n",
        "            if tersi in text:\n",
        "                sayi_2 = text.count(tersi)\n",
        "                y = text[::-1].find(tersi)\n",
        "                y = leng - y - 1\n",
        "                if i == '(':\n",
        "                    if sayi_1 !=sayi_2 or x > y or not (y - x) % 2:\n",
        "                        result = False\n",
        "                        break\n",
        "                print(x, y, sayi_1, sayi_2)\n",
        "            else:\n",
        "                result = False\n",
        "        elif (i == '{' or i == '}') or (i == '[' or i == ']'):\n",
        "            tersi = dictt[i]\n",
        "            if tersi in text:\n",
        "                sayi_2 = text.count(tersi)\n",
        "                y = text[::-1].find(tersi)\n",
        "                y = leng - y - 1\n",
        "                if i == '{' or i == '[':\n",
        "                    if sayi_1 != sayi_2 or x > y or not (y - x) % 2:\n",
        "                        result = False\n",
        "                        break\n",
        "            else:\n",
        "                result = False\n",
        "    else:\n",
        "        result = False\n",
        "print(result)"
      ],
      "execution_count": null,
      "outputs": [
        {
          "output_type": "stream",
          "text": [
            "Enter a text > erme()\n",
            "4 5 1 1\n",
            "5 4 1 1\n",
            "False\n"
          ],
          "name": "stdout"
        }
      ]
    },
    {
      "cell_type": "code",
      "metadata": {
        "colab": {
          "base_uri": "https://localhost:8080/"
        },
        "id": "Hfu7ghSMtbL5",
        "outputId": "1777af35-0c33-4ff9-9540-5adadb467bb6"
      },
      "source": [
        "print(f\"ali veli 49 elii\")"
      ],
      "execution_count": null,
      "outputs": [
        {
          "output_type": "stream",
          "text": [
            "ali veli 49 elii\n"
          ],
          "name": "stdout"
        }
      ]
    },
    {
      "cell_type": "code",
      "metadata": {
        "colab": {
          "base_uri": "https://localhost:8080/"
        },
        "id": "nUziZU3pvL36",
        "outputId": "9292a148-7868-4e9a-971a-79a041bd7b32"
      },
      "source": [
        "sayı = dict(beş = [\"emre\"], altı = [\"kaya\"])\n",
        "\n",
        "\n",
        "sayı"
      ],
      "execution_count": null,
      "outputs": [
        {
          "output_type": "execute_result",
          "data": {
            "text/plain": [
              "{'altı': ['kaya'], 'beş': ['emre']}"
            ]
          },
          "metadata": {
            "tags": []
          },
          "execution_count": 53
        }
      ]
    },
    {
      "cell_type": "code",
      "metadata": {
        "colab": {
          "base_uri": "https://localhost:8080/"
        },
        "id": "8msbxxzCw_F8",
        "outputId": "9406fe43-5d54-461e-8c76-81d525dbdbef"
      },
      "source": [
        "sayı[\"beş\"].append(6)\n",
        "sayı"
      ],
      "execution_count": null,
      "outputs": [
        {
          "output_type": "execute_result",
          "data": {
            "text/plain": [
              "{'altı': ['kaya'], 'beş': ['emre', 6]}"
            ]
          },
          "metadata": {
            "tags": []
          },
          "execution_count": 54
        }
      ]
    },
    {
      "cell_type": "code",
      "metadata": {
        "colab": {
          "base_uri": "https://localhost:8080/"
        },
        "id": "5iyNn9HwxtSi",
        "outputId": "ac053855-1120-454d-9b37-c2be55204d3b"
      },
      "source": [
        "set1 = {\"red\", \"blue\", \"pink\", \"red\"}\n",
        "set1"
      ],
      "execution_count": null,
      "outputs": [
        {
          "output_type": "execute_result",
          "data": {
            "text/plain": [
              "{'blue', 'pink', 'red'}"
            ]
          },
          "metadata": {
            "tags": []
          },
          "execution_count": 1
        }
      ]
    },
    {
      "cell_type": "code",
      "metadata": {
        "colab": {
          "base_uri": "https://localhost:8080/"
        },
        "id": "Gbd7yffzu34O",
        "outputId": "2a1d3033-cb90-4fdb-e7db-b0268ea6f7f5"
      },
      "source": [
        "colors = \"red\", \"blue\", \"pink\", \"red\"\n",
        "set2 = set(colors)\n",
        "set2"
      ],
      "execution_count": null,
      "outputs": [
        {
          "output_type": "execute_result",
          "data": {
            "text/plain": [
              "{'blue', 'pink', 'red'}"
            ]
          },
          "metadata": {
            "tags": []
          },
          "execution_count": 2
        }
      ]
    },
    {
      "cell_type": "code",
      "metadata": {
        "colab": {
          "base_uri": "https://localhost:8080/"
        },
        "id": "PFfa_JGmvSnC",
        "outputId": "0ac9851f-67bd-4f7b-8218-8ea57037980e"
      },
      "source": [
        "letter = \"a b c d e f g h i j l k m n o p q r s t x v z\".split()\n",
        "print(letter)"
      ],
      "execution_count": null,
      "outputs": [
        {
          "output_type": "stream",
          "text": [
            "['a', 'b', 'c', 'd', 'e', 'f', 'g', 'h', 'i', 'j', 'l', 'k', 'm', 'n', 'o', 'p', 'q', 'r', 's', 't', 'x', 'v', 'z']\n"
          ],
          "name": "stdout"
        }
      ]
    },
    {
      "cell_type": "code",
      "metadata": {
        "colab": {
          "base_uri": "https://localhost:8080/"
        },
        "id": "OqkFeH21vnvT",
        "outputId": "bdeedba3-c01a-4557-a6cd-cdcf6a7f4550"
      },
      "source": [
        "print(set(letter))"
      ],
      "execution_count": null,
      "outputs": [
        {
          "output_type": "stream",
          "text": [
            "{'h', 'p', 'd', 'b', 'l', 'v', 'j', 'o', 'm', 'g', 'k', 'i', 'a', 'c', 'e', 's', 'r', 'f', 'n', 'x', 't', 'z', 'q'}\n"
          ],
          "name": "stdout"
        }
      ]
    },
    {
      "cell_type": "code",
      "metadata": {
        "colab": {
          "base_uri": "https://localhost:8080/"
        },
        "id": "KCglS6V4wJFD",
        "outputId": "dcd6c938-0617-4fe7-c9c6-b8f5ec21058d"
      },
      "source": [
        "test = {1, \"bir\", 1.0}\n",
        "len(test)\n"
      ],
      "execution_count": null,
      "outputs": [
        {
          "output_type": "execute_result",
          "data": {
            "text/plain": [
              "2"
            ]
          },
          "metadata": {
            "tags": []
          },
          "execution_count": 7
        }
      ]
    },
    {
      "cell_type": "code",
      "metadata": {
        "colab": {
          "base_uri": "https://localhost:8080/"
        },
        "id": "N0Kf799XwTMq",
        "outputId": "9fba81bc-be35-40b0-dfa7-2f2b927c9c4a"
      },
      "source": [
        "1 == 1.0"
      ],
      "execution_count": null,
      "outputs": [
        {
          "output_type": "execute_result",
          "data": {
            "text/plain": [
              "True"
            ]
          },
          "metadata": {
            "tags": []
          },
          "execution_count": 8
        }
      ]
    },
    {
      "cell_type": "code",
      "metadata": {
        "colab": {
          "base_uri": "https://localhost:8080/"
        },
        "id": "NjAwZ8-HxVJ4",
        "outputId": "d890cf82-b0a0-413a-b22f-e017224dc715"
      },
      "source": [
        "a = {\"ali\", \"veli\",\"zeki\"}\n",
        "b = {\"ali\", \"ali\", \"veli\", \"veli\", \"zeki\"}\n",
        "a == b"
      ],
      "execution_count": null,
      "outputs": [
        {
          "output_type": "execute_result",
          "data": {
            "text/plain": [
              "True"
            ]
          },
          "metadata": {
            "tags": []
          },
          "execution_count": 9
        }
      ]
    },
    {
      "cell_type": "code",
      "metadata": {
        "colab": {
          "base_uri": "https://localhost:8080/"
        },
        "id": "98VJRzT-znog",
        "outputId": "9277a258-3bfb-4617-a65d-183c9070e03a"
      },
      "source": [
        "date = \"12/07/2021\"\n",
        "set(date)\n"
      ],
      "execution_count": null,
      "outputs": [
        {
          "output_type": "execute_result",
          "data": {
            "text/plain": [
              "{'/', '0', '1', '2', '7'}"
            ]
          },
          "metadata": {
            "tags": []
          },
          "execution_count": 10
        }
      ]
    },
    {
      "cell_type": "code",
      "metadata": {
        "colab": {
          "base_uri": "https://localhost:8080/",
          "height": 197
        },
        "id": "ma2znnrg0wt2",
        "outputId": "55b3e998-d0f9-4cc3-d0e3-8198f2396d59"
      },
      "source": [
        "a = [1, 3, 5, 6, 7, 8]\n",
        "tesr = {a}\n",
        "a"
      ],
      "execution_count": null,
      "outputs": [
        {
          "output_type": "error",
          "ename": "TypeError",
          "evalue": "ignored",
          "traceback": [
            "\u001b[0;31m---------------------------------------------------------------------------\u001b[0m",
            "\u001b[0;31mTypeError\u001b[0m                                 Traceback (most recent call last)",
            "\u001b[0;32m<ipython-input-11-2a1c8fbd82b7>\u001b[0m in \u001b[0;36m<module>\u001b[0;34m()\u001b[0m\n\u001b[1;32m      1\u001b[0m \u001b[0ma\u001b[0m \u001b[0;34m=\u001b[0m \u001b[0;34m[\u001b[0m\u001b[0;36m1\u001b[0m\u001b[0;34m,\u001b[0m \u001b[0;36m3\u001b[0m\u001b[0;34m,\u001b[0m \u001b[0;36m5\u001b[0m\u001b[0;34m,\u001b[0m \u001b[0;36m6\u001b[0m\u001b[0;34m,\u001b[0m \u001b[0;36m7\u001b[0m\u001b[0;34m,\u001b[0m \u001b[0;36m8\u001b[0m\u001b[0;34m]\u001b[0m\u001b[0;34m\u001b[0m\u001b[0;34m\u001b[0m\u001b[0m\n\u001b[0;32m----> 2\u001b[0;31m \u001b[0mtesr\u001b[0m \u001b[0;34m=\u001b[0m \u001b[0;34m{\u001b[0m\u001b[0ma\u001b[0m\u001b[0;34m}\u001b[0m\u001b[0;34m\u001b[0m\u001b[0;34m\u001b[0m\u001b[0m\n\u001b[0m\u001b[1;32m      3\u001b[0m \u001b[0ma\u001b[0m\u001b[0;34m\u001b[0m\u001b[0;34m\u001b[0m\u001b[0m\n",
            "\u001b[0;31mTypeError\u001b[0m: unhashable type: 'list'"
          ]
        }
      ]
    },
    {
      "cell_type": "code",
      "metadata": {
        "colab": {
          "base_uri": "https://localhost:8080/"
        },
        "id": "ht4HaBfh1GwK",
        "outputId": "3fc990d7-8460-463c-aa16-0bfe130f97c0"
      },
      "source": [
        "minced = True\n",
        "bread = True\n",
        "#green\n",
        "lettuce = True\n",
        "onion = True\n",
        "grocer = True\n",
        "hamburger =(minced and grocer and bread) and (lettuce or onion)\n",
        "if hamburger :\n",
        "  print(\"Bon Appetit!\")\n",
        "  "
      ],
      "execution_count": null,
      "outputs": [
        {
          "output_type": "stream",
          "text": [
            "Bon Appetit!\n"
          ],
          "name": "stdout"
        }
      ]
    },
    {
      "cell_type": "code",
      "metadata": {
        "colab": {
          "base_uri": "https://localhost:8080/"
        },
        "id": "dBhfKMekMo62",
        "outputId": "e110caf8-5381-430c-fedc-5d1fc6e54a2c"
      },
      "source": [
        "a = \"TWELVE PLUS ONE\"\n",
        "b = \"ELEVEN PLUS TWO\"\n",
        "if set(a) == set(b) :\n",
        "  print(\"we are the same\")\n",
        "  "
      ],
      "execution_count": null,
      "outputs": [
        {
          "output_type": "stream",
          "text": [
            "we are the same\n"
          ],
          "name": "stdout"
        }
      ]
    },
    {
      "cell_type": "code",
      "metadata": {
        "colab": {
          "base_uri": "https://localhost:8080/"
        },
        "id": "_5j90aP4Nq-l",
        "outputId": "0dcd8f8c-3e9c-4924-ddf2-cf93c762ee75"
      },
      "source": [
        "a = input(\"Please write YES or NO  \").upper()\n",
        "b = (a == \"YES\")\n",
        "\n",
        "\n",
        "ee = \"Evet Dediğinize Eminimiziniz? \" \n",
        "kk = \"are you ready to go\"\n",
        "\n",
        "cevap = b and ee or kk   \n",
        "k = input(cevap).upper()\n",
        "if k == \"YES\" :\n",
        "  print(\"iyi ki doğdun\")\n",
        "else : \n",
        "    print(\"sevgi\")\n",
        "\n",
        "\n"
      ],
      "execution_count": null,
      "outputs": [
        {
          "output_type": "stream",
          "text": [
            "Please write YES or NO  yes\n",
            "Evet Dediğinize Eminimiziniz? yes\n",
            "iyi ki doğdun\n"
          ],
          "name": "stdout"
        }
      ]
    },
    {
      "cell_type": "code",
      "metadata": {
        "colab": {
          "base_uri": "https://localhost:8080/"
        },
        "id": "HySbYPG0Vv_Q",
        "outputId": "9bae6e0a-6abb-4f2a-9349-3da3c8f824cb"
      },
      "source": [
        "True and 3 or 6"
      ],
      "execution_count": null,
      "outputs": [
        {
          "output_type": "execute_result",
          "data": {
            "text/plain": [
              "3"
            ]
          },
          "metadata": {
            "tags": []
          },
          "execution_count": 43
        }
      ]
    },
    {
      "cell_type": "code",
      "metadata": {
        "colab": {
          "base_uri": "https://localhost:8080/"
        },
        "id": "HHh2itJ8V3fu",
        "outputId": "93607e6c-e690-49b0-91a4-3b13b0a914ef"
      },
      "source": [
        "False and 3 or 6"
      ],
      "execution_count": null,
      "outputs": [
        {
          "output_type": "execute_result",
          "data": {
            "text/plain": [
              "6"
            ]
          },
          "metadata": {
            "tags": []
          },
          "execution_count": 44
        }
      ]
    },
    {
      "cell_type": "code",
      "metadata": {
        "colab": {
          "base_uri": "https://localhost:8080/"
        },
        "id": "wmzDKJB0WRWK",
        "outputId": "0975981b-0c7f-4828-eaf0-ba69b801c8f8"
      },
      "source": [
        "\"no\" == \"yes\""
      ],
      "execution_count": null,
      "outputs": [
        {
          "output_type": "execute_result",
          "data": {
            "text/plain": [
              "False"
            ]
          },
          "metadata": {
            "tags": []
          },
          "execution_count": 48
        }
      ]
    },
    {
      "cell_type": "code",
      "metadata": {
        "colab": {
          "base_uri": "https://localhost:8080/"
        },
        "id": "ShecpzC8XdHe",
        "outputId": "82d163ce-c025-457c-f161-2a78c708445b"
      },
      "source": [
        "\"Yes\" == \"yes\""
      ],
      "execution_count": null,
      "outputs": [
        {
          "output_type": "execute_result",
          "data": {
            "text/plain": [
              "False"
            ]
          },
          "metadata": {
            "tags": []
          },
          "execution_count": 54
        }
      ]
    },
    {
      "cell_type": "code",
      "metadata": {
        "colab": {
          "base_uri": "https://localhost:8080/"
        },
        "id": "lQIJxkzVU3gy",
        "outputId": "31dd9560-f67d-4a15-c19c-e50773e9f7b2"
      },
      "source": [
        "print(len([[12, 34, 56]][0]))"
      ],
      "execution_count": null,
      "outputs": [
        {
          "output_type": "stream",
          "text": [
            "1\n"
          ],
          "name": "stdout"
        }
      ]
    },
    {
      "cell_type": "code",
      "metadata": {
        "colab": {
          "base_uri": "https://localhost:8080/"
        },
        "id": "y86EGw82fd1C",
        "outputId": "17115273-9ce5-49d7-d299-bf8d5fa75928"
      },
      "source": [
        "a = [3, 3, 3, 4, 6, 7, 3, 6, 9, 9 ]\n",
        "\n",
        "encoktekrar = max(set(a), key = a.count)\n",
        "tekrarsay = a.count(encoktekrar)\n",
        "\n",
        "print(\"En çok tekrar edilen sayı\" ,encoktekrar, \"ve\", tekrarsay, \"kere tekrar ediliyor\" )\n"
      ],
      "execution_count": null,
      "outputs": [
        {
          "output_type": "stream",
          "text": [
            "En çok tekrar edilen sayı 3 ve 4 kere tekrar ediliyor\n"
          ],
          "name": "stdout"
        }
      ]
    },
    {
      "cell_type": "code",
      "metadata": {
        "colab": {
          "base_uri": "https://localhost:8080/"
        },
        "id": "w7oqox_2i2Nu",
        "outputId": "a5af9eb0-45ef-4517-e4d0-87a8671021d7"
      },
      "source": [
        "a = [3, 3,3,3,3,3,3, 3, 4, 6, 7, 3, 6, 9, 9,9,9,9 ]\n",
        "k = max(a, key=a.count)\n",
        "print(k)"
      ],
      "execution_count": null,
      "outputs": [
        {
          "output_type": "stream",
          "text": [
            "3\n"
          ],
          "name": "stdout"
        }
      ]
    },
    {
      "cell_type": "code",
      "metadata": {
        "id": "ogjSbSI5izus"
      },
      "source": [
        "a"
      ],
      "execution_count": null,
      "outputs": []
    },
    {
      "cell_type": "code",
      "metadata": {
        "colab": {
          "base_uri": "https://localhost:8080/"
        },
        "id": "icWhFnkfUvK2",
        "outputId": "1dfc6176-572c-4f9b-ad81-b62272749cc0"
      },
      "source": [
        "from collections import Counter\n",
        "  \n",
        "def most_frequent(List):\n",
        "    \n",
        "    return Counter(List).most_common()\n",
        "List = [2, 1, 2, 2, 1, 3]\n",
        "print(most_frequent(List))"
      ],
      "execution_count": null,
      "outputs": [
        {
          "output_type": "stream",
          "text": [
            "[(2, 3), (1, 2), (3, 1)]\n"
          ],
          "name": "stdout"
        }
      ]
    },
    {
      "cell_type": "code",
      "metadata": {
        "colab": {
          "base_uri": "https://localhost:8080/"
        },
        "id": "sGavqvfDpVg4",
        "outputId": "2ddf5c32-57ee-4ac5-85bb-d4e968cd8712"
      },
      "source": [
        "comm1 = 0\n",
        "comm2 = 0\n",
        "righthand = [\"y\",\"h\",\"n\",\"j\",\"k\",\"l\",\"ş\",\"i\",\"u\",\"ı\",\"o\",\"p\",\"ğ\",\"ü\",\"m\",\"ö\",\"ç\"]\n",
        "a = list(input(\"kelimeyi giriniz ? \"))\n",
        "\n",
        "for i in a :\n",
        "  if i in righthand :\n",
        "    comm1 += 1\n",
        "  else:\n",
        "      comm2 += 1\n",
        "if comm1 == 0 or comm2 == 0 :\n",
        "  print(False)\n",
        "else :\n",
        "    print(True)\n",
        "\n"
      ],
      "execution_count": null,
      "outputs": [
        {
          "output_type": "stream",
          "text": [
            "kelimeyi giriniz ? emrekaya\n",
            "True\n"
          ],
          "name": "stdout"
        }
      ]
    },
    {
      "cell_type": "code",
      "metadata": {
        "colab": {
          "base_uri": "https://localhost:8080/"
        },
        "id": "eFez4HDmsao8",
        "outputId": "6de5fb28-e78c-4b82-b111-99a2943235ef"
      },
      "source": [
        "a = [\"dskljfnkjldsnf\"]\n",
        "set(a)\n"
      ],
      "execution_count": null,
      "outputs": [
        {
          "output_type": "execute_result",
          "data": {
            "text/plain": [
              "{'dskljfnkjldsnf'}"
            ]
          },
          "metadata": {
            "tags": []
          },
          "execution_count": 101
        }
      ]
    },
    {
      "cell_type": "code",
      "metadata": {
        "colab": {
          "base_uri": "https://localhost:8080/",
          "height": 180
        },
        "id": "T0qXgRjukNh2",
        "outputId": "044df602-ac6f-459a-be53-8f1cbb995fad"
      },
      "source": [
        ""
      ],
      "execution_count": null,
      "outputs": [
        {
          "output_type": "error",
          "ename": "NameError",
          "evalue": "ignored",
          "traceback": [
            "\u001b[0;31m---------------------------------------------------------------------------\u001b[0m",
            "\u001b[0;31mNameError\u001b[0m                                 Traceback (most recent call last)",
            "\u001b[0;32m<ipython-input-4-86928da7d821>\u001b[0m in \u001b[0;36m<module>\u001b[0;34m()\u001b[0m\n\u001b[1;32m      1\u001b[0m \u001b[0ma\u001b[0m \u001b[0;34m=\u001b[0m \u001b[0;34m(\u001b[0m\u001b[0;36m3\u001b[0m\u001b[0;34m,\u001b[0m \u001b[0;36m3\u001b[0m\u001b[0;34m,\u001b[0m \u001b[0;36m3\u001b[0m\u001b[0;34m,\u001b[0m \u001b[0;36m4\u001b[0m\u001b[0;34m,\u001b[0m \u001b[0;36m6\u001b[0m\u001b[0;34m,\u001b[0m \u001b[0;36m7\u001b[0m\u001b[0;34m,\u001b[0m \u001b[0;36m3\u001b[0m\u001b[0;34m,\u001b[0m \u001b[0;36m6\u001b[0m\u001b[0;34m,\u001b[0m \u001b[0;36m9\u001b[0m\u001b[0;34m,\u001b[0m \u001b[0;36m9\u001b[0m \u001b[0;34m)\u001b[0m\u001b[0;34m\u001b[0m\u001b[0;34m\u001b[0m\u001b[0m\n\u001b[0;32m----> 2\u001b[0;31m \u001b[0mprint\u001b[0m\u001b[0;34m(\u001b[0m\u001b[0mcounter\u001b[0m\u001b[0;34m(\u001b[0m\u001b[0ma\u001b[0m\u001b[0;34m)\u001b[0m\u001b[0;34m)\u001b[0m\u001b[0;34m\u001b[0m\u001b[0;34m\u001b[0m\u001b[0m\n\u001b[0m",
            "\u001b[0;31mNameError\u001b[0m: name 'counter' is not defined"
          ]
        }
      ]
    },
    {
      "cell_type": "code",
      "metadata": {
        "colab": {
          "base_uri": "https://localhost:8080/"
        },
        "id": "YYWq98v3k_5D",
        "outputId": "ad5c64c0-1c90-4f14-80dc-98c8994ebc4f"
      },
      "source": [
        "from collections import Counter\n",
        "  \n",
        "list1 = ['x','y','z','x','x','x','y', 'z']\n",
        "Counter(list1)\n",
        "\n",
        "\n",
        "a = (3, 3, 3, 4, 6, 7, 3, 6, 9, 9 )\n",
        "print(Counter(a))"
      ],
      "execution_count": null,
      "outputs": [
        {
          "output_type": "stream",
          "text": [
            "Counter({3: 4, 6: 2, 9: 2, 4: 1, 7: 1})\n"
          ],
          "name": "stdout"
        }
      ]
    },
    {
      "cell_type": "code",
      "metadata": {
        "colab": {
          "base_uri": "https://localhost:8080/"
        },
        "id": "TxfP225Ipfxa",
        "outputId": "2a1a14a4-290f-4837-9ee9-3610bbbbeea2"
      },
      "source": [
        "a = [3, 3, 3, 4, 6, 7, 3, 6, 9, 9 ]\n",
        "sorted(a)"
      ],
      "execution_count": null,
      "outputs": [
        {
          "output_type": "execute_result",
          "data": {
            "text/plain": [
              "[3, 3, 3, 3, 4, 6, 6, 7, 9, 9]"
            ]
          },
          "metadata": {
            "tags": []
          },
          "execution_count": 11
        }
      ]
    },
    {
      "cell_type": "code",
      "metadata": {
        "colab": {
          "base_uri": "https://localhost:8080/"
        },
        "id": "TOhCvC7Jqu70",
        "outputId": "e2db1f50-ccdb-4eb9-ae13-0f8f8a53e5af"
      },
      "source": [
        "a = list(map(int,input(\"Sayıların arasına boşluk koyarak sayıları  giriniz ?  \").split())) #Split ile burada boşlukları kırparak direk sayıları alıyoruz\n",
        "print(a)\n",
        "b = set(a)\n",
        "print(b)\n",
        "for i in b :\n",
        "  k = a.count(i)\n",
        "  print(\"{} tekrar sayısı {} tir\".format(i, k))\n",
        "\n",
        "\n",
        "encoktekrar = max(b, key = a.count)\n",
        "tekrarsay = a.count(encoktekrar)\n",
        "\n",
        "print(f\" Yazdıklarınız '{a}'  En çok tekrar edilen sayı '{encoktekrar}' ve '{tekrarsay}' kere tekrar ediliyor\" )"
      ],
      "execution_count": null,
      "outputs": [
        {
          "output_type": "stream",
          "text": [
            "Sayıların arasına boşluk koyarak sayıları  giriniz ?  5 5 4 7 6 2 5 1 4 1 2 3 6 9 3 4 2\n",
            "[5, 5, 4, 7, 6, 2, 5, 1, 4, 1, 2, 3, 6, 9, 3, 4, 2]\n",
            "{1, 2, 3, 4, 5, 6, 7, 9}\n",
            "1 tekrar sayısı 2 tir\n",
            "2 tekrar sayısı 3 tir\n",
            "3 tekrar sayısı 2 tir\n",
            "4 tekrar sayısı 3 tir\n",
            "5 tekrar sayısı 3 tir\n",
            "6 tekrar sayısı 2 tir\n",
            "7 tekrar sayısı 1 tir\n",
            "9 tekrar sayısı 1 tir\n",
            " Yazdıklarınız '[5, 5, 4, 7, 6, 2, 5, 1, 4, 1, 2, 3, 6, 9, 3, 4, 2]'  En çok tekrar edilen sayı '2' ve '3' kere tekrar ediliyor\n"
          ],
          "name": "stdout"
        }
      ]
    },
    {
      "cell_type": "code",
      "metadata": {
        "colab": {
          "base_uri": "https://localhost:8080/"
        },
        "id": "pgY6mb0CZlO6",
        "outputId": "9f59c1c9-9c3e-405b-dc59-6a130dbb74a2"
      },
      "source": [
        "a = [int(a) for a in input(\"Sayıların arasına virgül koyarak sayıları  giriniz ?  \").split(\",\")] #Split ile burada boşlukları kırparak direk sayıları alıyoruz\n",
        "print(a)\n",
        "b = set(a)\n",
        "print(b)\n",
        "for i in b :\n",
        "  k = a.count(i)\n",
        "  print(\"{} tekrar sayısı {} tir\".format(i, k))\n",
        "\n",
        "\n",
        "encoktekrar = max(b, key = a.count)\n",
        "tekrarsay = a.count(encoktekrar)\n",
        "\n",
        "print(\"En çok tekrar edilen sayı\" ,encoktekrar, \"ve\", tekrarsay, \"kere tekrar ediliyor\" )"
      ],
      "execution_count": null,
      "outputs": [
        {
          "output_type": "stream",
          "text": [
            "Sayıların arasına virgül koyarak sayıları  giriniz ?  2,3,6,2,3,3\n",
            "[2, 3, 6, 2, 3, 3]\n",
            "{2, 3, 6}\n",
            "2 tekrar sayısı 2 tir\n",
            "3 tekrar sayısı 3 tir\n",
            "6 tekrar sayısı 1 tir\n",
            "En çok tekrar edilen sayı 3 ve 3 kere tekrar ediliyor\n"
          ],
          "name": "stdout"
        }
      ]
    },
    {
      "cell_type": "code",
      "metadata": {
        "colab": {
          "base_uri": "https://localhost:8080/"
        },
        "id": "Sp4ah1h2w8Ew",
        "outputId": "14452c1c-2e72-4f5a-e257-22096000f945"
      },
      "source": [
        "silicon_valley = [\"shahzada\", \"fawad\", \"programming\", \"digest\"]\n",
        "for index_value in range(len(silicon_valley)):\n",
        "  print(f\"The index value of {silicon_valley[index_value]} is {index_value}\")\n",
        "  "
      ],
      "execution_count": null,
      "outputs": [
        {
          "output_type": "stream",
          "text": [
            "The index value of shahzada is 0\n",
            "The index value of fawad is 1\n",
            "The index value of programming is 2\n",
            "The index value of digest is 3\n"
          ],
          "name": "stdout"
        }
      ]
    },
    {
      "cell_type": "code",
      "metadata": {
        "colab": {
          "base_uri": "https://localhost:8080/"
        },
        "id": "FhAlHNWhIVlp",
        "outputId": "ac42532b-85f2-4e3e-dac5-6a54b7c83515"
      },
      "source": [
        "num = int(input(\"Enter a number ? \"))\n",
        "if (num % 2) == 0:\n",
        "  print(\"{0} is Even\".format(num))\n",
        "else :\n",
        "  print(\"{0} is odd\".format(num))"
      ],
      "execution_count": null,
      "outputs": [
        {
          "output_type": "stream",
          "text": [
            "Enter a number ? 6\n",
            "6 is Even\n"
          ],
          "name": "stdout"
        }
      ]
    },
    {
      "cell_type": "code",
      "metadata": {
        "colab": {
          "base_uri": "https://localhost:8080/"
        },
        "id": "x7LJd6gdL8-E",
        "outputId": "b8df86c8-467a-43b8-b4c1-5a15d871362a"
      },
      "source": [
        "bool_value = False\n",
        "if bool_value :\n",
        "  print((\"Yes\"))\n",
        "else:\n",
        "  print(\"No\")\n"
      ],
      "execution_count": null,
      "outputs": [
        {
          "output_type": "stream",
          "text": [
            "No\n"
          ],
          "name": "stdout"
        }
      ]
    },
    {
      "cell_type": "code",
      "metadata": {
        "colab": {
          "base_uri": "https://localhost:8080/"
        },
        "id": "7klTckYVOWT3",
        "outputId": "420b3594-79eb-4edc-cf3e-63cac7dbcfb0"
      },
      "source": [
        "a = float(input(\"1. sayıyı giriniz? \"))\n",
        "b = float(input(\"2. sayıyı giriniz? \"))\n",
        "c = float(input(\"3. sayıyı giriniz? \"))\n",
        "\n",
        "if a > b and a > c:\n",
        "  print(\"en büyük sayı \", a)\n",
        "elif b > c and b > a :\n",
        "  print(\"en büyük sayı\", b)\n",
        "else :\n",
        "  print(\"en büyük sayı \", c)\n"
      ],
      "execution_count": null,
      "outputs": [
        {
          "output_type": "stream",
          "text": [
            "1. sayıyı giriniz? -3\n",
            "2. sayıyı giriniz? -5\n",
            "3. sayıyı giriniz? 9\n",
            "en büyük sayı  9.0\n"
          ],
          "name": "stdout"
        }
      ]
    },
    {
      "cell_type": "code",
      "metadata": {
        "colab": {
          "base_uri": "https://localhost:8080/"
        },
        "id": "TFqxynz0Vimn",
        "outputId": "fd2fbced-0d11-437e-de8f-52c16d4bdc93"
      },
      "source": [
        "a = int(input(\"Please enter your exam score ? \"))\n",
        "if  a >= 95 :\n",
        "    print(\"Your degree is A+\")\n",
        "elif a >= 90 or a <=94 :\n",
        "    print(\"Your degree is a+\")\n",
        "else :\n",
        "    print(\"Your degree is B+\")"
      ],
      "execution_count": null,
      "outputs": [
        {
          "output_type": "stream",
          "text": [
            "Please enter your exam score ? 90\n",
            "Your degree is a+\n"
          ],
          "name": "stdout"
        }
      ]
    },
    {
      "cell_type": "code",
      "metadata": {
        "colab": {
          "base_uri": "https://localhost:8080/"
        },
        "id": "WQsN4PBsYDCl",
        "outputId": "d9b27f18-b6c2-4aa4-d002-cda3f4e8c292"
      },
      "source": [
        "sayı5 = int(input(\"Please enter your exam score ? \"))\n",
        "\n",
        "if sayı5 >= 95 :\n",
        "    print(\"Your degree is A+\")\n",
        "else :\n",
        "    print(\"cöxçvnçöxv\")\n"
      ],
      "execution_count": null,
      "outputs": [
        {
          "output_type": "stream",
          "text": [
            "Please enter your exam score ? 90\n",
            "cöxçvnçöxv\n"
          ],
          "name": "stdout"
        }
      ]
    },
    {
      "cell_type": "code",
      "metadata": {
        "colab": {
          "base_uri": "https://localhost:8080/"
        },
        "id": "1TQ3ZeRGamJb",
        "outputId": "8ea01d16-1942-42ad-991e-cbd78055847a"
      },
      "source": [
        "items = (10, 20)\n",
        "x, y = items\n",
        "x"
      ],
      "execution_count": null,
      "outputs": [
        {
          "output_type": "execute_result",
          "data": {
            "text/plain": [
              "10"
            ]
          },
          "metadata": {
            "tags": []
          },
          "execution_count": 45
        }
      ]
    },
    {
      "cell_type": "code",
      "metadata": {
        "colab": {
          "base_uri": "https://localhost:8080/",
          "height": 163
        },
        "id": "61iZhCc5bwmE",
        "outputId": "f6a8813b-61e2-4a40-9af3-58ba4d2df09e"
      },
      "source": [
        "x, y, z = (11, 22, 33, 44, 55)\n"
      ],
      "execution_count": null,
      "outputs": [
        {
          "output_type": "error",
          "ename": "ValueError",
          "evalue": "ignored",
          "traceback": [
            "\u001b[0;31m---------------------------------------------------------------------------\u001b[0m",
            "\u001b[0;31mValueError\u001b[0m                                Traceback (most recent call last)",
            "\u001b[0;32m<ipython-input-46-9f0c1446e707>\u001b[0m in \u001b[0;36m<module>\u001b[0;34m()\u001b[0m\n\u001b[0;32m----> 1\u001b[0;31m \u001b[0mx\u001b[0m\u001b[0;34m,\u001b[0m \u001b[0my\u001b[0m\u001b[0;34m,\u001b[0m \u001b[0mz\u001b[0m \u001b[0;34m=\u001b[0m \u001b[0;34m(\u001b[0m\u001b[0;36m11\u001b[0m\u001b[0;34m,\u001b[0m \u001b[0;36m22\u001b[0m\u001b[0;34m,\u001b[0m \u001b[0;36m33\u001b[0m\u001b[0;34m,\u001b[0m \u001b[0;36m44\u001b[0m\u001b[0;34m,\u001b[0m \u001b[0;36m55\u001b[0m\u001b[0;34m)\u001b[0m\u001b[0;34m\u001b[0m\u001b[0;34m\u001b[0m\u001b[0m\n\u001b[0m",
            "\u001b[0;31mValueError\u001b[0m: too many values to unpack (expected 3)"
          ]
        }
      ]
    },
    {
      "cell_type": "code",
      "metadata": {
        "colab": {
          "base_uri": "https://localhost:8080/"
        },
        "id": "ZTryTd8UcF33",
        "outputId": "a65fbb52-c0dc-43bf-fcc5-f73c5d07f6a8"
      },
      "source": [
        "x, y, *z = (11, 22, 33, 44)\n",
        "z"
      ],
      "execution_count": null,
      "outputs": [
        {
          "output_type": "execute_result",
          "data": {
            "text/plain": [
              "[33, 44]"
            ]
          },
          "metadata": {
            "tags": []
          },
          "execution_count": 50
        }
      ]
    },
    {
      "cell_type": "code",
      "metadata": {
        "colab": {
          "base_uri": "https://localhost:8080/"
        },
        "id": "isI-a4CycgJ_",
        "outputId": "06e3aed9-c6eb-42e2-b4ba-7c7014169673"
      },
      "source": [
        "x, y, *_ = ( 55,55,66,99,44,77,1,6,3)\n",
        "x,y,_"
      ],
      "execution_count": null,
      "outputs": [
        {
          "output_type": "execute_result",
          "data": {
            "text/plain": [
              "(55, 55, [66, 99, 44, 77, 1, 6, 3])"
            ]
          },
          "metadata": {
            "tags": []
          },
          "execution_count": 57
        }
      ]
    },
    {
      "cell_type": "code",
      "metadata": {
        "colab": {
          "base_uri": "https://localhost:8080/"
        },
        "id": "r_3tQ9KjdHc5",
        "outputId": "47e39a89-53b5-4293-a54d-add571e2c3fb"
      },
      "source": [
        "x, y, *z, t = (11, 22, 33, 44, 55, 66, 77)\n",
        "x,y,z,t"
      ],
      "execution_count": null,
      "outputs": [
        {
          "output_type": "execute_result",
          "data": {
            "text/plain": [
              "(11, 22, [33, 44, 55, 66], 77)"
            ]
          },
          "metadata": {
            "tags": []
          },
          "execution_count": 59
        }
      ]
    },
    {
      "cell_type": "code",
      "metadata": {
        "colab": {
          "base_uri": "https://localhost:8080/"
        },
        "id": "_0I3oQoPeUHp",
        "outputId": "c8667ca9-53be-4b81-f355-f6dff94caf4f"
      },
      "source": [
        "from collections import Counter\n",
        "c = Counter(p=4, q=2, r=0, s=-2)\n",
        "print(list(c.elements()))\n"
      ],
      "execution_count": null,
      "outputs": [
        {
          "output_type": "stream",
          "text": [
            "['p', 'p', 'p', 'p', 'q', 'q']\n"
          ],
          "name": "stdout"
        }
      ]
    },
    {
      "cell_type": "code",
      "metadata": {
        "colab": {
          "base_uri": "https://localhost:8080/"
        },
        "id": "E7VIhE8QT_G0",
        "outputId": "dbe5a9b2-916b-4273-ae2f-af94b175ea07"
      },
      "source": [
        "x, y = input(\"Enter a two value: \").split()\n",
        "print(\"Number of boys: \", x)\n",
        "print(\"Number of girls: \", y)\n",
        "print()"
      ],
      "execution_count": null,
      "outputs": [
        {
          "output_type": "stream",
          "text": [
            "Enter a two value: 5 9\n",
            "Number of boys:  5\n",
            "Number of girls:  9\n",
            "\n"
          ],
          "name": "stdout"
        }
      ]
    },
    {
      "cell_type": "code",
      "metadata": {
        "colab": {
          "base_uri": "https://localhost:8080/"
        },
        "id": "ithuL-bnV7Uv",
        "outputId": "73e751ec-eef0-411b-a4c7-b6f5b771193b"
      },
      "source": [
        "x = list(input(\"Enter a multiple value: \").split()) # string olarak aldık\n",
        "print(\"List of students: \", x)"
      ],
      "execution_count": null,
      "outputs": [
        {
          "output_type": "stream",
          "text": [
            "Enter a multiple value: 2 5 4 8 6 2 5 2 5 4 5\n",
            "List of students:  ['2', '5', '4', '8', '6', '2', '5', '2', '5', '4', '5']\n"
          ],
          "name": "stdout"
        }
      ]
    },
    {
      "cell_type": "code",
      "metadata": {
        "colab": {
          "base_uri": "https://localhost:8080/"
        },
        "id": "CJirqUltWPMe",
        "outputId": "42086136-112e-4eb7-a1c5-f301ba2b2927"
      },
      "source": [
        "x = list(map(int, input(\"sayıları gir\").split())) #int olarak aldık map fonksiyonu ile\n",
        "print(\"listemiz\", x)"
      ],
      "execution_count": null,
      "outputs": [
        {
          "output_type": "stream",
          "text": [
            "sayıları gir4 5 7 5 8 7 44 4 1 2\n",
            "listemiz [4, 5, 7, 5, 8, 7, 44, 4, 1, 2]\n"
          ],
          "name": "stdout"
        }
      ]
    },
    {
      "cell_type": "code",
      "metadata": {
        "colab": {
          "base_uri": "https://localhost:8080/"
        },
        "id": "geHqlfAbY0pn",
        "outputId": "64c608d1-34ae-413c-f84d-69c8aeb4f83b"
      },
      "source": [
        "x = [int(x) for x in input(\"Enter multiple value: \").split(\",\")]\n",
        "print(\"Number of list is: \", x)"
      ],
      "execution_count": null,
      "outputs": [
        {
          "output_type": "stream",
          "text": [
            "Enter multiple value: 6,5,8,7,4,1\n",
            "Number of list is:  [6, 5, 8, 7, 4, 1]\n"
          ],
          "name": "stdout"
        }
      ]
    },
    {
      "cell_type": "code",
      "metadata": {
        "colab": {
          "base_uri": "https://localhost:8080/"
        },
        "id": "e2Pgo7JNiIaS",
        "outputId": "46476ed9-3000-4f91-b410-8e2b96f66c2f"
      },
      "source": [
        "count_seconds = 4\n",
        "for i in reversed(range(count_seconds + 1)):\n",
        "    if i > 0 and i <= 4:\n",
        "        print(i, end='>>>>>>>>')\n",
        "        time.sleep(0.5)\n",
        "    elif i == 0:\n",
        "        print(\"Finish\")\n",
        "    else:\n",
        "        print('Start')"
      ],
      "execution_count": null,
      "outputs": [
        {
          "output_type": "stream",
          "text": [
            "4>>>>>>>>3>>>>>>>>2>>>>>>>>1>>>>>>>>Finish\n"
          ],
          "name": "stdout"
        }
      ]
    },
    {
      "cell_type": "code",
      "metadata": {
        "colab": {
          "base_uri": "https://localhost:8080/"
        },
        "id": "808WSM2Im3Lc",
        "outputId": "32ec9ead-6d43-4238-f9e8-4044ed2915da"
      },
      "source": [
        "count_seconds = 3\n",
        "for i in reversed(range(count_seconds + 1)):\n",
        "    if i > 0:\n",
        "        print(i, end='>>>', flush = True)\n",
        "        time.sleep(1)\n",
        "    else:\n",
        "        print('Start')"
      ],
      "execution_count": null,
      "outputs": [
        {
          "output_type": "stream",
          "text": [
            "3>>>2>>>1>>>Start\n"
          ],
          "name": "stdout"
        }
      ]
    },
    {
      "cell_type": "code",
      "metadata": {
        "colab": {
          "base_uri": "https://localhost:8080/"
        },
        "id": "-QShZejdnWcy",
        "outputId": "ac2a5a0e-36e1-4e41-f568-eac233aae511"
      },
      "source": [
        "cstr = \"I love geeksforgeeks\"\n",
        "   \n",
        "# Printing the center aligned \n",
        "# string with fillchr\n",
        "print (\"Center aligned string with fillchr: \")\n",
        "print (cstr.center(40, '#'))\n",
        " \n",
        "# Printing the left aligned \n",
        "# string with \"-\" padding \n",
        "print (\"The left aligned string is : \")\n",
        "print (cstr.ljust(40, '-'))\n",
        " \n",
        "# Printing the right aligned string\n",
        "# with \"-\" padding \n",
        "print (\"The right aligned string is : \")\n",
        "print (cstr.rjust(40, '-'))"
      ],
      "execution_count": null,
      "outputs": [
        {
          "output_type": "stream",
          "text": [
            "Center aligned string with fillchr: \n",
            "##########I love geeksforgeeks##########\n",
            "The left aligned string is : \n",
            "I love geeksforgeeks--------------------\n",
            "The right aligned string is : \n",
            "--------------------I love geeksforgeeks\n"
          ],
          "name": "stdout"
        }
      ]
    },
    {
      "cell_type": "code",
      "metadata": {
        "colab": {
          "base_uri": "https://localhost:8080/"
        },
        "id": "yp1ZjgqsqJQO",
        "outputId": "c5e1b1df-9019-4d91-a6fc-8823c1887f71"
      },
      "source": [
        "print('I love {} for \"{}!\"'.format('Geeks', 'Geeks'))\n",
        " \n",
        "# using format() method and referring\n",
        "# a position of the object\n",
        "print('{0} and {1}'.format('Geeks', 'Portal'))\n",
        " \n",
        "print('{1} and {0}'.format('Geeks', 'Portal'))\n",
        " \n",
        " \n",
        "# the above formatting can also be done by using f-Strings\n",
        "# Although, this features work only with python 3.6 or above.\n",
        " \n",
        "print(f\"I love {'Geeks'} for \\\"{'Geeks'}!\\\"\")\n",
        " \n",
        "# using format() method and referring\n",
        "# a position of the object\n",
        "print(f\"{'Geeks'} and {'Portal'}\")"
      ],
      "execution_count": null,
      "outputs": [
        {
          "output_type": "stream",
          "text": [
            "I love Geeks for \"Geeks!\"\n",
            "Geeks and Portal\n",
            "Portal and Geeks\n",
            "I love Geeks for \"Geeks!\"\n",
            "Geeks and Portal\n"
          ],
          "name": "stdout"
        }
      ]
    },
    {
      "cell_type": "code",
      "metadata": {
        "colab": {
          "base_uri": "https://localhost:8080/"
        },
        "id": "95P3YFmqybHn",
        "outputId": "945bcf69-84a7-411d-9cd1-ac5ab1f72bd5"
      },
      "source": [
        "num = int(input(\"bir sayı giriniz :\"))\n",
        "if num > 1 :\n",
        "  for i in range(2,num):\n",
        "    if (num % i) == 0 :\n",
        "      print(num,\"asal sayı değildir\")\n",
        "      break\n",
        "    else :\n",
        "      print(num,\"asal sayıdır\")\n",
        "else :\n",
        "  print(\"asal sayı değildir\")\n",
        "      \n",
        "\n"
      ],
      "execution_count": null,
      "outputs": [
        {
          "output_type": "stream",
          "text": [
            "bir sayı giriniz :11\n",
            "11 asal sayıdır\n",
            "11 asal sayıdır\n",
            "11 asal sayıdır\n",
            "11 asal sayıdır\n",
            "11 asal sayıdır\n",
            "11 asal sayıdır\n",
            "11 asal sayıdır\n",
            "11 asal sayıdır\n",
            "11 asal sayıdır\n"
          ],
          "name": "stdout"
        }
      ]
    },
    {
      "cell_type": "code",
      "metadata": {
        "id": "iUAgDaPZLP93",
        "colab": {
          "base_uri": "https://localhost:8080/"
        },
        "outputId": "0727df06-447e-4bc0-c2b1-0b31f7785bb9"
      },
      "source": [
        "com = 0\n",
        "num = int(input(\"Enter a number please? \"))\n",
        "for i in range(2,num) :\n",
        "    if (num % i) == 0 :\n",
        "      com = 1\n",
        "\n",
        "if com == 0  :\n",
        "  print(num, \"is a Prime Number\")\n",
        "else :\n",
        "    print(num, \"isn't a prime number\")"
      ],
      "execution_count": null,
      "outputs": [
        {
          "output_type": "stream",
          "text": [
            "Enter a number please? 20\n",
            "20 isn't a prime number\n"
          ],
          "name": "stdout"
        }
      ]
    },
    {
      "cell_type": "code",
      "metadata": {
        "colab": {
          "base_uri": "https://localhost:8080/"
        },
        "id": "A_GYCNNuQkpI",
        "outputId": "613a2c65-dc2e-431a-fbfa-e57aff1d587a"
      },
      "source": [
        "list(range(2, 9))"
      ],
      "execution_count": null,
      "outputs": [
        {
          "output_type": "execute_result",
          "data": {
            "text/plain": [
              "[2, 3, 4, 5, 6, 7, 8]"
            ]
          },
          "metadata": {
            "tags": []
          },
          "execution_count": 131
        }
      ]
    },
    {
      "cell_type": "code",
      "metadata": {
        "colab": {
          "base_uri": "https://localhost:8080/"
        },
        "id": "6znQDD_R7swz",
        "outputId": "a94611e5-f11b-407a-c8e7-1d84a0c0b063"
      },
      "source": [
        "password = {\"Emre\":\"ali_22\", \"Zeki\":\"ahmet_66\", \"Ahmet\":\"kastamonu22\"}\n",
        "name = input(\"Enter your name please? \").title()\n",
        "a = list(password.values())\n",
        "b = list(password.keys())\n",
        "if name in b :\n",
        "  print(\"Welcome\", name, \"your password is\", a[b.index(name)])\n",
        "else :\n",
        "  print(name, \"Good bye!!!\")\n",
        "\n"
      ],
      "execution_count": null,
      "outputs": [
        {
          "output_type": "stream",
          "text": [
            "Enter your name please? ahmet\n",
            "Welcome Ahmet your password is kastamonu22\n"
          ],
          "name": "stdout"
        }
      ]
    },
    {
      "cell_type": "code",
      "metadata": {
        "colab": {
          "base_uri": "https://localhost:8080/"
        },
        "id": "J3EJGyYYO75c",
        "outputId": "803505d1-b406-4c9d-e69a-531f32073070"
      },
      "source": [
        "password[\"mehmet\"] = \"kasım\"\n",
        "print(password)"
      ],
      "execution_count": null,
      "outputs": [
        {
          "output_type": "stream",
          "text": [
            "{'emre': 'ali', 'zeki': 'ahmet', 'mehmet': 'kasım'}\n"
          ],
          "name": "stdout"
        }
      ]
    },
    {
      "cell_type": "code",
      "metadata": {
        "colab": {
          "base_uri": "https://localhost:8080/"
        },
        "id": "JhZbbABEv5da",
        "outputId": "97630778-cc27-4a52-ef5a-b0a2f7450cd9"
      },
      "source": [
        "co1, co2, co3 = 0,0,0 \n",
        "age = input(\"Are you a cigarette addict older than 75 years old? \") .capitalize().strip()\n",
        "chronic = input(\"Do you have a severe chronic disease? \" ).capitalize().strip()\n",
        "immune = input(\"Is your immune system too weak? \").capitalize().strip()\n",
        "for i in age,chronic,immune :\n",
        "   if age == \"Yes\" :\n",
        "     co1 = 1\n",
        "   elif chronic == \"Yes\" :\n",
        "    co2 = 1\n",
        "   elif immune == \"Yes\" :\n",
        "    co3 = 1\n",
        "   else:\n",
        "     print(\"Your answer is invalid\")\n",
        "     break\n",
        "if (co1 == 0 and co2 == 0) and co3 == 0 :\n",
        "  print(\"You havent any  dealth risk\")\n",
        "else :\n",
        "  print(\"You have a dealth risk\")"
      ],
      "execution_count": null,
      "outputs": [
        {
          "output_type": "stream",
          "text": [
            "Are you a cigarette addict older than 75 years old? yes\n",
            "Do you have a severe chronic disease? yes\n",
            "Is your immune system too weak? no\n",
            "You have a dealth risk\n"
          ],
          "name": "stdout"
        }
      ]
    },
    {
      "cell_type": "code",
      "metadata": {
        "colab": {
          "base_uri": "https://localhost:8080/",
          "height": 129
        },
        "id": "ofz5ws4BmO2_",
        "outputId": "e927110a-5bd5-4bc0-f138-2c0fbfec9dd6"
      },
      "source": [
        ""
      ],
      "execution_count": null,
      "outputs": [
        {
          "output_type": "error",
          "ename": "SyntaxError",
          "evalue": "ignored",
          "traceback": [
            "\u001b[0;36m  File \u001b[0;32m\"<ipython-input-77-37f53abfcb87>\"\u001b[0;36m, line \u001b[0;32m4\u001b[0m\n\u001b[0;31m    print(i *= b)\u001b[0m\n\u001b[0m             ^\u001b[0m\n\u001b[0;31mSyntaxError\u001b[0m\u001b[0;31m:\u001b[0m invalid syntax\n"
          ]
        }
      ]
    },
    {
      "cell_type": "code",
      "metadata": {
        "colab": {
          "base_uri": "https://localhost:8080/"
        },
        "id": "D8_EtS5Gm8da",
        "outputId": "44fc7ed2-9b20-4bce-c00e-ebf9a32eeff8"
      },
      "source": [
        "tuple(\"12\")"
      ],
      "execution_count": null,
      "outputs": [
        {
          "output_type": "execute_result",
          "data": {
            "text/plain": [
              "('1', '2')"
            ]
          },
          "metadata": {
            "tags": []
          },
          "execution_count": 6
        }
      ]
    },
    {
      "cell_type": "code",
      "metadata": {
        "colab": {
          "base_uri": "https://localhost:8080/"
        },
        "id": "iFN1kLkQnyuY",
        "outputId": "74b259f4-61d5-4146-9dad-876985bd035f"
      },
      "source": [
        "i = 0\n",
        "plusagain = 0\n",
        "number =  input(\"Enter a number please? \")\n",
        "while not number.isdigit():\n",
        "  print(\"Your format is incorrect\")\n",
        "  number = input(\"Enter a number please? \")\n",
        "a = list(number)\n",
        "while i < len(a) :\n",
        "  x = int(a[i]) ** len(a) \n",
        "  plusagain = plusagain + x\n",
        "  \n",
        "  i += 1\n",
        "if plusagain == int(number) :\n",
        "  print(number, \" is an Armstrong number\")\n",
        "else:\n",
        "  print(number, \" isn't an Armstrong number\")\n",
        "\n"
      ],
      "execution_count": null,
      "outputs": [
        {
          "output_type": "stream",
          "text": [
            "Enter a number please? 4338281769391370\n",
            "4338281769391370  is an Armstrong number\n"
          ],
          "name": "stdout"
        }
      ]
    },
    {
      "cell_type": "code",
      "metadata": {
        "colab": {
          "base_uri": "https://localhost:8080/",
          "height": 129
        },
        "id": "nSPZ39sP7BgI",
        "outputId": "90cfa58a-495b-48f5-fe63-efb3a2510661"
      },
      "source": [
        "if type(num) != int :\n",
        "  print(\"invalid\")\n",
        "else :\n",
        "num = int(input(\"enter a integer number :\")) \n",
        "result = 0\n",
        "new_num = num\n",
        "n = len(str(num))\n",
        "while new_num > 0 :\n",
        "  digit = new_num % 10\n",
        "  result = result + digit**3\n",
        "  new_num = new_num//10\n",
        "if result == num :\n",
        "    print(num, \" is a armstrong number\")\n",
        "else :\n",
        "      print(num, \"number is not a armstrong number\")\n"
      ],
      "execution_count": null,
      "outputs": [
        {
          "output_type": "error",
          "ename": "IndentationError",
          "evalue": "ignored",
          "traceback": [
            "\u001b[0;36m  File \u001b[0;32m\"<ipython-input-2-7099bc43fdc3>\"\u001b[0;36m, line \u001b[0;32m4\u001b[0m\n\u001b[0;31m    num = int(input(\"enter a integer number :\"))\u001b[0m\n\u001b[0m      ^\u001b[0m\n\u001b[0;31mIndentationError\u001b[0m\u001b[0;31m:\u001b[0m expected an indented block\n"
          ]
        }
      ]
    },
    {
      "cell_type": "code",
      "metadata": {
        "colab": {
          "base_uri": "https://localhost:8080/",
          "height": 731
        },
        "id": "lpOhwElqjMJs",
        "outputId": "5926cf49-3760-4f8a-da1d-35a7d02ff03e"
      },
      "source": [
        "while True:\n",
        "    x = input(\"Bir sayı girin: \")\n",
        "    if not x:\n",
        "        break\n",
        "    try:\n",
        "        y = float(x)\n",
        "    except ValueError:\n",
        "        print(\"Geçersiz sayı\")\n",
        "        continue\n",
        "    print(y**2)"
      ],
      "execution_count": null,
      "outputs": [
        {
          "output_type": "stream",
          "text": [
            "Bir sayı girin: 25\n",
            "625.0\n",
            "Bir sayı girin: 25\n",
            "625.0\n",
            "Bir sayı girin: 14\n",
            "196.0\n",
            "Bir sayı girin: 0\n",
            "0.0\n",
            "Bir sayı girin: 6\n",
            "36.0\n",
            "Bir sayı girin: 0\n",
            "0.0\n"
          ],
          "name": "stdout"
        },
        {
          "output_type": "error",
          "ename": "KeyboardInterrupt",
          "evalue": "ignored",
          "traceback": [
            "\u001b[0;31m---------------------------------------------------------------------------\u001b[0m",
            "\u001b[0;31mKeyboardInterrupt\u001b[0m                         Traceback (most recent call last)",
            "\u001b[0;32m/usr/local/lib/python3.7/dist-packages/ipykernel/kernelbase.py\u001b[0m in \u001b[0;36m_input_request\u001b[0;34m(self, prompt, ident, parent, password)\u001b[0m\n\u001b[1;32m    728\u001b[0m             \u001b[0;32mtry\u001b[0m\u001b[0;34m:\u001b[0m\u001b[0;34m\u001b[0m\u001b[0;34m\u001b[0m\u001b[0m\n\u001b[0;32m--> 729\u001b[0;31m                 \u001b[0mident\u001b[0m\u001b[0;34m,\u001b[0m \u001b[0mreply\u001b[0m \u001b[0;34m=\u001b[0m \u001b[0mself\u001b[0m\u001b[0;34m.\u001b[0m\u001b[0msession\u001b[0m\u001b[0;34m.\u001b[0m\u001b[0mrecv\u001b[0m\u001b[0;34m(\u001b[0m\u001b[0mself\u001b[0m\u001b[0;34m.\u001b[0m\u001b[0mstdin_socket\u001b[0m\u001b[0;34m,\u001b[0m \u001b[0;36m0\u001b[0m\u001b[0;34m)\u001b[0m\u001b[0;34m\u001b[0m\u001b[0;34m\u001b[0m\u001b[0m\n\u001b[0m\u001b[1;32m    730\u001b[0m             \u001b[0;32mexcept\u001b[0m \u001b[0mException\u001b[0m\u001b[0;34m:\u001b[0m\u001b[0;34m\u001b[0m\u001b[0;34m\u001b[0m\u001b[0m\n",
            "\u001b[0;32m/usr/local/lib/python3.7/dist-packages/jupyter_client/session.py\u001b[0m in \u001b[0;36mrecv\u001b[0;34m(self, socket, mode, content, copy)\u001b[0m\n\u001b[1;32m    802\u001b[0m         \u001b[0;32mtry\u001b[0m\u001b[0;34m:\u001b[0m\u001b[0;34m\u001b[0m\u001b[0;34m\u001b[0m\u001b[0m\n\u001b[0;32m--> 803\u001b[0;31m             \u001b[0mmsg_list\u001b[0m \u001b[0;34m=\u001b[0m \u001b[0msocket\u001b[0m\u001b[0;34m.\u001b[0m\u001b[0mrecv_multipart\u001b[0m\u001b[0;34m(\u001b[0m\u001b[0mmode\u001b[0m\u001b[0;34m,\u001b[0m \u001b[0mcopy\u001b[0m\u001b[0;34m=\u001b[0m\u001b[0mcopy\u001b[0m\u001b[0;34m)\u001b[0m\u001b[0;34m\u001b[0m\u001b[0;34m\u001b[0m\u001b[0m\n\u001b[0m\u001b[1;32m    804\u001b[0m         \u001b[0;32mexcept\u001b[0m \u001b[0mzmq\u001b[0m\u001b[0;34m.\u001b[0m\u001b[0mZMQError\u001b[0m \u001b[0;32mas\u001b[0m \u001b[0me\u001b[0m\u001b[0;34m:\u001b[0m\u001b[0;34m\u001b[0m\u001b[0;34m\u001b[0m\u001b[0m\n",
            "\u001b[0;32m/usr/local/lib/python3.7/dist-packages/zmq/sugar/socket.py\u001b[0m in \u001b[0;36mrecv_multipart\u001b[0;34m(self, flags, copy, track)\u001b[0m\n\u001b[1;32m    582\u001b[0m         \"\"\"\n\u001b[0;32m--> 583\u001b[0;31m         \u001b[0mparts\u001b[0m \u001b[0;34m=\u001b[0m \u001b[0;34m[\u001b[0m\u001b[0mself\u001b[0m\u001b[0;34m.\u001b[0m\u001b[0mrecv\u001b[0m\u001b[0;34m(\u001b[0m\u001b[0mflags\u001b[0m\u001b[0;34m,\u001b[0m \u001b[0mcopy\u001b[0m\u001b[0;34m=\u001b[0m\u001b[0mcopy\u001b[0m\u001b[0;34m,\u001b[0m \u001b[0mtrack\u001b[0m\u001b[0;34m=\u001b[0m\u001b[0mtrack\u001b[0m\u001b[0;34m)\u001b[0m\u001b[0;34m]\u001b[0m\u001b[0;34m\u001b[0m\u001b[0;34m\u001b[0m\u001b[0m\n\u001b[0m\u001b[1;32m    584\u001b[0m         \u001b[0;31m# have first part already, only loop while more to receive\u001b[0m\u001b[0;34m\u001b[0m\u001b[0;34m\u001b[0m\u001b[0;34m\u001b[0m\u001b[0m\n",
            "\u001b[0;32mzmq/backend/cython/socket.pyx\u001b[0m in \u001b[0;36mzmq.backend.cython.socket.Socket.recv\u001b[0;34m()\u001b[0m\n",
            "\u001b[0;32mzmq/backend/cython/socket.pyx\u001b[0m in \u001b[0;36mzmq.backend.cython.socket.Socket.recv\u001b[0;34m()\u001b[0m\n",
            "\u001b[0;32mzmq/backend/cython/socket.pyx\u001b[0m in \u001b[0;36mzmq.backend.cython.socket._recv_copy\u001b[0;34m()\u001b[0m\n",
            "\u001b[0;32m/usr/local/lib/python3.7/dist-packages/zmq/backend/cython/checkrc.pxd\u001b[0m in \u001b[0;36mzmq.backend.cython.checkrc._check_rc\u001b[0;34m()\u001b[0m\n",
            "\u001b[0;31mKeyboardInterrupt\u001b[0m: ",
            "\nDuring handling of the above exception, another exception occurred:\n",
            "\u001b[0;31mKeyboardInterrupt\u001b[0m                         Traceback (most recent call last)",
            "\u001b[0;32m<ipython-input-14-3f90a3ccdf80>\u001b[0m in \u001b[0;36m<module>\u001b[0;34m()\u001b[0m\n\u001b[1;32m      1\u001b[0m \u001b[0;32mwhile\u001b[0m \u001b[0;32mTrue\u001b[0m\u001b[0;34m:\u001b[0m\u001b[0;34m\u001b[0m\u001b[0;34m\u001b[0m\u001b[0m\n\u001b[0;32m----> 2\u001b[0;31m     \u001b[0mx\u001b[0m \u001b[0;34m=\u001b[0m \u001b[0minput\u001b[0m\u001b[0;34m(\u001b[0m\u001b[0;34m\"Bir sayı girin: \"\u001b[0m\u001b[0;34m)\u001b[0m\u001b[0;34m\u001b[0m\u001b[0;34m\u001b[0m\u001b[0m\n\u001b[0m\u001b[1;32m      3\u001b[0m     \u001b[0;32mif\u001b[0m \u001b[0;32mnot\u001b[0m \u001b[0mx\u001b[0m\u001b[0;34m:\u001b[0m\u001b[0;34m\u001b[0m\u001b[0;34m\u001b[0m\u001b[0m\n\u001b[1;32m      4\u001b[0m         \u001b[0;32mbreak\u001b[0m\u001b[0;34m\u001b[0m\u001b[0;34m\u001b[0m\u001b[0m\n\u001b[1;32m      5\u001b[0m     \u001b[0;32mtry\u001b[0m\u001b[0;34m:\u001b[0m\u001b[0;34m\u001b[0m\u001b[0;34m\u001b[0m\u001b[0m\n",
            "\u001b[0;32m/usr/local/lib/python3.7/dist-packages/ipykernel/kernelbase.py\u001b[0m in \u001b[0;36mraw_input\u001b[0;34m(self, prompt)\u001b[0m\n\u001b[1;32m    702\u001b[0m             \u001b[0mself\u001b[0m\u001b[0;34m.\u001b[0m\u001b[0m_parent_ident\u001b[0m\u001b[0;34m,\u001b[0m\u001b[0;34m\u001b[0m\u001b[0;34m\u001b[0m\u001b[0m\n\u001b[1;32m    703\u001b[0m             \u001b[0mself\u001b[0m\u001b[0;34m.\u001b[0m\u001b[0m_parent_header\u001b[0m\u001b[0;34m,\u001b[0m\u001b[0;34m\u001b[0m\u001b[0;34m\u001b[0m\u001b[0m\n\u001b[0;32m--> 704\u001b[0;31m             \u001b[0mpassword\u001b[0m\u001b[0;34m=\u001b[0m\u001b[0;32mFalse\u001b[0m\u001b[0;34m,\u001b[0m\u001b[0;34m\u001b[0m\u001b[0;34m\u001b[0m\u001b[0m\n\u001b[0m\u001b[1;32m    705\u001b[0m         )\n\u001b[1;32m    706\u001b[0m \u001b[0;34m\u001b[0m\u001b[0m\n",
            "\u001b[0;32m/usr/local/lib/python3.7/dist-packages/ipykernel/kernelbase.py\u001b[0m in \u001b[0;36m_input_request\u001b[0;34m(self, prompt, ident, parent, password)\u001b[0m\n\u001b[1;32m    732\u001b[0m             \u001b[0;32mexcept\u001b[0m \u001b[0mKeyboardInterrupt\u001b[0m\u001b[0;34m:\u001b[0m\u001b[0;34m\u001b[0m\u001b[0;34m\u001b[0m\u001b[0m\n\u001b[1;32m    733\u001b[0m                 \u001b[0;31m# re-raise KeyboardInterrupt, to truncate traceback\u001b[0m\u001b[0;34m\u001b[0m\u001b[0;34m\u001b[0m\u001b[0;34m\u001b[0m\u001b[0m\n\u001b[0;32m--> 734\u001b[0;31m                 \u001b[0;32mraise\u001b[0m \u001b[0mKeyboardInterrupt\u001b[0m\u001b[0;34m\u001b[0m\u001b[0;34m\u001b[0m\u001b[0m\n\u001b[0m\u001b[1;32m    735\u001b[0m             \u001b[0;32melse\u001b[0m\u001b[0;34m:\u001b[0m\u001b[0;34m\u001b[0m\u001b[0;34m\u001b[0m\u001b[0m\n\u001b[1;32m    736\u001b[0m                 \u001b[0;32mbreak\u001b[0m\u001b[0;34m\u001b[0m\u001b[0;34m\u001b[0m\u001b[0m\n",
            "\u001b[0;31mKeyboardInterrupt\u001b[0m: "
          ]
        }
      ]
    },
    {
      "cell_type": "code",
      "metadata": {
        "id": "a8OKmGjSF2fv"
      },
      "source": [
        "    if c <= len(a):\n",
        "      x = a[i] ** len(a)\n",
        "      x += 1\n",
        "      return x\n"
      ],
      "execution_count": null,
      "outputs": []
    },
    {
      "cell_type": "code",
      "metadata": {
        "colab": {
          "base_uri": "https://localhost:8080/"
        },
        "id": "dey-1T16jOmO",
        "outputId": "13aaa544-14ef-4bed-d219-4bcbc5a76c79"
      },
      "source": [
        "i = 0\n",
        "plusagain = 0\n",
        "number1 =  int(input(\"Enter first number please? \"))\n",
        "number2 = int(input(\"Enter second number please? \"))\n",
        "b = set(range(number1))\n",
        "c = set(range(number2))\n",
        "if len(b) > len(c) :\n",
        "  k = list(b-c)\n",
        "  while i < len(k) :\n",
        "    a = list(str(k[i]))\n",
        "    i += 1\n",
        "\n",
        "else :\n",
        "  k = list(c-b)\n",
        "  while i < len(k) :\n",
        "    a = list(str(k[i]))\n",
        "    i += 1\n",
        "\n",
        "  \n",
        "while i < len(a) :\n",
        "  x = int(a[i]) ** len(a) \n",
        "  plusagain = plusagain + x\n",
        "  i += 1\n",
        "  \n",
        "if plusagain == int(number) :\n",
        "  print(a, \" is an Armstrong number\")\n",
        "else:\n",
        "  print(number, \" isn't an Armstrong number\") \n",
        "\n"
      ],
      "execution_count": null,
      "outputs": [
        {
          "output_type": "stream",
          "text": [
            "Enter first number please? 54\n",
            "Enter second number please? 36\n",
            "14  isn't an Armstrong number\n"
          ],
          "name": "stdout"
        }
      ]
    },
    {
      "cell_type": "code",
      "metadata": {
        "colab": {
          "base_uri": "https://localhost:8080/"
        },
        "id": "UTskw_9UuiWQ",
        "outputId": "07264831-f9fb-4a75-dc3c-3ee8913a34e6"
      },
      "source": [
        "a = range\n",
        "a"
      ],
      "execution_count": null,
      "outputs": [
        {
          "output_type": "execute_result",
          "data": {
            "text/plain": [
              "range(0, 5)"
            ]
          },
          "metadata": {
            "tags": []
          },
          "execution_count": 61
        }
      ]
    },
    {
      "cell_type": "code",
      "metadata": {
        "id": "IcjLW4GmAuIg"
      },
      "source": [
        "def power(x, y):\n",
        "      \n",
        "    if y == 0:\n",
        "        return 1\n",
        "    if y % 2 == 0:\n",
        "        return power(x, y // 2) * power(x, y // 2)\n",
        "          \n",
        "    return x * power(x, y // 2) * power(x, y // 2)\n",
        "  \n",
        "# Function to calculate order of the number\n",
        "def order(x):\n",
        "  \n",
        "    # Variable to store of the number\n",
        "    n = 0\n",
        "    while (x != 0):\n",
        "        n = n + 1\n",
        "        x = x // 10\n",
        "          \n",
        "    return n"
      ],
      "execution_count": null,
      "outputs": []
    },
    {
      "cell_type": "code",
      "metadata": {
        "colab": {
          "base_uri": "https://localhost:8080/"
        },
        "id": "zoy6Nk4ranum",
        "outputId": "58c3e800-d5d5-444e-f5fd-76a0fa933e82"
      },
      "source": [
        "#Python program to check whether the given number is Armstrong or not\n",
        "from math import *\n",
        "number = int(input(\"Enter the number : \"))\n",
        "result = 0\n",
        "n = 0\n",
        "temp = number;\n",
        "while (temp != 0):\n",
        "    temp =int(temp / 10)\n",
        "    n = n + 1\n",
        "\n",
        "#Checking if the number is armstrong\n",
        "temp = number\n",
        "while (temp != 0):\n",
        "    remainder = temp % 10\n",
        "    result = result + pow(remainder, n)\n",
        "    temp = int(temp/10)\n",
        "if(result == number):\n",
        "    print(\"Armstrong number\")\n",
        "else:\n",
        "    print(\"Not an Armstrong number\")"
      ],
      "execution_count": null,
      "outputs": [
        {
          "output_type": "stream",
          "text": [
            "Enter the number : 14\n",
            "Not an Armstrong number\n"
          ],
          "name": "stdout"
        }
      ]
    },
    {
      "cell_type": "code",
      "metadata": {
        "colab": {
          "base_uri": "https://localhost:8080/"
        },
        "id": "MkLdQeeA-MoP",
        "outputId": "cd40a47f-bef6-482d-f605-d9e413cc7410"
      },
      "source": [
        "rows = 5\n",
        "for i in range(1, rows + 1):\n",
        "    for j in range(1, i + 1):\n",
        "        print(\"1\", end=\" \")\n",
        "    print('')"
      ],
      "execution_count": null,
      "outputs": [
        {
          "output_type": "stream",
          "text": [
            "1 \n",
            "1 1 \n",
            "1 1 1 \n",
            "1 1 1 1 \n",
            "1 1 1 1 1 \n"
          ],
          "name": "stdout"
        }
      ]
    },
    {
      "cell_type": "code",
      "metadata": {
        "colab": {
          "base_uri": "https://localhost:8080/"
        },
        "id": "UiBfi3RJAqjy",
        "outputId": "c9f89360-1e24-4765-cb3a-0cff24dacde6"
      },
      "source": [
        "sentence = input(\"give me a sentence without any punctuaion :  \")\n",
        "words = sentence.split()\n",
        "i = 0\n",
        "longest = 0\n",
        "while i < len(words) :\n",
        "  if len(words[i]) > longest :\n",
        "    longest = len(words[i])\n",
        "  i += 1\n",
        "print(\"the lenght of the longest word is \", longest)\n"
      ],
      "execution_count": null,
      "outputs": [
        {
          "output_type": "stream",
          "text": [
            "give me a sentence without any punctuaion :  clarusway is the best\n",
            "the lenght of the longest word is  9\n"
          ],
          "name": "stdout"
        }
      ]
    },
    {
      "cell_type": "code",
      "metadata": {
        "colab": {
          "base_uri": "https://localhost:8080/"
        },
        "id": "X3_vXUC6GFDa",
        "outputId": "5675ea81-96df-4065-d8de-532e36226a91"
      },
      "source": [
        "names = [\"Ahmet\", \"Mehmet\", \"Zeki\", \"Ayşe\"]\n",
        "for i in names :\n",
        "  print(\"Hello\" , i)"
      ],
      "execution_count": null,
      "outputs": [
        {
          "output_type": "stream",
          "text": [
            "Hello Ahmet\n",
            "Hello Mehmet\n",
            "Hello Zeki\n",
            "Hello Ayşe\n"
          ],
          "name": "stdout"
        }
      ]
    },
    {
      "cell_type": "code",
      "metadata": {
        "colab": {
          "base_uri": "https://localhost:8080/"
        },
        "id": "2qUfj4V6HgvO",
        "outputId": "d8a81522-c4e3-4cbe-fb69-c17ea059f176"
      },
      "source": [
        "a = \"clarusway\"\n",
        "b = list(a)\n",
        "count = 0\n",
        "for i in b :\n",
        "  count += 1\n",
        "  if count < len(a) :\n",
        "    i = i + \"-\"\n",
        "  print(i, end=\"\")"
      ],
      "execution_count": null,
      "outputs": [
        {
          "output_type": "stream",
          "text": [
            "c-l-a-r-u-s-w-a-y"
          ],
          "name": "stdout"
        }
      ]
    },
    {
      "cell_type": "code",
      "metadata": {
        "colab": {
          "base_uri": "https://localhost:8080/"
        },
        "id": "GwS-am3dPH-2",
        "outputId": "41eac26c-00ce-4177-b04c-b2c2d8d1cef2"
      },
      "source": [
        "a = {\"ali\" : \"veli\"}\n",
        "for i in a :\n",
        "  print(i)"
      ],
      "execution_count": null,
      "outputs": [
        {
          "output_type": "stream",
          "text": [
            "ali\n"
          ],
          "name": "stdout"
        }
      ]
    },
    {
      "cell_type": "code",
      "metadata": {
        "colab": {
          "base_uri": "https://localhost:8080/"
        },
        "id": "Oy4cOS3BRV2i",
        "outputId": "17023387-37fe-49d3-bf5f-1c72886fae57"
      },
      "source": [
        "for i in range(11) :\n",
        "  print(\"5 x\",i ,\"=\"  ,  5 * i)"
      ],
      "execution_count": null,
      "outputs": [
        {
          "output_type": "stream",
          "text": [
            "5 x 0 = 0\n",
            "5 x 1 = 5\n",
            "5 x 2 = 10\n",
            "5 x 3 = 15\n",
            "5 x 4 = 20\n",
            "5 x 5 = 25\n",
            "5 x 6 = 30\n",
            "5 x 7 = 35\n",
            "5 x 8 = 40\n",
            "5 x 9 = 45\n",
            "5 x 10 = 50\n"
          ],
          "name": "stdout"
        }
      ]
    },
    {
      "cell_type": "code",
      "metadata": {
        "colab": {
          "base_uri": "https://localhost:8080/"
        },
        "id": "KIe89rVZmhn0",
        "outputId": "24f00d8d-c520-4576-c759-9fb8b1da168f"
      },
      "source": [
        "a = int(input(\"enter a number please? \"))\n",
        "for i in range(10) :\n",
        "  print(\"{} x {} = \".format(a, i), a * i) "
      ],
      "execution_count": null,
      "outputs": [
        {
          "output_type": "stream",
          "text": [
            "enter a number please? 17\n",
            "17 x 0 =  0\n",
            "17 x 1 =  17\n",
            "17 x 2 =  34\n",
            "17 x 3 =  51\n",
            "17 x 4 =  68\n",
            "17 x 5 =  85\n",
            "17 x 6 =  102\n",
            "17 x 7 =  119\n",
            "17 x 8 =  136\n",
            "17 x 9 =  153\n"
          ],
          "name": "stdout"
        }
      ]
    },
    {
      "cell_type": "code",
      "metadata": {
        "id": "xQ-EAR7zTDPs"
      },
      "source": [
        "a = int(input(\"enter a number\"))\n",
        "for i in range(11) :\n",
        "  print()"
      ],
      "execution_count": null,
      "outputs": []
    },
    {
      "cell_type": "code",
      "metadata": {
        "colab": {
          "base_uri": "https://localhost:8080/"
        },
        "id": "wccj8PFHUTg8",
        "outputId": "dcab4ca7-3efc-4635-bf9a-2b71e265b88e"
      },
      "source": [
        "for i in range(1,10) :\n",
        "  print(str(i) * i)"
      ],
      "execution_count": null,
      "outputs": [
        {
          "output_type": "stream",
          "text": [
            "1\n",
            "22\n",
            "333\n",
            "4444\n",
            "55555\n",
            "666666\n",
            "7777777\n",
            "88888888\n",
            "999999999\n"
          ],
          "name": "stdout"
        }
      ]
    },
    {
      "cell_type": "code",
      "metadata": {
        "colab": {
          "base_uri": "https://localhost:8080/"
        },
        "id": "pieJzwXXWXc7",
        "outputId": "9c769a2d-93cd-4df3-f166-96c2f7248056"
      },
      "source": [
        "text = ['one', 'two', 'three', 'four', 'five']\n",
        "numbers = [1, 2, 3, 4, 5]\n",
        "\n",
        "for x , y in zip(text, numbers):\n",
        "  print(x, \":\", y)"
      ],
      "execution_count": null,
      "outputs": [
        {
          "output_type": "stream",
          "text": [
            "one : 1\n",
            "two : 2\n",
            "three : 3\n",
            "four : 4\n",
            "five : 5\n"
          ],
          "name": "stdout"
        }
      ]
    },
    {
      "cell_type": "code",
      "metadata": {
        "colab": {
          "base_uri": "https://localhost:8080/"
        },
        "id": "G29POOGfXXeW",
        "outputId": "bfcb5c12-5268-4776-84c7-dec660b5c31d"
      },
      "source": [
        "for i in range(0,10) :\n",
        "  if i % 2 == 0 :\n",
        "    print(\"even \", i)\n",
        "  else :\n",
        "    print(\"odd\", i)"
      ],
      "execution_count": null,
      "outputs": [
        {
          "output_type": "stream",
          "text": [
            "even 0\n",
            "odd 1\n",
            "even 2\n",
            "odd 3\n",
            "even 4\n",
            "odd 5\n",
            "even 6\n",
            "odd 7\n",
            "even 8\n",
            "odd 9\n"
          ],
          "name": "stdout"
        }
      ]
    },
    {
      "cell_type": "code",
      "metadata": {
        "colab": {
          "base_uri": "https://localhost:8080/"
        },
        "id": "VlVLrqhbfCth",
        "outputId": "c306fedf-1949-47ad-a74e-b58845e8b084"
      },
      "source": [
        "start = [1,1]\n",
        "\n",
        "for i in range(8):\n",
        "   start.append(start[i]+ start[i + 1] )\n",
        "  \n",
        "print(\"Fibonacci Numbers = \", start)\n",
        "\n"
      ],
      "execution_count": null,
      "outputs": [
        {
          "output_type": "stream",
          "text": [
            "Fibonacci Numbers =  [1, 1, 2, 3, 5, 8, 13, 21, 34, 55]\n"
          ],
          "name": "stdout"
        }
      ]
    },
    {
      "cell_type": "code",
      "metadata": {
        "colab": {
          "base_uri": "https://localhost:8080/"
        },
        "id": "rD7R19vOyOFi",
        "outputId": "56ea38c5-adb7-4964-86e0-54060a93e16e"
      },
      "source": [
        "k = []\n",
        "for i in list(range(0,5)):\n",
        "    \n",
        "   k.append(i + 2)\n",
        "k \n"
      ],
      "execution_count": null,
      "outputs": [
        {
          "output_type": "execute_result",
          "data": {
            "text/plain": [
              "[2, 3, 4, 5, 6]"
            ]
          },
          "metadata": {
            "tags": []
          },
          "execution_count": 91
        }
      ]
    },
    {
      "cell_type": "code",
      "metadata": {
        "colab": {
          "base_uri": "https://localhost:8080/"
        },
        "id": "4pBLr-T2SVxQ",
        "outputId": "3c50f77c-373b-48c9-f702-78448fb52368"
      },
      "source": [
        "import heapq as hq\n",
        "nums_list = [25, 35, 22, 85, 14, 65, 75, 99,33, 22, 58]\n",
        "print(\"Original list:\")\n",
        "print(nums_list)\n",
        "# Find three largest values\n",
        "largest_nums = hq.nlargest(10, nums_list)\n",
        "print(\"\\nThree largest numbers are:\", largest_nums)"
      ],
      "execution_count": null,
      "outputs": [
        {
          "output_type": "stream",
          "text": [
            "Original list:\n",
            "[25, 35, 22, 85, 14, 65, 75, 99, 33, 22, 58]\n",
            "\n",
            "Three largest numbers are: [99, 85, 75, 65, 58, 35, 33, 25, 22, 22]\n"
          ],
          "name": "stdout"
        }
      ]
    },
    {
      "cell_type": "code",
      "metadata": {
        "colab": {
          "base_uri": "https://localhost:8080/"
        },
        "id": "D9acTyXZqFZ_",
        "outputId": "a4f3c7ae-804f-4c20-df32-0a1b7c7ea3fd"
      },
      "source": [
        "import heapq as hq\n",
        "a = [5,3,9,33,22,11,7]\n",
        "b = hq.nlargest(5, a)\n",
        "print(b)"
      ],
      "execution_count": null,
      "outputs": [
        {
          "output_type": "stream",
          "text": [
            "[33, 22, 11, 9, 7]\n"
          ],
          "name": "stdout"
        }
      ]
    },
    {
      "cell_type": "code",
      "metadata": {
        "colab": {
          "base_uri": "https://localhost:8080/"
        },
        "id": "9-vW_YJE3lWh",
        "outputId": "12447375-b34c-4704-b08d-3dd587c151a5"
      },
      "source": [
        "import heapq as hq\n",
        "a = [6,3,9,33,22,11,7]\n",
        "h = []\n",
        "b = hq.nsmallest(6, a)\n",
        "c = hq.heappush(h, a)\n",
        "d = hq.heappop(a)\n",
        "print(b)\n",
        "print(c)\n",
        "print(d)\n",
        "print(h)"
      ],
      "execution_count": null,
      "outputs": [
        {
          "output_type": "stream",
          "text": [
            "[3, 6, 7, 9, 11, 22]\n",
            "None\n",
            "6\n",
            "[[3, 7, 9, 33, 22, 11]]\n"
          ],
          "name": "stdout"
        }
      ]
    },
    {
      "cell_type": "code",
      "metadata": {
        "colab": {
          "base_uri": "https://localhost:8080/"
        },
        "id": "zyY75HFD40I4",
        "outputId": "2a67e230-2e4f-4238-d26b-5467c614c6bb"
      },
      "source": [
        "import heapq as hq\n",
        "def heapsort(iterable):\n",
        "    h = []\n",
        "    for value in iterable:\n",
        "        hq.heappush(h, value)\n",
        "    return [hq.heappop(h) for i in range(len(h))]\n",
        "print(heapsort([1, 3, 5, 7, 9, 2, 4, 6, 8, 0]))\n"
      ],
      "execution_count": null,
      "outputs": [
        {
          "output_type": "stream",
          "text": [
            "[0, 1, 2, 3, 4, 5, 6, 7, 8, 9]\n"
          ],
          "name": "stdout"
        }
      ]
    },
    {
      "cell_type": "code",
      "metadata": {
        "colab": {
          "base_uri": "https://localhost:8080/"
        },
        "id": "m1OrcdA_Dkxh",
        "outputId": "e3153de4-6871-4347-f352-b0abbe8ef421"
      },
      "source": [
        "from collections import Counter\n",
        "s = 'lkseropewdssafsdfafkpwe'\n",
        "print(\"Original string: \"+s)\n",
        "print(\"Most common three characters of the said string:\")\n",
        "print(Counter(s).most_common(5))\n"
      ],
      "execution_count": null,
      "outputs": [
        {
          "output_type": "stream",
          "text": [
            "Original string: lkseropewdssafsdfafkpwe\n",
            "Most common three characters of the said string:\n",
            "[('s', 4), ('e', 3), ('f', 3), ('k', 2), ('p', 2)]\n"
          ],
          "name": "stdout"
        }
      ]
    },
    {
      "cell_type": "code",
      "metadata": {
        "colab": {
          "base_uri": "https://localhost:8080/"
        },
        "id": "8TdENPCZo8cI",
        "outputId": "fefb00c9-6124-473b-db4c-568d4b6db10e"
      },
      "source": [
        "from collections import Counter\n",
        "import re\n",
        "text = \"\"\"The Python Software Foundation (PSF) is a 501(c)(3) non-profit \n",
        "corporation that holds the intellectual property rights behind\n",
        "the Python programming language. We manage the open source licensing \n",
        "for Python version 2.1 and later and own and protect the trademarks \n",
        "associated with Python. We also run the North American PyCon conference \n",
        "annually, support other Python conferences around the world, and \n",
        "fund Python related development with our grants program and by funding \n",
        "special projects.\"\"\"\n",
        "words = re.findall('\\w+',text)\n",
        "print(Counter(words).most_common(10))\n"
      ],
      "execution_count": null,
      "outputs": [
        {
          "output_type": "stream",
          "text": [
            "[('Python', 6), ('the', 6), ('and', 5), ('We', 2), ('with', 2), ('The', 1), ('Software', 1), ('Foundation', 1), ('PSF', 1), ('is', 1)]\n"
          ],
          "name": "stdout"
        }
      ]
    },
    {
      "cell_type": "code",
      "metadata": {
        "colab": {
          "base_uri": "https://localhost:8080/"
        },
        "id": "ppZvWk-hq2Tk",
        "outputId": "e916ccab-3b07-4520-d89f-cfeea245d093"
      },
      "source": [
        "from collections import Counter, OrderedDict\n",
        "class OrderedCounter(Counter,OrderedDict):\n",
        "   pass\n",
        "word_array = []\n",
        "n = int(input(\"Input number of words: \"))\n",
        "print(\"Input the words: \")\n",
        "for i in range(n):\n",
        "   word_array.append(input().strip())\n",
        "word_ctr = OrderedCounter(word_array)\n",
        "print(len(word_ctr))\n",
        "for word in word_ctr:\n",
        "   print(word_ctr[word],end=' ')"
      ],
      "execution_count": null,
      "outputs": [
        {
          "output_type": "stream",
          "text": [
            "Input number of words: 1\n",
            "Input the words: \n",
            "red\n",
            "1\n",
            "1 "
          ],
          "name": "stdout"
        }
      ]
    },
    {
      "cell_type": "code",
      "metadata": {
        "colab": {
          "base_uri": "https://localhost:8080/"
        },
        "id": "rmvi_4Ke_NtH",
        "outputId": "b6244a99-af26-48a5-fddf-614de8b4ee9f"
      },
      "source": [
        "import collections, re\n",
        "n = int(input(\"Number of subjects: \"))\n",
        "item_order = collections.OrderedDict()\n",
        "for i in range(n):\n",
        "   sub_marks_list = re.split(r'(\\d+)$',input(\"Input Subject name and marks: \").strip())\n",
        "   subject_name = sub_marks_list[0]\n",
        "   item_price = int(sub_marks_list[1])\n",
        "   if subject_name not in item_order:\n",
        "       item_order[subject_name]=item_price\n",
        "   else:\n",
        "       item_order[subject_name]=item_order[subject_name]+item_price\n",
        "           \n",
        "for i in item_order:\n",
        "   print(i+str(item_order[i]))\n"
      ],
      "execution_count": null,
      "outputs": [
        {
          "output_type": "stream",
          "text": [
            "Number of subjects: 2\n",
            "Input Subject name and marks: emre 80\n",
            "Input Subject name and marks: eren 90\n",
            "emre 80\n",
            "eren 90\n"
          ],
          "name": "stdout"
        }
      ]
    },
    {
      "cell_type": "code",
      "metadata": {
        "colab": {
          "base_uri": "https://localhost:8080/"
        },
        "id": "MwJE4fnJAJyh",
        "outputId": "be4d9b57-85f3-4358-9b93-bdd8246d7a89"
      },
      "source": [
        "import collections\n",
        "# Create a deque\n",
        "deque_colors = collections.deque([\"Red\",\"Green\",\"White\"])\n",
        "print(deque_colors)\n",
        "# Append to the left\n",
        "print(\"\\nAdding to the left: \")\n",
        "deque_colors.appendleft(\"Pink\")\n",
        "print(deque_colors)\n",
        "# Append to the right\n",
        "print(\"\\nAdding to the right: \")\n",
        "deque_colors.append(\"Orange\")\n",
        "print(deque_colors)\n",
        "# Remove from the right\n",
        "print(\"\\nRemoving from the right: \")\n",
        "deque_colors.pop()\n",
        "print(deque_colors)\n",
        "# Remove from the left\n",
        "print(\"\\nRemoving from the left: \")\n",
        "deque_colors.popleft()\n",
        "print(deque_colors)\n",
        "# Reverse the dequeue\n",
        "print(\"\\nReversing the deque: \")\n",
        "deque_colors.reverse()\n",
        "print(deque_colors)\n"
      ],
      "execution_count": null,
      "outputs": [
        {
          "output_type": "stream",
          "text": [
            "deque(['Red', 'Green', 'White'])\n",
            "\n",
            "Adding to the left: \n",
            "deque(['Pink', 'Red', 'Green', 'White'])\n",
            "\n",
            "Adding to the right: \n",
            "deque(['Pink', 'Red', 'Green', 'White', 'Orange'])\n",
            "\n",
            "Removing from the right: \n",
            "deque(['Pink', 'Red', 'Green', 'White'])\n",
            "\n",
            "Removing from the left: \n",
            "deque(['Red', 'Green', 'White'])\n",
            "\n",
            "Reversing the deque: \n",
            "deque(['White', 'Green', 'Red'])\n"
          ],
          "name": "stdout"
        }
      ]
    },
    {
      "cell_type": "code",
      "metadata": {
        "colab": {
          "base_uri": "https://localhost:8080/",
          "height": 350
        },
        "id": "T9BCYyiJBPwa",
        "outputId": "c1c2499f-7d2a-4950-cc31-925d072d709e"
      },
      "source": [
        "import tkinter as tk\n",
        "# Create instance\n",
        "parent = tk.Tk()\n",
        "# Add a title\n",
        "parent.title(\"-Welcome to Python tkinter Basic exercises-\")\n",
        "# Start GUI\n",
        "parent.mainloop()\n"
      ],
      "execution_count": null,
      "outputs": [
        {
          "output_type": "error",
          "ename": "TclError",
          "evalue": "ignored",
          "traceback": [
            "\u001b[0;31m---------------------------------------------------------------------------\u001b[0m",
            "\u001b[0;31mTclError\u001b[0m                                  Traceback (most recent call last)",
            "\u001b[0;32m<ipython-input-21-df4bf624369f>\u001b[0m in \u001b[0;36m<module>\u001b[0;34m()\u001b[0m\n\u001b[1;32m      1\u001b[0m \u001b[0;32mimport\u001b[0m \u001b[0mtkinter\u001b[0m \u001b[0;32mas\u001b[0m \u001b[0mtk\u001b[0m\u001b[0;34m\u001b[0m\u001b[0;34m\u001b[0m\u001b[0m\n\u001b[1;32m      2\u001b[0m \u001b[0;31m# Create instance\u001b[0m\u001b[0;34m\u001b[0m\u001b[0;34m\u001b[0m\u001b[0;34m\u001b[0m\u001b[0m\n\u001b[0;32m----> 3\u001b[0;31m \u001b[0mparent\u001b[0m \u001b[0;34m=\u001b[0m \u001b[0mtk\u001b[0m\u001b[0;34m.\u001b[0m\u001b[0mTk\u001b[0m\u001b[0;34m(\u001b[0m\u001b[0;34m)\u001b[0m\u001b[0;34m\u001b[0m\u001b[0;34m\u001b[0m\u001b[0m\n\u001b[0m\u001b[1;32m      4\u001b[0m \u001b[0;31m# Add a title\u001b[0m\u001b[0;34m\u001b[0m\u001b[0;34m\u001b[0m\u001b[0;34m\u001b[0m\u001b[0m\n\u001b[1;32m      5\u001b[0m \u001b[0mparent\u001b[0m\u001b[0;34m.\u001b[0m\u001b[0mtitle\u001b[0m\u001b[0;34m(\u001b[0m\u001b[0;34m\"-Welcome to Python tkinter Basic exercises-\"\u001b[0m\u001b[0;34m)\u001b[0m\u001b[0;34m\u001b[0m\u001b[0;34m\u001b[0m\u001b[0m\n",
            "\u001b[0;32m/usr/lib/python3.7/tkinter/__init__.py\u001b[0m in \u001b[0;36m__init__\u001b[0;34m(self, screenName, baseName, className, useTk, sync, use)\u001b[0m\n\u001b[1;32m   2021\u001b[0m                 \u001b[0mbaseName\u001b[0m \u001b[0;34m=\u001b[0m \u001b[0mbaseName\u001b[0m \u001b[0;34m+\u001b[0m \u001b[0mext\u001b[0m\u001b[0;34m\u001b[0m\u001b[0;34m\u001b[0m\u001b[0m\n\u001b[1;32m   2022\u001b[0m         \u001b[0minteractive\u001b[0m \u001b[0;34m=\u001b[0m \u001b[0;36m0\u001b[0m\u001b[0;34m\u001b[0m\u001b[0;34m\u001b[0m\u001b[0m\n\u001b[0;32m-> 2023\u001b[0;31m         \u001b[0mself\u001b[0m\u001b[0;34m.\u001b[0m\u001b[0mtk\u001b[0m \u001b[0;34m=\u001b[0m \u001b[0m_tkinter\u001b[0m\u001b[0;34m.\u001b[0m\u001b[0mcreate\u001b[0m\u001b[0;34m(\u001b[0m\u001b[0mscreenName\u001b[0m\u001b[0;34m,\u001b[0m \u001b[0mbaseName\u001b[0m\u001b[0;34m,\u001b[0m \u001b[0mclassName\u001b[0m\u001b[0;34m,\u001b[0m \u001b[0minteractive\u001b[0m\u001b[0;34m,\u001b[0m \u001b[0mwantobjects\u001b[0m\u001b[0;34m,\u001b[0m \u001b[0museTk\u001b[0m\u001b[0;34m,\u001b[0m \u001b[0msync\u001b[0m\u001b[0;34m,\u001b[0m \u001b[0muse\u001b[0m\u001b[0;34m)\u001b[0m\u001b[0;34m\u001b[0m\u001b[0;34m\u001b[0m\u001b[0m\n\u001b[0m\u001b[1;32m   2024\u001b[0m         \u001b[0;32mif\u001b[0m \u001b[0museTk\u001b[0m\u001b[0;34m:\u001b[0m\u001b[0;34m\u001b[0m\u001b[0;34m\u001b[0m\u001b[0m\n\u001b[1;32m   2025\u001b[0m             \u001b[0mself\u001b[0m\u001b[0;34m.\u001b[0m\u001b[0m_loadtk\u001b[0m\u001b[0;34m(\u001b[0m\u001b[0;34m)\u001b[0m\u001b[0;34m\u001b[0m\u001b[0;34m\u001b[0m\u001b[0m\n",
            "\u001b[0;31mTclError\u001b[0m: no display name and no $DISPLAY environment variable"
          ]
        }
      ]
    },
    {
      "cell_type": "code",
      "metadata": {
        "colab": {
          "base_uri": "https://localhost:8080/"
        },
        "id": "-GlCJe64H2l4",
        "outputId": "67374fff-c6d7-4dd8-ce27-adf5a28c40b8"
      },
      "source": [
        "nl=[]\n",
        "for x in range(1500, 2701):\n",
        "    if (x%7==0) and (x%5==0):\n",
        "        nl.append(str(x))\n",
        "print (*nl, end=\",\")"
      ],
      "execution_count": null,
      "outputs": [
        {
          "output_type": "stream",
          "text": [
            "1505 1540 1575 1610 1645 1680 1715 1750 1785 1820 1855 1890 1925 1960 1995 2030 2065 2100 2135 2170 2205 2240 2275 2310 2345 2380 2415 2450 2485 2520 2555 2590 2625 2660 2695,"
          ],
          "name": "stdout"
        }
      ]
    },
    {
      "cell_type": "code",
      "metadata": {
        "id": "nsfIrIUqBNgi"
      },
      "source": [
        "n = int(input(\"Enter a number please ? \"))\n",
        "count = 0\n",
        "\n",
        "for i in range(1, n+1) :\n",
        "  if "
      ],
      "execution_count": null,
      "outputs": []
    },
    {
      "cell_type": "code",
      "metadata": {
        "colab": {
          "base_uri": "https://localhost:8080/"
        },
        "id": "qBMsP7QpIvww",
        "outputId": "7f613ef1-a837-47ba-d74e-302c2e377726"
      },
      "source": [
        "print(round(12))\n",
        "print(round(10.8))\n",
        "print(round(3.665, 2))\n",
        "print(round(3.675, 2))"
      ],
      "execution_count": null,
      "outputs": [
        {
          "output_type": "stream",
          "text": [
            "12\n",
            "11\n",
            "3.67\n",
            "3.67\n"
          ],
          "name": "stdout"
        }
      ]
    },
    {
      "cell_type": "code",
      "metadata": {
        "colab": {
          "base_uri": "https://localhost:8080/"
        },
        "id": "tnjWv2phL3_F",
        "outputId": "28421dcc-b0f7-4a45-9749-4d13a07e93f9"
      },
      "source": [
        "def mevlana( ) :\n",
        "  print(\"\"\"Her çağırdığında bunu print edecek\"\"\")\n",
        "\n",
        "mevlana()"
      ],
      "execution_count": null,
      "outputs": [
        {
          "output_type": "stream",
          "text": [
            "Her çağırdığında bunu print edecek\n"
          ],
          "name": "stdout"
        }
      ]
    },
    {
      "cell_type": "code",
      "metadata": {
        "colab": {
          "base_uri": "https://localhost:8080/"
        },
        "id": "JaO5G_7cMNVg",
        "outputId": "a9e79d5d-1e8c-47b3-e47e-0ab75ac45c7b"
      },
      "source": [
        "def add(a,b) :\n",
        "  print(a + b)\n",
        "add(3,5)\n"
      ],
      "execution_count": null,
      "outputs": [
        {
          "output_type": "stream",
          "text": [
            "8\n"
          ],
          "name": "stdout"
        }
      ]
    },
    {
      "cell_type": "code",
      "metadata": {
        "colab": {
          "base_uri": "https://localhost:8080/"
        },
        "id": "CUZv5IZTMgoS",
        "outputId": "e4435b0d-4a48-4bd2-8c47-62c0009c8892"
      },
      "source": [
        "a = int(input(\"Enter a number\"))\n",
        "b = int(input(\"Enter second number\"))\n",
        "c = str(input(\"Enter your function?\"))\n",
        "def calculator(a, b, c) :\n",
        "  if c == \"+\" :\n",
        "    print(a+b)\n",
        "  elif c == \"-\" :\n",
        "    print(a-b)\n",
        "  elif c == \"*\" :\n",
        "    print(a*b)\n",
        "  elif c == \"/\" :\n",
        "    print(a/b)\n",
        "  else :\n",
        "    print(\"Enter valid arguımnet\")\n"
      ],
      "execution_count": null,
      "outputs": [
        {
          "output_type": "stream",
          "text": [
            "Enter a number5\n",
            "Enter second number3\n",
            "Enter your function?/\n"
          ],
          "name": "stdout"
        }
      ]
    },
    {
      "cell_type": "code",
      "metadata": {
        "colab": {
          "base_uri": "https://localhost:8080/",
          "height": 248
        },
        "id": "icn7Y7mzWBiX",
        "outputId": "47105113-a50b-49e3-e53a-dd0eccf0201d"
      },
      "source": [
        "a = int(input(\"Enter a number\"))\n",
        "b = str(input(\"Enter your function\"))\n",
        "c = int(input(\"Enter other number ?\"))\n",
        "\n",
        "def calculator(a, b, c) :\n",
        "  if b == \"+\" :\n",
        "    return (a + c)\n",
        "  elif b == \"-\" :\n",
        "    return (a - c)\n",
        "  elif b == \"*\" :\n",
        "    return (a * c)\n",
        "  elif b == \"/\" :\n",
        "    return (a / c)\n",
        "  else :\n",
        "    return (\"Enter valid arguımnet\")\n",
        "calculator(a, b, c)\n"
      ],
      "execution_count": null,
      "outputs": [
        {
          "output_type": "stream",
          "text": [
            "Enter a number258*\n"
          ],
          "name": "stdout"
        },
        {
          "output_type": "error",
          "ename": "ValueError",
          "evalue": "ignored",
          "traceback": [
            "\u001b[0;31m---------------------------------------------------------------------------\u001b[0m",
            "\u001b[0;31mValueError\u001b[0m                                Traceback (most recent call last)",
            "\u001b[0;32m<ipython-input-6-017348083be9>\u001b[0m in \u001b[0;36m<module>\u001b[0;34m()\u001b[0m\n\u001b[0;32m----> 1\u001b[0;31m \u001b[0ma\u001b[0m \u001b[0;34m=\u001b[0m \u001b[0mint\u001b[0m\u001b[0;34m(\u001b[0m\u001b[0minput\u001b[0m\u001b[0;34m(\u001b[0m\u001b[0;34m\"Enter a number\"\u001b[0m\u001b[0;34m)\u001b[0m\u001b[0;34m)\u001b[0m\u001b[0;34m\u001b[0m\u001b[0;34m\u001b[0m\u001b[0m\n\u001b[0m\u001b[1;32m      2\u001b[0m \u001b[0mb\u001b[0m \u001b[0;34m=\u001b[0m \u001b[0mstr\u001b[0m\u001b[0;34m(\u001b[0m\u001b[0minput\u001b[0m\u001b[0;34m(\u001b[0m\u001b[0;34m\"Enter your function\"\u001b[0m\u001b[0;34m)\u001b[0m\u001b[0;34m)\u001b[0m\u001b[0;34m\u001b[0m\u001b[0;34m\u001b[0m\u001b[0m\n\u001b[1;32m      3\u001b[0m \u001b[0mc\u001b[0m \u001b[0;34m=\u001b[0m \u001b[0mint\u001b[0m\u001b[0;34m(\u001b[0m\u001b[0minput\u001b[0m\u001b[0;34m(\u001b[0m\u001b[0;34m\"Enter other number ?\"\u001b[0m\u001b[0;34m)\u001b[0m\u001b[0;34m)\u001b[0m\u001b[0;34m\u001b[0m\u001b[0;34m\u001b[0m\u001b[0m\n\u001b[1;32m      4\u001b[0m \u001b[0;34m\u001b[0m\u001b[0m\n\u001b[1;32m      5\u001b[0m \u001b[0;32mdef\u001b[0m \u001b[0mcalculator\u001b[0m\u001b[0;34m(\u001b[0m\u001b[0ma\u001b[0m\u001b[0;34m,\u001b[0m \u001b[0mb\u001b[0m\u001b[0;34m,\u001b[0m \u001b[0mc\u001b[0m\u001b[0;34m)\u001b[0m \u001b[0;34m:\u001b[0m\u001b[0;34m\u001b[0m\u001b[0;34m\u001b[0m\u001b[0m\n",
            "\u001b[0;31mValueError\u001b[0m: invalid literal for int() with base 10: '258*'"
          ]
        }
      ]
    },
    {
      "cell_type": "code",
      "metadata": {
        "colab": {
          "base_uri": "https://localhost:8080/",
          "height": 35
        },
        "id": "6NmLtx_RXXes",
        "outputId": "8c09d3f1-33e4-4fdb-e83c-24c4e44fa338"
      },
      "source": [
        "def absolute_value(a) :\n",
        "    \"\"\"This function gives absolute value of the entered number.\"\"\"\n",
        "    if a < 0 :\n",
        "       return (-a)\n",
        "    else :\n",
        "       return (a)\n",
        "       \n",
        "absolute_value.__doc__\n",
        "abs.__doc__"
      ],
      "execution_count": null,
      "outputs": [
        {
          "output_type": "execute_result",
          "data": {
            "application/vnd.google.colaboratory.intrinsic+json": {
              "type": "string"
            },
            "text/plain": [
              "'Return the absolute value of the argument.'"
            ]
          },
          "metadata": {
            "tags": []
          },
          "execution_count": 33
        }
      ]
    },
    {
      "cell_type": "code",
      "metadata": {
        "colab": {
          "base_uri": "https://localhost:8080/"
        },
        "id": "FuZs0q0r8EF7",
        "outputId": "08e5936d-bfa9-451e-a3c2-28a36f984174"
      },
      "source": [
        "dictt = {1 : 'Domates', 2 : 'Sogan', 3 : 'Biber', 4 : 'Yumurta', 5 : 'Elma', 6 : 'Armut'}\n",
        "liste = []\n",
        "print('''\n",
        "Hosgeldiniz!\n",
        "Domates icin 1'i, Sogan icin 2'yi, Biber icin 3'u, Yumurta icin 4'u, Elma icin 5'i, Armut icin 6'yi seciniz.\n",
        "************************************************************************************************************''')\n",
        "while True:\n",
        "    try:\n",
        "        secim = input(\"Secmek istediginiz urunun numarasini giriniz ya da cikmak icin 'q' tusuna basiniz. > \")\n",
        "        if secim.lower() == 'q':\n",
        "            break\n",
        "        int(secim)\n",
        "        if dictt[int(secim)] not in liste:\n",
        "            liste.append(dictt[int(secim)])\n",
        "            print(f'{dictt[int(secim)]} sepetinize eklendi.')\n",
        "        else:\n",
        "            print(f'{dictt[int(secim)]} sepetinizde bulunmaktadir.')\n",
        "    except:\n",
        "        print(f'Yanlis bir tusa bastiniz. Lutfen tekrar secim yapin.')\n",
        "print('''\n",
        "************************************************************************************************************\n",
        "Bizi tercih ettiginiz icin tesekkurler.\n",
        "Satin aldiginiz urunler:''')\n",
        "for i in liste:\n",
        "    print(i, end = '  ')\n",
        "\n",
        "  \n",
        "\n"
      ],
      "execution_count": null,
      "outputs": [
        {
          "output_type": "stream",
          "text": [
            "\n",
            "Hosgeldiniz!\n",
            "Domates icin 1'i, Sogan icin 2'yi, Biber icin 3'u, Yumurta icin 4'u, Elma icin 5'i, Armut icin 6'yi seciniz.\n",
            "************************************************************************************************************\n",
            "Secmek istediginiz urunun numarasini giriniz ya da cikmak icin 'q' tusuna basiniz. > 2\n",
            "Sogan sepetinize eklendi.\n",
            "Secmek istediginiz urunun numarasini giriniz ya da cikmak icin 'q' tusuna basiniz. > 3\n",
            "Biber sepetinize eklendi.\n",
            "Secmek istediginiz urunun numarasini giriniz ya da cikmak icin 'q' tusuna basiniz. > q\n",
            "\n",
            "************************************************************************************************************\n",
            "Bizi tercih ettiginiz icin tesekkurler.\n",
            "Satin aldiginiz urunler:\n",
            "Sogan  Biber  "
          ],
          "name": "stdout"
        }
      ]
    },
    {
      "cell_type": "code",
      "metadata": {
        "colab": {
          "base_uri": "https://localhost:8080/"
        },
        "id": "TOfi3gf9Yuzu",
        "outputId": "ddcfc4f5-47ce-48be-82da-8d2c1ba53bcc"
      },
      "source": [
        "user = input(\"hangi şekli oluşturmak istiyorsunuz ÜÇGEN-DÖRTGEN\").title()\n",
        "if user == \"Üçgen\" :\n",
        "  kenar1 = int(input(\"Üçgenin 1. kenarını uzunluğunu giriniz\"))\n",
        "  kenar2 = int(input(\"Üçgenin 2. kenarını uzunluğunu giriniz\"))\n",
        "  kenar3 = int(input(\"Üçgenin 3. kenarını uzunluğunu giriniz\"))\n",
        "  while  (kenar1 > kenar2 + kenar3) or (kenar2 > kenar1 + kenar3) or (kenar3 > kenar1 + kenar2) :\n",
        "    print(\"Seçtiğiniz uzunluklar bir üçgen koşulunu sağlamıyor.\")\n",
        "    kenar1 = int(input(\"Üçgenin 1. kenarını uzunluğunu giriniz\"))\n",
        "    kenar2 = int(input(\"Üçgenin 2. kenarını uzunluğunu giriniz\"))\n",
        "    kenar3 = int(input(\"Üçgenin 3. kenarını uzunluğunu giriniz\"))\n",
        "  if kenar1 == kenar2 == kenar3 :\n",
        "    print(\"Üçgen eşkenar üçgendir.\")\n",
        "  elif (kenar1 == kenar2) or (kenar1 == kenar3) or (kenar2 == kenar3) :\n",
        "    print(\"Üçgeniniz ikizkenar üçgendir.\")\n",
        "  else :\n",
        "    print(\"Üçgeniniz normail bir üçgendir.\")\n",
        "elif user ==\"Dörtgen\" :\n",
        "  kenar1 = int(input(\"Dörtgenin 1. kenarını uzunluğunu giriniz\"))\n",
        "  kenar2 = int(input(\"Dörtgenin 2. kenarını uzunluğunu giriniz\"))\n",
        "  kenar3 = int(input(\"Dörtgenin 3. kenarını uzunluğunu giriniz\"))\n",
        "  kenar4 = int(input(\"Dörtgenin 4. kenarını uzunluğunu giriniz\"))\n",
        "  if kenar1 == kenar2 == kenar3 == kenar4 :\n",
        "    print(\"Dörtgenininz bir karedir\")\n",
        "  elif (kenar1 == kenar2 and kenar3 ==kenar4) or (kenar1 == kenar3 and kenar2 ==kenar4) or (kenar1 == kenar4 and kenar2 ==kenar3) :\n",
        "    print(\"Dörgeniniz bir dikdötgendir\") \n",
        "  else :\n",
        "    print(\"Normal bir dörgendir\")\n",
        "else :\n",
        "  print(\"Yanlış giriş yaptınız\")\n"
      ],
      "execution_count": null,
      "outputs": [
        {
          "output_type": "stream",
          "text": [
            "hangi şekli oluşturmak istiyorsunuz ÜÇGEN-DÖRTGENdörtgen\n",
            "Dörtgenin 1. kenarını uzunluğunu giriniz4\n",
            "Dörtgenin 2. kenarını uzunluğunu giriniz4\n",
            "Dörtgenin 3. kenarını uzunluğunu giriniz4\n",
            "Dörtgenin 4. kenarını uzunluğunu giriniz4\n",
            "Dörtgenininz bir karedir\n"
          ],
          "name": "stdout"
        }
      ]
    },
    {
      "cell_type": "code",
      "metadata": {
        "colab": {
          "base_uri": "https://localhost:8080/",
          "height": 612
        },
        "id": "CHknSBWef736",
        "outputId": "8bde7001-8529-4e93-a75f-c2980cac400b"
      },
      "source": [
        "shape = input(\"Which shape Do you want; for triangle enter 'triangle' for rectangle enter 'rectangle':  \").strip().lower()\n",
        "if shape==\"triangle\":\n",
        "    side1 =int(input(\"Enter lenght \"))\n",
        "side2 =int(input(\"Enter lenght \"))\n",
        "side3=int(input(\"Enter lenght \"))\n",
        "if side1==side2==side3:\n",
        "    print(\"This is a equilateral triangle \")\n",
        "elif side1==side2 or side1==side3 or side2==side3:\n",
        "        print(\"isosceles triangle\")\n",
        "else:\n",
        "        print(\"ordinary triangle\")\n",
        "if shape==\"rectangle\":\n",
        "    rec_side1 =int(input(\"Enter lenght: \"))\n",
        "rec_side2 =int(input(\"Enter lenght: \"))\n",
        "rec_side3=int(input(\"Enter lenght:\"))\n",
        "rec_side4=int(input(\"Enter lenght: \"))\n",
        "if rec_side1==rec_side2==rec_side3==rec_side4:\n",
        "                print(\"This is a square\")\n",
        "elif rec_side1!=rec_side2!=rec_side3!=rec_side4:\n",
        "                print(\"rectangle\" )\n",
        "else:\n",
        "                print(\"ordinary rectangle\")"
      ],
      "execution_count": null,
      "outputs": [
        {
          "output_type": "stream",
          "text": [
            "Which shape Do you want; for triangle enter 'triangle' for rectangle enter 'rectangle':  triangle\n",
            "Enter lenght 1\n",
            "Enter lenght 1\n",
            "Enter lenght 3\n",
            "isosceles triangle\n"
          ],
          "name": "stdout"
        },
        {
          "output_type": "error",
          "ename": "KeyboardInterrupt",
          "evalue": "ignored",
          "traceback": [
            "\u001b[0;31m---------------------------------------------------------------------------\u001b[0m",
            "\u001b[0;31mKeyboardInterrupt\u001b[0m                         Traceback (most recent call last)",
            "\u001b[0;32m/usr/local/lib/python3.7/dist-packages/ipykernel/kernelbase.py\u001b[0m in \u001b[0;36m_input_request\u001b[0;34m(self, prompt, ident, parent, password)\u001b[0m\n\u001b[1;32m    728\u001b[0m             \u001b[0;32mtry\u001b[0m\u001b[0;34m:\u001b[0m\u001b[0;34m\u001b[0m\u001b[0;34m\u001b[0m\u001b[0m\n\u001b[0;32m--> 729\u001b[0;31m                 \u001b[0mident\u001b[0m\u001b[0;34m,\u001b[0m \u001b[0mreply\u001b[0m \u001b[0;34m=\u001b[0m \u001b[0mself\u001b[0m\u001b[0;34m.\u001b[0m\u001b[0msession\u001b[0m\u001b[0;34m.\u001b[0m\u001b[0mrecv\u001b[0m\u001b[0;34m(\u001b[0m\u001b[0mself\u001b[0m\u001b[0;34m.\u001b[0m\u001b[0mstdin_socket\u001b[0m\u001b[0;34m,\u001b[0m \u001b[0;36m0\u001b[0m\u001b[0;34m)\u001b[0m\u001b[0;34m\u001b[0m\u001b[0;34m\u001b[0m\u001b[0m\n\u001b[0m\u001b[1;32m    730\u001b[0m             \u001b[0;32mexcept\u001b[0m \u001b[0mException\u001b[0m\u001b[0;34m:\u001b[0m\u001b[0;34m\u001b[0m\u001b[0;34m\u001b[0m\u001b[0m\n",
            "\u001b[0;32m/usr/local/lib/python3.7/dist-packages/jupyter_client/session.py\u001b[0m in \u001b[0;36mrecv\u001b[0;34m(self, socket, mode, content, copy)\u001b[0m\n\u001b[1;32m    802\u001b[0m         \u001b[0;32mtry\u001b[0m\u001b[0;34m:\u001b[0m\u001b[0;34m\u001b[0m\u001b[0;34m\u001b[0m\u001b[0m\n\u001b[0;32m--> 803\u001b[0;31m             \u001b[0mmsg_list\u001b[0m \u001b[0;34m=\u001b[0m \u001b[0msocket\u001b[0m\u001b[0;34m.\u001b[0m\u001b[0mrecv_multipart\u001b[0m\u001b[0;34m(\u001b[0m\u001b[0mmode\u001b[0m\u001b[0;34m,\u001b[0m \u001b[0mcopy\u001b[0m\u001b[0;34m=\u001b[0m\u001b[0mcopy\u001b[0m\u001b[0;34m)\u001b[0m\u001b[0;34m\u001b[0m\u001b[0;34m\u001b[0m\u001b[0m\n\u001b[0m\u001b[1;32m    804\u001b[0m         \u001b[0;32mexcept\u001b[0m \u001b[0mzmq\u001b[0m\u001b[0;34m.\u001b[0m\u001b[0mZMQError\u001b[0m \u001b[0;32mas\u001b[0m \u001b[0me\u001b[0m\u001b[0;34m:\u001b[0m\u001b[0;34m\u001b[0m\u001b[0;34m\u001b[0m\u001b[0m\n",
            "\u001b[0;32m/usr/local/lib/python3.7/dist-packages/zmq/sugar/socket.py\u001b[0m in \u001b[0;36mrecv_multipart\u001b[0;34m(self, flags, copy, track)\u001b[0m\n\u001b[1;32m    582\u001b[0m         \"\"\"\n\u001b[0;32m--> 583\u001b[0;31m         \u001b[0mparts\u001b[0m \u001b[0;34m=\u001b[0m \u001b[0;34m[\u001b[0m\u001b[0mself\u001b[0m\u001b[0;34m.\u001b[0m\u001b[0mrecv\u001b[0m\u001b[0;34m(\u001b[0m\u001b[0mflags\u001b[0m\u001b[0;34m,\u001b[0m \u001b[0mcopy\u001b[0m\u001b[0;34m=\u001b[0m\u001b[0mcopy\u001b[0m\u001b[0;34m,\u001b[0m \u001b[0mtrack\u001b[0m\u001b[0;34m=\u001b[0m\u001b[0mtrack\u001b[0m\u001b[0;34m)\u001b[0m\u001b[0;34m]\u001b[0m\u001b[0;34m\u001b[0m\u001b[0;34m\u001b[0m\u001b[0m\n\u001b[0m\u001b[1;32m    584\u001b[0m         \u001b[0;31m# have first part already, only loop while more to receive\u001b[0m\u001b[0;34m\u001b[0m\u001b[0;34m\u001b[0m\u001b[0;34m\u001b[0m\u001b[0m\n",
            "\u001b[0;32mzmq/backend/cython/socket.pyx\u001b[0m in \u001b[0;36mzmq.backend.cython.socket.Socket.recv\u001b[0;34m()\u001b[0m\n",
            "\u001b[0;32mzmq/backend/cython/socket.pyx\u001b[0m in \u001b[0;36mzmq.backend.cython.socket.Socket.recv\u001b[0;34m()\u001b[0m\n",
            "\u001b[0;32mzmq/backend/cython/socket.pyx\u001b[0m in \u001b[0;36mzmq.backend.cython.socket._recv_copy\u001b[0;34m()\u001b[0m\n",
            "\u001b[0;32m/usr/local/lib/python3.7/dist-packages/zmq/backend/cython/checkrc.pxd\u001b[0m in \u001b[0;36mzmq.backend.cython.checkrc._check_rc\u001b[0;34m()\u001b[0m\n",
            "\u001b[0;31mKeyboardInterrupt\u001b[0m: ",
            "\nDuring handling of the above exception, another exception occurred:\n",
            "\u001b[0;31mKeyboardInterrupt\u001b[0m                         Traceback (most recent call last)",
            "\u001b[0;32m<ipython-input-21-c393d6d9d048>\u001b[0m in \u001b[0;36m<module>\u001b[0;34m()\u001b[0m\n\u001b[1;32m     12\u001b[0m \u001b[0;32mif\u001b[0m \u001b[0mshape\u001b[0m\u001b[0;34m==\u001b[0m\u001b[0;34m\"rectangle\"\u001b[0m\u001b[0;34m:\u001b[0m\u001b[0;34m\u001b[0m\u001b[0;34m\u001b[0m\u001b[0m\n\u001b[1;32m     13\u001b[0m     \u001b[0mrec_side1\u001b[0m \u001b[0;34m=\u001b[0m\u001b[0mint\u001b[0m\u001b[0;34m(\u001b[0m\u001b[0minput\u001b[0m\u001b[0;34m(\u001b[0m\u001b[0;34m\"Enter lenght: \"\u001b[0m\u001b[0;34m)\u001b[0m\u001b[0;34m)\u001b[0m\u001b[0;34m\u001b[0m\u001b[0;34m\u001b[0m\u001b[0m\n\u001b[0;32m---> 14\u001b[0;31m \u001b[0mrec_side2\u001b[0m \u001b[0;34m=\u001b[0m\u001b[0mint\u001b[0m\u001b[0;34m(\u001b[0m\u001b[0minput\u001b[0m\u001b[0;34m(\u001b[0m\u001b[0;34m\"Enter lenght: \"\u001b[0m\u001b[0;34m)\u001b[0m\u001b[0;34m)\u001b[0m\u001b[0;34m\u001b[0m\u001b[0;34m\u001b[0m\u001b[0m\n\u001b[0m\u001b[1;32m     15\u001b[0m \u001b[0mrec_side3\u001b[0m\u001b[0;34m=\u001b[0m\u001b[0mint\u001b[0m\u001b[0;34m(\u001b[0m\u001b[0minput\u001b[0m\u001b[0;34m(\u001b[0m\u001b[0;34m\"Enter lenght:\"\u001b[0m\u001b[0;34m)\u001b[0m\u001b[0;34m)\u001b[0m\u001b[0;34m\u001b[0m\u001b[0;34m\u001b[0m\u001b[0m\n\u001b[1;32m     16\u001b[0m \u001b[0mrec_side4\u001b[0m\u001b[0;34m=\u001b[0m\u001b[0mint\u001b[0m\u001b[0;34m(\u001b[0m\u001b[0minput\u001b[0m\u001b[0;34m(\u001b[0m\u001b[0;34m\"Enter lenght: \"\u001b[0m\u001b[0;34m)\u001b[0m\u001b[0;34m)\u001b[0m\u001b[0;34m\u001b[0m\u001b[0;34m\u001b[0m\u001b[0m\n",
            "\u001b[0;32m/usr/local/lib/python3.7/dist-packages/ipykernel/kernelbase.py\u001b[0m in \u001b[0;36mraw_input\u001b[0;34m(self, prompt)\u001b[0m\n\u001b[1;32m    702\u001b[0m             \u001b[0mself\u001b[0m\u001b[0;34m.\u001b[0m\u001b[0m_parent_ident\u001b[0m\u001b[0;34m,\u001b[0m\u001b[0;34m\u001b[0m\u001b[0;34m\u001b[0m\u001b[0m\n\u001b[1;32m    703\u001b[0m             \u001b[0mself\u001b[0m\u001b[0;34m.\u001b[0m\u001b[0m_parent_header\u001b[0m\u001b[0;34m,\u001b[0m\u001b[0;34m\u001b[0m\u001b[0;34m\u001b[0m\u001b[0m\n\u001b[0;32m--> 704\u001b[0;31m             \u001b[0mpassword\u001b[0m\u001b[0;34m=\u001b[0m\u001b[0;32mFalse\u001b[0m\u001b[0;34m,\u001b[0m\u001b[0;34m\u001b[0m\u001b[0;34m\u001b[0m\u001b[0m\n\u001b[0m\u001b[1;32m    705\u001b[0m         )\n\u001b[1;32m    706\u001b[0m \u001b[0;34m\u001b[0m\u001b[0m\n",
            "\u001b[0;32m/usr/local/lib/python3.7/dist-packages/ipykernel/kernelbase.py\u001b[0m in \u001b[0;36m_input_request\u001b[0;34m(self, prompt, ident, parent, password)\u001b[0m\n\u001b[1;32m    732\u001b[0m             \u001b[0;32mexcept\u001b[0m \u001b[0mKeyboardInterrupt\u001b[0m\u001b[0;34m:\u001b[0m\u001b[0;34m\u001b[0m\u001b[0;34m\u001b[0m\u001b[0m\n\u001b[1;32m    733\u001b[0m                 \u001b[0;31m# re-raise KeyboardInterrupt, to truncate traceback\u001b[0m\u001b[0;34m\u001b[0m\u001b[0;34m\u001b[0m\u001b[0;34m\u001b[0m\u001b[0m\n\u001b[0;32m--> 734\u001b[0;31m                 \u001b[0;32mraise\u001b[0m \u001b[0mKeyboardInterrupt\u001b[0m\u001b[0;34m\u001b[0m\u001b[0;34m\u001b[0m\u001b[0m\n\u001b[0m\u001b[1;32m    735\u001b[0m             \u001b[0;32melse\u001b[0m\u001b[0;34m:\u001b[0m\u001b[0;34m\u001b[0m\u001b[0;34m\u001b[0m\u001b[0m\n\u001b[1;32m    736\u001b[0m                 \u001b[0;32mbreak\u001b[0m\u001b[0;34m\u001b[0m\u001b[0;34m\u001b[0m\u001b[0m\n",
            "\u001b[0;31mKeyboardInterrupt\u001b[0m: "
          ]
        }
      ]
    },
    {
      "cell_type": "code",
      "metadata": {
        "colab": {
          "base_uri": "https://localhost:8080/"
        },
        "id": "kRykYRrsiRkH",
        "outputId": "1fbba430-c000-46c4-ce86-ceff201fb8b1"
      },
      "source": [
        "user = input(\"Enter your sentences please ? \")\n",
        "a = list(user)\n",
        "k = [\"(\", \")\", \"[\", \"]\", \"{\", \"}\"]\n",
        "\n",
        "if \"(\"  in a :\n",
        "  b = a.index(\"(\")\n",
        "  c = a[b:len(a)]\n",
        " \n",
        "  if \")\" in c :\n",
        "   h = c[1:c.index(\")\")]\n",
        "   for i in h :\n",
        "    if i in k :\n",
        "      print(False)\n",
        "      break\n",
        "    else :\n",
        "      print(True)\n",
        "      break\n",
        "   if \"[\" in c :\n",
        "     b = c.index(\"[\")\n",
        "     d = c[b:len(c)]\n",
        "     if \"]\" in d :\n",
        "       h =d[1:d.index(\"]\")]\n",
        "       for i in h :\n",
        "         if i in k :\n",
        "           print(False)\n",
        "           break\n",
        "         else :\n",
        "            print(True)\n",
        "            break      \n",
        "elif \"[\" in a :\n",
        "  b = a.index(\"[\")\n",
        "  c = a[b:len(a)]\n",
        " \n",
        "  if \"]\" in c :\n",
        "   h = c[1:c.index(\"]\")]\n",
        "   for i in h :\n",
        "    if i in t :\n",
        "      print(False)\n",
        "      break\n",
        "    else :\n",
        "      print(True)\n",
        "elif \"{\" in a :\n",
        "  b = a.index(\"{\")\n",
        "  c = a[b:len(a)]\n",
        "  if \"}\" in c :\n",
        "    print(True)\n",
        "  else :\n",
        "    print(False)\n",
        "\n"
      ],
      "execution_count": null,
      "outputs": [
        {
          "output_type": "stream",
          "text": [
            "Enter your sentences please ? (nfs[mgd]mgfd)\n",
            "True\n",
            "True\n"
          ],
          "name": "stdout"
        }
      ]
    },
    {
      "cell_type": "code",
      "metadata": {
        "colab": {
          "base_uri": "https://localhost:8080/"
        },
        "id": "nYA_3hfGbQuV",
        "outputId": "8ae18510-6ac2-46dc-802b-b96fc6088851"
      },
      "source": [
        "def valid(a):\n",
        "    liste = []\n",
        "    sözlük = {\"]\":\"[\", \"}\":\"{\", \")\":\"(\"}\n",
        "    for i in a:\n",
        "     if i in sözlük.values():\n",
        "        liste.append(i)\n",
        "     elif i in sözlük.keys():\n",
        "        liste.pop()\n",
        "        return liste\n",
        "     else:\n",
        "        return False\n",
        "    return liste == []\n",
        "print(valid(\"[(}]\"))\n",
        "  "
      ],
      "execution_count": null,
      "outputs": [
        {
          "output_type": "stream",
          "text": [
            "['[']\n"
          ],
          "name": "stdout"
        }
      ]
    },
    {
      "cell_type": "code",
      "metadata": {
        "colab": {
          "base_uri": "https://localhost:8080/",
          "height": 129
        },
        "id": "2vUlCru-YhzA",
        "outputId": "30de0698-6e82-4e11-ac1d-2ca70358e64a"
      },
      "source": [
        "x = [\"(\", \"[\"]\n",
        "b = [\")\", \"]\"]\n",
        "def cık(a) :\n",
        " a for i in x \n",
        "  print(i)\n",
        "cık([\"(\", \"/\"])"
      ],
      "execution_count": null,
      "outputs": [
        {
          "output_type": "error",
          "ename": "SyntaxError",
          "evalue": "ignored",
          "traceback": [
            "\u001b[0;36m  File \u001b[0;32m\"<ipython-input-3-0053b7f918c5>\"\u001b[0;36m, line \u001b[0;32m4\u001b[0m\n\u001b[0;31m    a for i in x\u001b[0m\n\u001b[0m        ^\u001b[0m\n\u001b[0;31mSyntaxError\u001b[0m\u001b[0;31m:\u001b[0m invalid syntax\n"
          ]
        }
      ]
    },
    {
      "cell_type": "code",
      "metadata": {
        "colab": {
          "base_uri": "https://localhost:8080/",
          "height": 129
        },
        "id": "IjjSgYeMcu_W",
        "outputId": "28d7643c-950e-4306-f5eb-bfc22926ab11"
      },
      "source": [
        "a = [\"(\", \"[\", \"{\"]\n",
        "b = [\")\", \"]\", \"}\"]\n",
        "\n",
        "list(k)\n",
        "for i in range(len(a)) :\n",
        "  print(a[i])"
      ],
      "execution_count": null,
      "outputs": [
        {
          "output_type": "error",
          "ename": "SyntaxError",
          "evalue": "ignored",
          "traceback": [
            "\u001b[0;36m  File \u001b[0;32m\"<ipython-input-54-761ddd743f56>\"\u001b[0;36m, line \u001b[0;32m1\u001b[0m\n\u001b[0;31m    a = [\"(\", \"[\", \"{\"]\u001b[0m\n\u001b[0m     ^\u001b[0m\n\u001b[0;31mSyntaxError\u001b[0m\u001b[0;31m:\u001b[0m invalid character in identifier\n"
          ]
        }
      ]
    },
    {
      "cell_type": "code",
      "metadata": {
        "colab": {
          "base_uri": "https://localhost:8080/",
          "height": 231
        },
        "id": "vvFkKjsjJ2Pc",
        "outputId": "e6512681-9872-4e92-ca7c-c1f1f7b4d76b"
      },
      "source": [
        "a, opn, cls, que = input(), [\"(\", \"[\", \"{\"], [\")\", \"]\", \"}\"], []\n",
        "for i in a:\n",
        "    [que.insert(0, cls[ii]) for ii in range(3) if i == opn[ii]]\n",
        "    que.append(0) if i in cls and not len(que) else None\n",
        "    que.remove(que[0]) if i == que[0] else None\n",
        "print(\"invalid\") if len(que) else print(\"valid\")"
      ],
      "execution_count": null,
      "outputs": [
        {
          "output_type": "stream",
          "text": [
            "klş)\n"
          ],
          "name": "stdout"
        },
        {
          "output_type": "error",
          "ename": "IndexError",
          "evalue": "ignored",
          "traceback": [
            "\u001b[0;31m---------------------------------------------------------------------------\u001b[0m",
            "\u001b[0;31mIndexError\u001b[0m                                Traceback (most recent call last)",
            "\u001b[0;32m<ipython-input-9-1e89f94ff0e1>\u001b[0m in \u001b[0;36m<module>\u001b[0;34m()\u001b[0m\n\u001b[1;32m      3\u001b[0m     \u001b[0;34m[\u001b[0m\u001b[0mque\u001b[0m\u001b[0;34m.\u001b[0m\u001b[0minsert\u001b[0m\u001b[0;34m(\u001b[0m\u001b[0;36m0\u001b[0m\u001b[0;34m,\u001b[0m \u001b[0mcls\u001b[0m\u001b[0;34m[\u001b[0m\u001b[0mii\u001b[0m\u001b[0;34m]\u001b[0m\u001b[0;34m)\u001b[0m \u001b[0;32mfor\u001b[0m \u001b[0mii\u001b[0m \u001b[0;32min\u001b[0m \u001b[0mrange\u001b[0m\u001b[0;34m(\u001b[0m\u001b[0;36m3\u001b[0m\u001b[0;34m)\u001b[0m \u001b[0;32mif\u001b[0m \u001b[0mi\u001b[0m \u001b[0;34m==\u001b[0m \u001b[0mopn\u001b[0m\u001b[0;34m[\u001b[0m\u001b[0mii\u001b[0m\u001b[0;34m]\u001b[0m\u001b[0;34m]\u001b[0m\u001b[0;34m\u001b[0m\u001b[0;34m\u001b[0m\u001b[0m\n\u001b[1;32m      4\u001b[0m     \u001b[0mque\u001b[0m\u001b[0;34m.\u001b[0m\u001b[0mappend\u001b[0m\u001b[0;34m(\u001b[0m\u001b[0;36m0\u001b[0m\u001b[0;34m)\u001b[0m \u001b[0;32mif\u001b[0m \u001b[0mi\u001b[0m \u001b[0;32min\u001b[0m \u001b[0mcls\u001b[0m \u001b[0;32mand\u001b[0m \u001b[0;32mnot\u001b[0m \u001b[0mlen\u001b[0m\u001b[0;34m(\u001b[0m\u001b[0mque\u001b[0m\u001b[0;34m)\u001b[0m \u001b[0;32melse\u001b[0m \u001b[0;32mNone\u001b[0m\u001b[0;34m\u001b[0m\u001b[0;34m\u001b[0m\u001b[0m\n\u001b[0;32m----> 5\u001b[0;31m     \u001b[0mque\u001b[0m\u001b[0;34m.\u001b[0m\u001b[0mremove\u001b[0m\u001b[0;34m(\u001b[0m\u001b[0mque\u001b[0m\u001b[0;34m[\u001b[0m\u001b[0;36m0\u001b[0m\u001b[0;34m]\u001b[0m\u001b[0;34m)\u001b[0m \u001b[0;32mif\u001b[0m \u001b[0mi\u001b[0m \u001b[0;34m==\u001b[0m \u001b[0mque\u001b[0m\u001b[0;34m[\u001b[0m\u001b[0;36m0\u001b[0m\u001b[0;34m]\u001b[0m \u001b[0;32melse\u001b[0m \u001b[0;32mNone\u001b[0m\u001b[0;34m\u001b[0m\u001b[0;34m\u001b[0m\u001b[0m\n\u001b[0m\u001b[1;32m      6\u001b[0m \u001b[0mprint\u001b[0m\u001b[0;34m(\u001b[0m\u001b[0;34m\"invalid\"\u001b[0m\u001b[0;34m)\u001b[0m \u001b[0;32mif\u001b[0m \u001b[0mlen\u001b[0m\u001b[0;34m(\u001b[0m\u001b[0mque\u001b[0m\u001b[0;34m)\u001b[0m \u001b[0;32melse\u001b[0m \u001b[0mprint\u001b[0m\u001b[0;34m(\u001b[0m\u001b[0;34m\"valid\"\u001b[0m\u001b[0;34m)\u001b[0m\u001b[0;34m\u001b[0m\u001b[0;34m\u001b[0m\u001b[0m\n",
            "\u001b[0;31mIndexError\u001b[0m: list index out of range"
          ]
        }
      ]
    },
    {
      "cell_type": "code",
      "metadata": {
        "colab": {
          "base_uri": "https://localhost:8080/"
        },
        "id": "Pvs4h3sdZByl",
        "outputId": "eb04bb6e-6103-4169-8f70-33783dc2eefa"
      },
      "source": [
        "def sum_list(items):\n",
        "    sum_numbers = 0\n",
        "    for x in items:\n",
        "        sum_numbers += x\n",
        "    return x\n",
        "print(sum_list([1,2,-8,9]))\n",
        "\n",
        "\n"
      ],
      "execution_count": null,
      "outputs": [
        {
          "output_type": "stream",
          "text": [
            "9\n"
          ],
          "name": "stdout"
        }
      ]
    },
    {
      "cell_type": "code",
      "metadata": {
        "colab": {
          "base_uri": "https://localhost:8080/"
        },
        "id": "cKVKpe1PHFha",
        "outputId": "337db92f-09a4-47a0-a329-1f5c39e480f6"
      },
      "source": [
        "def brothers(bro1, bro2, bro3):\n",
        "    print('Here are the names of brothers :')\n",
        "    print(bro1, bro2, bro3, sep='\\n')\n",
        "  \n",
        "\n",
        "brothers(\"tom\", \"sue\", \"tim\" )\n",
        "bros = [\"tom\", \"sue\" ,\"tim\"]\n",
        "brothers(*bros)"
      ],
      "execution_count": null,
      "outputs": [
        {
          "output_type": "stream",
          "text": [
            "Here are the names of brothers :\n",
            "tom\n",
            "sue\n",
            "tim\n",
            "Here are the names of brothers :\n",
            "tom\n",
            "sue\n",
            "tim\n"
          ],
          "name": "stdout"
        }
      ]
    },
    {
      "cell_type": "code",
      "metadata": {
        "colab": {
          "base_uri": "https://localhost:8080/",
          "height": 35
        },
        "id": "u3Hj7gxXHx5b",
        "outputId": "433cd54e-a9b4-4c38-c5a9-26ed0deb0d0a"
      },
      "source": [
        "def mantık(kelime) :\n",
        "  return kelime.upper()\n",
        "kelime = \"emrekaya\"\n",
        "mantık(kelime)"
      ],
      "execution_count": null,
      "outputs": [
        {
          "output_type": "execute_result",
          "data": {
            "application/vnd.google.colaboratory.intrinsic+json": {
              "type": "string"
            },
            "text/plain": [
              "'EMREKAYA'"
            ]
          },
          "metadata": {
            "tags": []
          },
          "execution_count": 5
        }
      ]
    },
    {
      "cell_type": "code",
      "metadata": {
        "colab": {
          "base_uri": "https://localhost:8080/"
        },
        "id": "AKHr7ljxIY11",
        "outputId": "ddc8ea08-abd2-4d8c-bf65-27f016d8a8b9"
      },
      "source": [
        "cümle = \"ben şu an şriana geldim\"\n",
        "\n",
        "def voweler(letter) :\n",
        "  vowels = [\"a\", \"e\" ,\"ı\", \"i\", \"o\", \"ö\", \"u\", \"ü\"]\n",
        "  if letter in vowels :\n",
        "    return True\n",
        "  else :\n",
        "    return False\n",
        "filter_vowels = filter(voweler, cümle)\n",
        "list(filter_vowels)"
      ],
      "execution_count": null,
      "outputs": [
        {
          "output_type": "execute_result",
          "data": {
            "text/plain": [
              "['e', 'u', 'a', 'i', 'a', 'a', 'e', 'i']"
            ]
          },
          "metadata": {
            "tags": []
          },
          "execution_count": 18
        }
      ]
    },
    {
      "cell_type": "code",
      "metadata": {
        "colab": {
          "base_uri": "https://localhost:8080/",
          "height": 35
        },
        "id": "lOSA33s8N2zu",
        "outputId": "76d919c7-f2e0-417a-b929-feb457a2237d"
      },
      "source": [
        "def merger(a, b, c, d) :\n",
        "  return \"For me, {}, {} and {}, {} are all of genius\".format(a,b,c,d)\n",
        "genius = [\"Bill\", \"Gates\", \"Guido van\", \"Ruussom\"]\n",
        "merger(*genius)"
      ],
      "execution_count": null,
      "outputs": [
        {
          "output_type": "execute_result",
          "data": {
            "application/vnd.google.colaboratory.intrinsic+json": {
              "type": "string"
            },
            "text/plain": [
              "'For me, Bill, Gates and Guido van, Ruussom are all of genius'"
            ]
          },
          "metadata": {
            "tags": []
          },
          "execution_count": 20
        }
      ]
    },
    {
      "cell_type": "code",
      "metadata": {
        "colab": {
          "base_uri": "https://localhost:8080/"
        },
        "id": "HUuM8nWLS2nW",
        "outputId": "099db024-323b-4b41-c01b-a582ae1df45d"
      },
      "source": [
        "def once(**parametre) :\n",
        "  for x, y in parametre.items() :\n",
        "    print(x,y)\n",
        "once(a = \"ahmet\", b = \"mehmet\", c = \"selamet\")"
      ],
      "execution_count": null,
      "outputs": [
        {
          "output_type": "stream",
          "text": [
            "a ahmet\n",
            "b mehmet\n",
            "c selamet\n"
          ],
          "name": "stdout"
        }
      ]
    },
    {
      "cell_type": "code",
      "metadata": {
        "colab": {
          "base_uri": "https://localhost:8080/"
        },
        "id": "-gTSm5uhUT4x",
        "outputId": "e7a17179-86de-4661-afc8-fbcdf87d5a21"
      },
      "source": [
        "def once(a,b,c) :\n",
        "  for x,y in parametre.items() :\n",
        "    print(x,y)\n",
        "parametre = {\"a\" : \"ahmet\", \"b\" : \"mehmet\", \"c\" : \"selamet\"}\n",
        "once(**parametre)\n"
      ],
      "execution_count": null,
      "outputs": [
        {
          "output_type": "stream",
          "text": [
            "a ahmet\n",
            "b mehmet\n",
            "c selamet\n"
          ],
          "name": "stdout"
        }
      ]
    },
    {
      "cell_type": "code",
      "metadata": {
        "colab": {
          "base_uri": "https://localhost:8080/"
        },
        "id": "XWfw0snpTQ6V",
        "outputId": "83001c5d-7f56-4806-fe58-5845a66d875e"
      },
      "source": [
        "def gene(x ,y) :\n",
        "  print(x, \"belongs to GEeration X\")\n",
        "  print(y, \"Belongs to Generation Y\")\n",
        "dict_gene = {\"y\" : \"Mary\", \"x\" : \"Fred\"}\n",
        "gene(**dict_gene)"
      ],
      "execution_count": null,
      "outputs": [
        {
          "output_type": "stream",
          "text": [
            "Fred belongs to GEeration X\n",
            "Mary Belongs to Generation Y\n"
          ],
          "name": "stdout"
        }
      ]
    },
    {
      "cell_type": "code",
      "metadata": {
        "colab": {
          "base_uri": "https://localhost:8080/"
        },
        "id": "xxQ1wKRrVtD7",
        "outputId": "efd87dd5-b9c8-4528-a622-2e9ada40ff7a"
      },
      "source": [
        "dict_couple = {\"bride\" : [\"mary\" , \"bella\" , \"linda\", \"emma\"],\n",
        "               \"groom\" : [\"jack\", \"eric\", \"robert\", \"adam\"]}\n",
        "\n",
        "def muruvvet(bride,groom):\n",
        "  couple_list = []\n",
        "  for x in zip(bride, groom) :\n",
        "    couple_list.append(x)\n",
        "  return couple_list\n",
        "muruvvet(**dict_couple)"
      ],
      "execution_count": null,
      "outputs": [
        {
          "output_type": "execute_result",
          "data": {
            "text/plain": [
              "[('mary', 'jack'), ('bella', 'eric'), ('linda', 'robert'), ('emma', 'adam')]"
            ]
          },
          "metadata": {
            "tags": []
          },
          "execution_count": 36
        }
      ]
    },
    {
      "cell_type": "code",
      "metadata": {
        "colab": {
          "base_uri": "https://localhost:8080/"
        },
        "id": "MrxkiULuaEPW",
        "outputId": "369327c2-caeb-41f6-a37c-3b65ba2cd909"
      },
      "source": [
        "def muruvvet_2(bride, groom):\n",
        "  return [x for x in zip(bride, groom)] \n",
        "muruvvet_2(**dict_couple)"
      ],
      "execution_count": null,
      "outputs": [
        {
          "output_type": "execute_result",
          "data": {
            "text/plain": [
              "[('mary', 'jack'), ('bella', 'eric'), ('linda', 'robert'), ('emma', 'adam')]"
            ]
          },
          "metadata": {
            "tags": []
          },
          "execution_count": 52
        }
      ]
    },
    {
      "cell_type": "code",
      "metadata": {
        "colab": {
          "base_uri": "https://localhost:8080/"
        },
        "id": "qZrHRIdrXqbx",
        "outputId": "094c0d9e-2229-4519-c9e2-dae6887138ac"
      },
      "source": [
        "friends = {\"ali\" : 44, \"mehemt\": 12, \"zeki\" : 15,\"ahmet\" : 44}\n",
        "def meaner(ali,mehemt,zeki,ahmet) :\n",
        "  avg = (ali+mehemt+zeki+ahmet) / 4\n",
        "  return avg\n",
        "meaner(**friends)"
      ],
      "execution_count": null,
      "outputs": [
        {
          "output_type": "execute_result",
          "data": {
            "text/plain": [
              "28.75"
            ]
          },
          "metadata": {
            "tags": []
          },
          "execution_count": 49
        }
      ]
    },
    {
      "cell_type": "code",
      "metadata": {
        "colab": {
          "base_uri": "https://localhost:8080/"
        },
        "id": "T1iezyjLiJ0-",
        "outputId": "92fb984f-bf63-47cc-e221-d53f3e49898a"
      },
      "source": [
        "x = input(\"İnput a text please? \")\n",
        "def isValid(b) :\n",
        "  b = [\"(\",\")\",\"{\",\"}\",\"[\",\"]\"]\n",
        "  a = []\n",
        "  k = \"\"\n",
        "  h= list(x)\n",
        "  for i in h :\n",
        "    if i in b :\n",
        "      a.append(i)\n",
        "  for i in range(len(a)):\n",
        "    k = k + a[i] \n",
        "    \n",
        "  while \"()\" in k or \"[]\" in k or \"{}\" in k :\n",
        "    k = k.replace(\"()\", \"\").replace(\"[]\", \"\").replace(\"{}\", \"\")\n",
        "  return k == \"\"\n",
        "isValid(x)"
      ],
      "execution_count": null,
      "outputs": [
        {
          "output_type": "stream",
          "text": [
            "İnput a text please? ([nfsd])\n"
          ],
          "name": "stdout"
        },
        {
          "output_type": "execute_result",
          "data": {
            "text/plain": [
              "True"
            ]
          },
          "metadata": {
            "tags": []
          },
          "execution_count": 68
        }
      ]
    },
    {
      "cell_type": "code",
      "metadata": {
        "colab": {
          "base_uri": "https://localhost:8080/",
          "height": 35
        },
        "id": "ZNG2sUlcmMLy",
        "outputId": "742b96f9-eb52-4889-8c97-1b4de632c5b9"
      },
      "source": [
        "\"ali-veli\".replace(\"-\", \"\")"
      ],
      "execution_count": null,
      "outputs": [
        {
          "output_type": "execute_result",
          "data": {
            "application/vnd.google.colaboratory.intrinsic+json": {
              "type": "string"
            },
            "text/plain": [
              "'aliveli'"
            ]
          },
          "metadata": {
            "tags": []
          },
          "execution_count": 55
        }
      ]
    },
    {
      "cell_type": "code",
      "metadata": {
        "colab": {
          "base_uri": "https://localhost:8080/"
        },
        "id": "2DiV-s3DE2kX",
        "outputId": "7a692d24-310c-4da2-f490-332224ed9b0d"
      },
      "source": [
        "# initialize the list of an integer array representing the elevation, and set it to empty\n",
        "height = []\n",
        "# Unless user types `ok`, get input of numbers from the user\n",
        "while True:\n",
        "    num = input(\"Type 'ok' when you are done: \")\n",
        "    # if the input is not equal to `ok`, add the input number to the height array\n",
        "    if num != \"ok\":\n",
        "        height.append(int(num))\n",
        "    # if the input equals to `ok`, get out of the while loop\n",
        "    else:\n",
        "        break\n",
        "# initialize areas which holds total amount of water to be trapped, and set to 0\n",
        "areas = 0\n",
        "# initialize maximum left and right, and set to 0\n",
        "max_l = max_r = 0\n",
        "# initialize left, and set to 0\n",
        "l = 0\n",
        "# initialize right and set to the last index of the input array\n",
        "r = len(height)-1\n",
        "# unless the current position of the height on left\n",
        "# is not greater than the one on right, run the loop\n",
        "while l < r:\n",
        "    # if the current position on left is lower than the right,\n",
        "    # max level on left determines the amount of water to be trapped.\n",
        "    if height[l] < height[r]:\n",
        "        # if the current height on left is greater than max height on left\n",
        "        # then the water not to be trapped, and set the max height to the new max\n",
        "        if height[l] > max_l:\n",
        "            max_l = height[l]\n",
        "        # otherwise, add the amount of water to be trapped.\n",
        "        else:\n",
        "            areas += max_l - height[l]\n",
        "        # increase current position on left by one\n",
        "        l += 1\n",
        "    # if the current position on left is higher than the right,\n",
        "    # max level on right determines the amount of water to be trapped.\n",
        "    else:\n",
        "        # if the current height on right is greater than max height on height\n",
        "        # then the water not to be trapped, and set the max height to the new max\n",
        "        if height[r] > max_r:\n",
        "            max_r = height[r]\n",
        "        # otherwise, add the amount of water to be trapped.\n",
        "        else:\n",
        "            areas += max_r - height[r]\n",
        "        # decrease current position on right by one\n",
        "        r -= 1\n",
        "# print the amount of water to be trapped\n",
        "print(\"\\nRain-trapped area : \", areas)"
      ],
      "execution_count": null,
      "outputs": [
        {
          "output_type": "stream",
          "text": [
            "Type 'ok' when you are done: 3\n",
            "Type 'ok' when you are done: 4\n",
            "Type 'ok' when you are done: 3\n",
            "Type 'ok' when you are done: 2\n",
            "Type 'ok' when you are done: 5\n",
            "Type 'ok' when you are done: ok\n",
            "\n",
            "Rain-trapped area :  3\n"
          ],
          "name": "stdout"
        }
      ]
    },
    {
      "cell_type": "code",
      "metadata": {
        "colab": {
          "base_uri": "https://localhost:8080/"
        },
        "id": "-3ddInJKZahY",
        "outputId": "388e6906-f7dc-420b-ddf5-e5a01013e020"
      },
      "source": [
        "print((lambda x: \"odd\" if x % 2 != 0 else \"even\")(5))"
      ],
      "execution_count": null,
      "outputs": [
        {
          "output_type": "stream",
          "text": [
            "odd\n"
          ],
          "name": "stdout"
        }
      ]
    },
    {
      "cell_type": "code",
      "metadata": {
        "colab": {
          "base_uri": "https://localhost:8080/"
        },
        "id": "jwFVMpjra-oM",
        "outputId": "0313f06a-0bc3-4032-dcc3-596141fd9356"
      },
      "source": [
        "a = \"clarusway\"\n",
        "b = (lambda x : x[::-1])(a)\n",
        "print(b)"
      ],
      "execution_count": null,
      "outputs": [
        {
          "output_type": "stream",
          "text": [
            "yawsuralc\n"
          ],
          "name": "stdout"
        }
      ]
    },
    {
      "cell_type": "code",
      "metadata": {
        "colab": {
          "base_uri": "https://localhost:8080/"
        },
        "id": "uxxrkoetdds9",
        "outputId": "b48c0d1c-c03d-48c4-9c07-ec741bd3dad9"
      },
      "source": [
        "h = [2,5,3,6,6,23,56]\n",
        "for i in h : print(i , \":\" , (lambda i : \"odd\" if i % 2 != 0 else  \"even\")(i))"
      ],
      "execution_count": null,
      "outputs": [
        {
          "output_type": "stream",
          "text": [
            "2 : even\n",
            "5 : odd\n",
            "3 : odd\n",
            "6 : even\n",
            "6 : even\n",
            "23 : odd\n",
            "56 : even\n"
          ],
          "name": "stdout"
        }
      ]
    },
    {
      "cell_type": "code",
      "metadata": {
        "colab": {
          "base_uri": "https://localhost:8080/",
          "height": 129
        },
        "id": "wxWMyq3oifkp",
        "outputId": "ec178dce-99b5-4322-ec6e-ea521acc6acd"
      },
      "source": [
        "g = list(range(1,100))\n",
        "for i in g : print((lambda i : \"FizzBuzz\" if i % 15 == 0 , \"Fizz\" else i)(i))\n",
        "ougvccccccc\""
      ],
      "execution_count": null,
      "outputs": [
        {
          "output_type": "error",
          "ename": "SyntaxError",
          "evalue": "ignored",
          "traceback": [
            "\u001b[0;36m  File \u001b[0;32m\"<ipython-input-42-c5f36d6f3ef3>\"\u001b[0;36m, line \u001b[0;32m3\u001b[0m\n\u001b[0;31m    ougvccccccc\"\u001b[0m\n\u001b[0m                ^\u001b[0m\n\u001b[0;31mSyntaxError\u001b[0m\u001b[0;31m:\u001b[0m EOL while scanning string literal\n"
          ]
        }
      ]
    },
    {
      "cell_type": "code",
      "metadata": {
        "colab": {
          "base_uri": "https://localhost:8080/"
        },
        "id": "-mCU4orcmkRY",
        "outputId": "64d4ca8d-1cee-4563-a0b4-a8cdad774d78"
      },
      "source": [
        "\n",
        "def paw(x) :\n",
        "  return x ** 2\n",
        "result = map(paw ,[1,2,3] )\n",
        "print(list(result))\n",
        "print(* result)"
      ],
      "execution_count": null,
      "outputs": [
        {
          "output_type": "stream",
          "text": [
            "[1, 4, 9]\n",
            "\n"
          ],
          "name": "stdout"
        }
      ]
    },
    {
      "cell_type": "code",
      "metadata": {
        "colab": {
          "base_uri": "https://localhost:8080/"
        },
        "id": "dZCW8-qspCkr",
        "outputId": "229852e1-a050-4327-c187-279fa86b71ef"
      },
      "source": [
        "let1 = [\"a\", \"b\", \"c\"]\n",
        "let2 = [\"d\", \"e\", \"g\"]\n",
        "let3 = [\"f\", \"h\", \"k\"]\n",
        "numbers = map(lambda x, y, z : x + y + z , let1, let2, let3)\n",
        "print(list(numbers))"
      ],
      "execution_count": null,
      "outputs": [
        {
          "output_type": "stream",
          "text": [
            "['adf', 'beh', 'cgk']\n"
          ],
          "name": "stdout"
        }
      ]
    },
    {
      "cell_type": "code",
      "metadata": {
        "colab": {
          "base_uri": "https://localhost:8080/"
        },
        "id": "X4xUVBmoqRlR",
        "outputId": "7d9179cf-7a82-49dd-d391-c1bb5d30441b"
      },
      "source": [
        "num1 = [9,6,7,4]\n",
        "num2 = [3,6,5,8]\n",
        "k = map(lambda x, y : (x+y)/2 , num1, num2)\n",
        "print(list(k))"
      ],
      "execution_count": null,
      "outputs": [
        {
          "output_type": "stream",
          "text": [
            "[6.0, 6.0, 6.0, 6.0]\n"
          ],
          "name": "stdout"
        }
      ]
    },
    {
      "cell_type": "code",
      "metadata": {
        "colab": {
          "base_uri": "https://localhost:8080/"
        },
        "id": "T1Sd-Rsvrc4q",
        "outputId": "3376d759-4a95-4124-ed30-ddc14a63df81"
      },
      "source": [
        "kelime = [\"ali veli deli\", \"ayşe fatma zehra\", \"erzurum çarşı pazar\"]\n",
        "k = map(lambda x : len(x) , kelime)\n",
        "list(map(len, kelime))\n",
        "list(map(sorted, kelime))"
      ],
      "execution_count": 1,
      "outputs": [
        {
          "output_type": "execute_result",
          "data": {
            "text/plain": [
              "[[' ', ' ', 'a', 'd', 'e', 'e', 'i', 'i', 'i', 'l', 'l', 'l', 'v'],\n",
              " [' ',\n",
              "  ' ',\n",
              "  'a',\n",
              "  'a',\n",
              "  'a',\n",
              "  'a',\n",
              "  'e',\n",
              "  'e',\n",
              "  'f',\n",
              "  'h',\n",
              "  'm',\n",
              "  'r',\n",
              "  't',\n",
              "  'y',\n",
              "  'z',\n",
              "  'ş'],\n",
              " [' ',\n",
              "  ' ',\n",
              "  'a',\n",
              "  'a',\n",
              "  'a',\n",
              "  'e',\n",
              "  'm',\n",
              "  'p',\n",
              "  'r',\n",
              "  'r',\n",
              "  'r',\n",
              "  'r',\n",
              "  'u',\n",
              "  'u',\n",
              "  'z',\n",
              "  'z',\n",
              "  'ç',\n",
              "  'ı',\n",
              "  'ş']]"
            ]
          },
          "metadata": {
            "tags": []
          },
          "execution_count": 1
        }
      ]
    },
    {
      "cell_type": "code",
      "metadata": {
        "colab": {
          "base_uri": "https://localhost:8080/"
        },
        "id": "YtaiVQ_4w7Oq",
        "outputId": "0a40bf33-4865-4b47-8b7e-a88dd0684034"
      },
      "source": [
        "gh = [0 ,1 ,2, 3, 4, 5, 6]\n",
        "even = filter(lambda x : x % 2 == 0, gh)\n",
        "print(\"even numbers are : \", list(even))"
      ],
      "execution_count": null,
      "outputs": [
        {
          "output_type": "stream",
          "text": [
            "even numbers are :  [0, 2, 4, 6]\n"
          ],
          "name": "stdout"
        }
      ]
    },
    {
      "cell_type": "code",
      "metadata": {
        "colab": {
          "base_uri": "https://localhost:8080/"
        },
        "id": "kyJOp83AyhWl",
        "outputId": "07825e4e-03fe-4d2a-99be-6ca90589b179"
      },
      "source": [
        "words = [\"apple\", \"swim\", \"clock\", \"me\", \"kiwi\", \"banana\"]\n",
        "h = filter(lambda x : len(x) < 5 , words )\n",
        "g = map(lambda x : len(x) < 5 , words)\n",
        "print(list(h))\n",
        "print(list(g))"
      ],
      "execution_count": null,
      "outputs": [
        {
          "output_type": "stream",
          "text": [
            "['swim', 'me', 'kiwi']\n",
            "[False, True, False, True, True, False]\n"
          ],
          "name": "stdout"
        }
      ]
    },
    {
      "cell_type": "code",
      "metadata": {
        "colab": {
          "base_uri": "https://localhost:8080/"
        },
        "id": "ekpEsz-80QWD",
        "outputId": "21843f80-36af-403e-a807-993f7e1f326f"
      },
      "source": [
        "x = y = 0\n",
        "C = [\"right 20\" , \"right 30\" , \"left 50\", \"up 10 \", \"down 20\"]\n",
        "for i in range(len(C)) :\n",
        "  if C[i].startswith(\"r\") : x = x + int(C[i].split()[1])\n",
        "  elif C[i].startswith(\"l\") : x = x - int(C[i].split()[1])\n",
        "  elif C[i].startswith(\"u\") : y = y + int(C[i].split()[1])\n",
        "  elif C[i].startswith(\"d\") : y = y - int(C[i].split()[1])\n",
        "\n",
        "[x, y]\n",
        "\n",
        "  "
      ],
      "execution_count": null,
      "outputs": [
        {
          "output_type": "execute_result",
          "data": {
            "text/plain": [
              "[0, -10]"
            ]
          },
          "metadata": {
            "tags": []
          },
          "execution_count": 79
        }
      ]
    },
    {
      "cell_type": "code",
      "metadata": {
        "colab": {
          "base_uri": "https://localhost:8080/",
          "height": 163
        },
        "id": "pJrZEfCq5rEU",
        "outputId": "663da345-470f-4d52-a32a-8ed7888f917e"
      },
      "source": [
        ""
      ],
      "execution_count": null,
      "outputs": [
        {
          "output_type": "error",
          "ename": "NameError",
          "evalue": "ignored",
          "traceback": [
            "\u001b[0;31m---------------------------------------------------------------------------\u001b[0m",
            "\u001b[0;31mNameError\u001b[0m                                 Traceback (most recent call last)",
            "\u001b[0;32m<ipython-input-77-bffdc8724830>\u001b[0m in \u001b[0;36m<module>\u001b[0;34m()\u001b[0m\n\u001b[0;32m----> 1\u001b[0;31m \u001b[0msayısaldeger\u001b[0m \u001b[0;34m=\u001b[0m \u001b[0mC\u001b[0m\u001b[0;34m[\u001b[0m\u001b[0;36m0\u001b[0m\u001b[0;34m]\u001b[0m\u001b[0;34m.\u001b[0m\u001b[0msplit\u001b[0m\u001b[0;34m(\u001b[0m\u001b[0;34m)\u001b[0m\u001b[0;34m\u001b[0m\u001b[0;34m\u001b[0m\u001b[0m\n\u001b[0m",
            "\u001b[0;31mNameError\u001b[0m: name 'C' is not defined"
          ]
        }
      ]
    }
  ]
}